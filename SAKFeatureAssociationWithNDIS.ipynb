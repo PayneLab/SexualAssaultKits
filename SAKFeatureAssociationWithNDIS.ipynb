{
  "nbformat": 4,
  "nbformat_minor": 0,
  "metadata": {
    "colab": {
      "name": "SAKFeatureAssociationWithNDIS.ipynb",
      "provenance": [],
      "collapsed_sections": [
        "zrHVHGjYOEOj",
        "xovVbizkoj1S",
        "mynhBq3GLNs0",
        "xoCKHtw5owXu",
        "AmdZJtmvk9FS",
        "eZ0M2oGWkMKE",
        "IVp1ZgXh_LgB"
      ],
      "include_colab_link": true
    },
    "kernelspec": {
      "name": "python3",
      "display_name": "Python 3"
    }
  },
  "cells": [
    {
      "cell_type": "markdown",
      "metadata": {
        "id": "view-in-github",
        "colab_type": "text"
      },
      "source": [
        "<a href=\"https://colab.research.google.com/github/devorahst/Test/blob/main/SAKFeatureAssociationWithNDIS.ipynb\" target=\"_parent\"><img src=\"https://colab.research.google.com/assets/colab-badge.svg\" alt=\"Open In Colab\"/></a>"
      ]
    },
    {
      "cell_type": "markdown",
      "metadata": {
        "id": "G2y3xZZN3oIp"
      },
      "source": [
        "#**Feature Association for Variables Impacting NDIS Eligibility**\n",
        "This dataset contains information from 5,643 sexual assault kits (SAK) collected within the state of Utah. Each row provides information for a single kit while column values are features that indicate a patient's response to questions regarding their specific case. The aim of this script is to sort through these features and determine which are significant in determining whether a SAK will produce a National DNA Index System (NDIS) eligible profile. Determining significance will be done by running Chi-Square, Anova, and T-Tests, depending on wheter the data is numerical or catagorical."
      ]
    },
    {
      "cell_type": "markdown",
      "metadata": {
        "id": "zrHVHGjYOEOj"
      },
      "source": [
        "# Part 1. Set-Up\n",
        "First, we must download the dataset. Upon running the cell, you will be prompted to login to your Gmail account. You will then be provided with a one-time use code to copy and paste into the slot below. After hitting enter, the dataset will load into this script.\n",
        "\n",
        "*See [IO Notebook](https://colab.research.google.com/drive/1fuF8iahEqBFV62Y6OoiEViUqHo-DbXrT) for more information about set-up and interacting with our dataset"
      ]
    },
    {
      "cell_type": "code",
      "metadata": {
        "id": "_29x6D939k8h",
        "colab": {
          "base_uri": "https://localhost:8080/"
        },
        "cellView": "form",
        "outputId": "40a9e81e-8a9d-4220-d3c0-07acc6f2098b"
      },
      "source": [
        "#pulls up our SAK dataset\n",
        "#@title Upload Dataset\n",
        "file_id = \"13DLmmbYXonl9alHR4VobfeTuA_IxlQxZ\" #@param {type:\"string\"}\n",
        "!pip install -U -q PyDrive\n",
        "\n",
        "from pydrive.auth import GoogleAuth\n",
        "from pydrive.drive import GoogleDrive\n",
        "from google.colab import auth\n",
        "from oauth2client.client import GoogleCredentials\n",
        "\n",
        "auth.authenticate_user()\n",
        "gauth = GoogleAuth()\n",
        "gauth.credentials = GoogleCredentials.get_application_default()\n",
        "drive = GoogleDrive(gauth)\n",
        "\n",
        "from google.colab import auth\n",
        "auth.authenticate_user()\n",
        "\n",
        "from googleapiclient.discovery import build\n",
        "drive_service = build('drive', 'v3')\n",
        "\n",
        "import io\n",
        "from googleapiclient.http import MediaIoBaseDownload\n",
        "\n",
        "request = drive_service.files().get_media(fileId=file_id)\n",
        "downloaded = io.BytesIO()\n",
        "downloader = MediaIoBaseDownload(downloaded, request)\n",
        "done = False\n",
        "while done is False:\n",
        "  _, done = downloader.next_chunk()\n",
        "\n",
        "fileId = drive.CreateFile({'id': file_id }) #DRIVE_FILE_ID is file id example: 1iytA1n2z4go3uVCwE_vIKouTKyIDjEq\n",
        "print(fileId['title'])  \n",
        "fileId.GetContentFile(fileId['title'])  # Save Drive file as a local file\n",
        "\n",
        "!pip install -U scikit-learn\n",
        "\n",
        "from scipy.stats import chi2_contingency\n",
        "from scipy import stats\n",
        "import pandas as pd\n",
        "import numpy as np\n",
        "import seaborn as sns\n",
        "import matplotlib.pyplot as plt\n",
        "%matplotlib inline\n",
        "\n",
        "# To change scientific numbers to float\n",
        "np.set_printoptions(formatter={'float_kind':'{:f}'.format})\n",
        "\n",
        "with open(fileId['title'], encoding=\"utf8\", errors='ignore') as f:\n",
        "  df = pd.read_csv(f)\n",
        "\n",
        "df = df.apply(pd.to_numeric, errors='ignore')\n",
        "predictedVariable = \"CODISNDISeligibleProfile\"\n",
        "\n",
        "\n",
        "#delete rows that don't have a value for CODISNDISeligibleProfile\n",
        "\n",
        "predictedFeatures = ['CODISNDISeligibleProfile', 'SDISeligibleprofile']  \n",
        "\n",
        "numericalFeatures = ['Age', 'Timebetweenassaultandexaminhours', 'PainLevel', 'MulitipleSuspectNumber', \n",
        "                     'NumberofUnknownresponses', 'NumberAssaultiveActs', 'Numberofphysicalinjuries', 'Numberofgentialinjuries',\n",
        "                     'NumberOFitemsTested', 'TimeBetweenCollectAndDNAext', 'TimeBetweenSubmissionANDtesting', 'NumberOfswabsQuantMaleDNA',\n",
        "                     'NumberOfswabsDNAanalysis', 'NumberofSTRDNAloci', 'NumberOFswabsSTRDNAprofile', 'NumberOfYSTRDNAloci']\n",
        "\n",
        "categoricalFeatures = ['Site', 'EXAMbySANE', 'YearKitCollected', 'KITbroughtTOcrimelab', 'KITlengthofSubmissionTime',\n",
        "                       'UnderAge18', 'Gender', 'ExamDeclined', 'Noninterview', 'Race', 'PriorHxofSAover14',\n",
        "                       'PriorHxofSAunder14', 'Student', 'Military', 'Pain', 'PainLocation1','PainLocation2', \n",
        "                       'PainLocation3', 'PainLocation4','PainTreatment', 'PermanentAddress', 'CurrentPhysicalmedprob',\n",
        "                       'MedProbChronic', 'MedProbInfection', 'MedProbBlood', 'MedProbCardiac', 'MedProbEar', 'MedProbEndocrine',\n",
        "                       'MedProbEye', 'MedProbGI', 'MedProbGU', 'MedProbGYN', 'MedProbImmune', 'MedProbMusculoskeletal', 'MedProbNeurological',\n",
        "                       'MedProbOral', 'MedProbRenal', 'MedProbRespiratory', 'MedProbSkin', 'MedProbOther', 'Medication',\n",
        "                       'PsychotropicMEDuse', 'PsychotropicANTIPSYCHOTICSatypical', 'PsychotropicSTIMULANTuse', 'PsychotropicANTIANXIETY', \n",
        "                       'PsychotropicANTIDEPRESSANTS', 'PsychotropicANTISEIZUREbipolar', 'PsychotropicADDICTIONmeds','PsychotropicSLEEPaid', 'PsychotropicOTHER', \n",
        "                       'PsychotropicANTIPSYCHOTICStypical', 'PolypharmacyPsychMeds', 'ImmunizationstatusTETANUS', 'ReceivedTetanus',\n",
        "                       'ImmunizationstatusHEP', 'ReceivedHepB', 'Sexualcontactwithin120hours', 'Selfdisclosurementalillness', 'MIdepression',\n",
        "                       'MIanxiety', 'MIPTSD', 'MIpsychoticDisorders', 'MIadhd', 'MIpersonalitydisorder', 'MIbipolar', 'MIeatingdisorder', 'MIdrugalcoholdisorders', \n",
        "                       'MIother', 'SelfDiscolsureMentalillnessORuseofpsychotropics', 'OnlineMeetingOFsuspect', 'Suspectrelationship',\n",
        "                       'Locationofassault', 'PatientActionScratch', 'PatientActionBite', 'PatientActionHit', 'PatientActionKick', 'PatientActionOther',\n",
        "                       'Suspectrace', 'SuspectactionVERBAL', 'SuspectactionsGRABBEDHELD', 'SuspectactionsPHYSICALBLOWS', 'SuspectactionsSTRANGLEDCHOKED',\n",
        "                       'SuspectactionsWEAPON', 'SuspectactionsRESTRAINTS', 'SuspectactionsBURNED', 'MultipleSuspects', 'SuspectedDrugfacilitated',\n",
        "                       'Patientdruguse', 'PatientETOHuse', 'Suspectdruguse', 'SuspectETOHuse', 'PatientSuspectETOHordrug', 'LossOFconsciousnessORawareness',\n",
        "                       'OneORmoreunknownanswer', 'Unknownanswerto4ormorequestions', 'UnknownanswertoALL', 'AsleepANDawakenedtoassault', 'MemoryLoss',\n",
        "                       'LossOfconsciousness', 'DecreasedAwareness', 'TonicImmobility', 'Detachment', 'NOSApatientsVAGINApenis', 'NOSApatientsVAGINAfingerhand',\n",
        "                       'NOSApatientsVAGINAmouth', 'NOSApatientsVAGINAobject', 'NOSApatientsANUSpenis', 'NOSApatientsANUSfingerhand', 'NOSApatientsANUSmouth', \n",
        "                       'NOSApatientsANUSobject', 'NOSApatientsPENISgenitals', 'NOSApatientsPENISfinger', 'NOSApatientsPENISmouth', 'NOSApatientsPENISobject', \n",
        "                       'NOSApatientsMOUTHpenis', 'NOSApatientsMOUTHfinger', 'NOSApatientsMOUTHmouth', 'NOSApatientsMOUTHobject', 'SUSPECTmouthcontactGENITALS', \n",
        "                       'SUSPECTmouthcontactMOUTH', 'SUSPECTmouthcontactOTHER', 'SUSPECTmouthcontactOTHERsite', 'HANDSofSuspectBreast', 'HANDSofSuspectExtremities', \n",
        "                       'HANDSofSuspectOther', 'Ejaculation', 'CONDOMuse', 'LUBRICATIONuse', 'SuspectWASHEDpatient', 'SuspectINJUREDbypatient', 'PostassaultURINATED', \n",
        "                       'PostassaultDEFECATED', 'PostassaultDOUCHED', 'PostassaultVOMITED', 'PostassaultGARGLED', 'PostassaultBRUSHEDTEETH', 'PostassaultATEdrank', \n",
        "                       'PostassaultBATHED', 'PostassaultGENITALWIPE', 'PostassaultCHANGEDCLOTHING', 'PostassaultREMOVEDInserted', 'PhysicalORmentalimpairment', 'Physicalinjury', \n",
        "                       'LPIhead', 'LPIneck', 'LPIbreasts', 'LPIchestback', 'LPIabdomen', 'LPIextremities', 'TPIlaceration', 'TPIecchymosis', 'TPIabrasion', 'TPIredness', \n",
        "                       'TPIswelling', 'TPIbruise', 'TPIpetechiae', 'TPIincision', 'TPIavulsion', 'TPIdiscoloredmark', 'TPIpuncturewound', 'TPIfracture', \n",
        "                       'TPIbitemark', 'TPIburn', 'TPImissingorbrokenTEETH', 'TPIconjunctivalhemorrhage', 'Genitalinjury', 'LGIinnerthighs', 'LGIclitoralhoodclitoris', \n",
        "                       'LGIlabiamajora', 'LGIlabiaminora', 'LGIperiurethraltissueURETHRA', 'LGIperihymenaltissue', 'LGIhymen', 'LGIvagina', 'LGIcervix', 'LGIfossanavicularis', \n",
        "                       'LGIposteriorfourchette', 'LGIperineum', 'LGIperineum', 'LGIanalrectal', 'LGIbuttocks', 'LGImalePerianalperineum', 'LGIglanspenis', 'LGIpenileshaft', \n",
        "                       'LGImaleURETHRALmeatus', 'LGIscrotum', 'LGItestes', 'LGImaleanus', 'LGImalerectum', 'TGIlaceration', 'TGIecchymosis', 'TGIabrasion', 'TGIredness', \n",
        "                       'TGIswelling', 'TGIbruise', 'TGIpetechiae', 'TGIincision', 'TGIavulsion', 'TGIdiscoloredmark', 'TGIpuncturewound', 'ToludineDYEuptake', 'HIVnPEP', \n",
        "                       'UQuikcollected', 'Yscreen', 'NumberItemsWITH3cutoff', 'ItemsAnalyzed1', 'ItemsAnalyzed2', 'ItemsAnalyzed3', 'ItemsAnalyzed4', 'ItemsAnalyzed5', \n",
        "                       'ItemsAnalyzed6', 'ItemsAnalyzed7', 'ItemsAnalyzed8', 'ItemsAnalyzed9', 'ItemsAnalyzed10', 'TypesOFitemsTested', 'RandomSample20142015', \n",
        "                       'YearofDNAextraction', 'LocationOfTesting','DANYfundedSAK', 'DNAKitUsed', 'SerologyDoneBeforeDNA', 'QuantMaleDNAFound', 'QuantMaleSwabLoc1', \n",
        "                       'QuantMaleSwabLoc2', 'QuantMaleSwabLoc3', 'QuantMaleSwabLoc4', 'QuantMaleSwabLoc5', 'ProbableSTRDNAprofileOFsuspect', 'ProfileofSTRDNAloci', 'ProbableYSTRDNAprofile', 'ProfileOfYSTRDNAloci', \n",
        "                       'SwabLocationYSTRDNA', 'SecondSwabLocationYSTRDNA', 'SwabFromSuspectwithVictimDNA', 'ExcludeSuspect', 'ConsensualPartnerStandardSubmitted', \n",
        "                       'STRDNAProbableprofileTYPE', 'CODISprofileHit', 'STRDNAkitUsed', 'SUSPECTmouthcontactBREASTS', 'Swab1LocationSTRDNAprofile', 'Swab2LocationSTRDNAprofile',\n",
        "                       'Swab3LocationSTRDNAprofile', 'SuspectStandardSubmitted', 'CODISNDISreasons', 'CODISSDISreasons']\n",
        "\n",
        "#unusedFeatures and stringFeatures are columns that contain data that was relevant to medical professionals and for legal purposes, \n",
        "#but that aren't useful for our feature association or for predicting eligibility\n",
        "unusedFeatures = ['filter_$', 'PainTreatmentYesNo', 'GenderMaleFemale', 'DVsuspect', 'RacePrimaryGroups', 'IPSAcombined', 'STRDNAcompleted', \n",
        "                  'PhysicalInjuryNOunknown', 'GenitalInjuryNOunknown']\n",
        "\n",
        "stringFeatures = ['DeIdentifiedCase', 'Raceother', 'SchoolName', 'MilitaryBranchName', 'AddressIfnotPermanent', 'Currentmedprobtext',\n",
        "                  'MedProbOtherText', 'Medicationtext', 'Sexualcontactwithin120hoursTYPE', 'SelfdisclosureMItype', 'OnlineMeetingName', 'SuspectrelationshipOTHER',\n",
        "                  'LocationofassaultOTHER', 'Surfaceofassault', 'PatientActionOtherTEXT', 'SuspectraceOTHER', 'SuspectOTHERactions', 'NOSApatientsVAGINAobjectdescription',\n",
        "                  'NOSApatientsANUSobjectdescription', 'NOSApatientsPENISobjectdescription', 'NOSApatientsMOUTHobjectdescription', 'EjaculationSITE', 'LUBRICATIONtype',\n",
        "                  'SuspectINJUREDbypatientexplanation', 'Impairmentdescription', 'UBFSnumber', 'ISPnumber', 'DateSubmittedUBFS', 'DateofDNAextractionReport',\n",
        "                  'BodySwabLocQuant', 'BodySwabDNAanalysis', 'BodySwabLocationSTRDNA', 'BodySwabYSTRDNA', 'ISPnotes2020', 'UBFSnotes2020', 'UBFSnotes2018', 'UBFSnotes2014']\n",
        "\n",
        "dummy1 = pd.get_dummies(df['Swab1ToDNAanalysis'])\n",
        "dummy2 = pd.get_dummies(df['Swab2ToDNAanalysis'])\n",
        "dummy3 = pd.get_dummies(df['Swab3ToDNAanalysis'])\n",
        "dummy4 = pd.get_dummies(df['Swab4ToDNAanalysis'])\n",
        "\n",
        "dummy4['0'] = dummy1['0']\n",
        "dummy1['11'] = dummy2['11']\n",
        "dummy3['0'] = dummy1['0']\n",
        "\n",
        "newDummy = dummy1\n",
        "\n",
        "\n",
        "newDummy = newDummy.where(newDummy != 0, dummy2)\n",
        "newDummy = newDummy.where(newDummy != 0, dummy3)\n",
        "newDummy = newDummy.where(newDummy != 0, dummy4)\n",
        "\n",
        "# print(newDummy)\n",
        "df['SwabToDNAanalysisNoquantmaleDNAfound'] = newDummy['0'].astype('category')\n",
        "df['SwabToDNAanalysisVaginal'] = newDummy['1']\n",
        "df['SwabToDNAanalysisCervical'] = newDummy['2']\n",
        "df['SwabToDNAanalysisPerianal'] = newDummy['3']\n",
        "df['SwabToDNAanalysisRectal'] = newDummy['4']\n",
        "df['SwabToDNAanalysisOral'] = newDummy['5']\n",
        "df['SwabToDNAanalysisBody'] = newDummy['6']\n",
        "df['SwabToDNAanalysisUnderwear'] = newDummy['7']\n",
        "df['SwabToDNAanalysisOtherClothing'] = newDummy['8']\n",
        "df['SwabToDNAanalysisBedding'] = newDummy['9']\n",
        "df['SwabToDNAanalysisCondom'] = newDummy['10']\n",
        "df['SwabToDNAanalysisTampon'] = newDummy['11']\n",
        "\n",
        "swabToDNAFeatures = ['SwabToDNAanalysisNoquantmaleDNAfound', 'SwabToDNAanalysisVaginal', 'SwabToDNAanalysisCervical', 'SwabToDNAanalysisPerianal', 'SwabToDNAanalysisRectal', \n",
        "                     'SwabToDNAanalysisOral','SwabToDNAanalysisBody', 'SwabToDNAanalysisUnderwear', 'SwabToDNAanalysisOtherClothing', 'SwabToDNAanalysisBedding', \n",
        "                     'SwabToDNAanalysisCondom','SwabToDNAanalysisTampon' ]\n",
        "\n",
        "categoricalFeatures.extend(['SwabToDNAanalysisNoquantmaleDNAfound', 'SwabToDNAanalysisVaginal', 'SwabToDNAanalysisCervical', 'SwabToDNAanalysisPerianal', 'SwabToDNAanalysisRectal', \n",
        "                     'SwabToDNAanalysisOral','SwabToDNAanalysisBody', 'SwabToDNAanalysisUnderwear', 'SwabToDNAanalysisOtherClothing', 'SwabToDNAanalysisBedding', \n",
        "                     'SwabToDNAanalysisCondom','SwabToDNAanalysisTampon'])\n",
        "\n",
        "df = df.replace(r'^\\s+$', np.nan, regex=True)\n",
        "df = df.replace({np.nan: \"No Response\"})\n",
        "df = df.applymap(str)\n",
        "df = df[df[predictedVariable] != \"No Response\"]\n",
        "\n",
        "#Code to filter out all other genders\n",
        "# df = df[df['Gender'] == '1'] #dataframe containing information from only female respondents\n",
        "\n",
        "df = df[df['Site'] != '6'] #remove idaho data"
      ],
      "execution_count": null,
      "outputs": [
        {
          "output_type": "stream",
          "name": "stdout",
          "text": [
            "MasterValentine_UpdatedCODIS_Feb12_2021.csv\n",
            "Requirement already satisfied: scikit-learn in /usr/local/lib/python3.7/dist-packages (0.22.2.post1)\n",
            "Collecting scikit-learn\n",
            "  Downloading scikit_learn-0.24.2-cp37-cp37m-manylinux2010_x86_64.whl (22.3 MB)\n",
            "\u001b[K     |████████████████████████████████| 22.3 MB 32.3 MB/s \n",
            "\u001b[?25hCollecting threadpoolctl>=2.0.0\n",
            "  Downloading threadpoolctl-2.2.0-py3-none-any.whl (12 kB)\n",
            "Requirement already satisfied: numpy>=1.13.3 in /usr/local/lib/python3.7/dist-packages (from scikit-learn) (1.19.5)\n",
            "Requirement already satisfied: joblib>=0.11 in /usr/local/lib/python3.7/dist-packages (from scikit-learn) (1.0.1)\n",
            "Requirement already satisfied: scipy>=0.19.1 in /usr/local/lib/python3.7/dist-packages (from scikit-learn) (1.4.1)\n",
            "Installing collected packages: threadpoolctl, scikit-learn\n",
            "  Attempting uninstall: scikit-learn\n",
            "    Found existing installation: scikit-learn 0.22.2.post1\n",
            "    Uninstalling scikit-learn-0.22.2.post1:\n",
            "      Successfully uninstalled scikit-learn-0.22.2.post1\n",
            "Successfully installed scikit-learn-0.24.2 threadpoolctl-2.2.0\n"
          ]
        },
        {
          "output_type": "stream",
          "name": "stderr",
          "text": [
            "/usr/local/lib/python3.7/dist-packages/IPython/core/interactiveshell.py:2718: DtypeWarning: Columns (0,1,2,3,4,5,9,301) have mixed types.Specify dtype option on import or set low_memory=False.\n",
            "  interactivity=interactivity, compiler=compiler, result=result)\n"
          ]
        }
      ]
    },
    {
      "cell_type": "markdown",
      "metadata": {
        "id": "_E-iX_I9dq0H"
      },
      "source": [
        "#Part 2. Find Association With CODIS Eligibility\n",
        "Now that we have loaded and cleaned our dataset, we can use a couple different tools to find the association of each of our features with the variable of an NDIS eligible profile. Because our dataset has both numerical and categorical features, we have to take different approaches to find this association. As such, this section is broken into finding association through the use of Chi-Square Test of Independence on categorical features and ANOVA testing on numerical features. \n",
        "1. Run Chi-Square on Categorical Features\n",
        "2. Run Anova on Numerical Features"
      ]
    },
    {
      "cell_type": "markdown",
      "metadata": {
        "id": "OTUD3VC8-fhG"
      },
      "source": [
        "## Run Chi-Square on Categorical Features\n",
        "We will run Chi-Square tests of Independence on all categorical features verus the feature we are trying to predict (in this case, CODISNDISeligibleProfile). These tests will return a P-value that we can compare to our established Bonferroni correction cutoff. To run our tests, we will create a contingency table for each feature compared to our predicted feature. We then pass this contingency into the chi2_contingency function from the scipy package we included earlier.\n",
        "\n",
        "*For an in-depth walkthrough of Chi-Square, see our [Chi-Square Example](https://colab.research.google.com/drive/1KpIErpzgsCY7d2sa9j8J9QNIo9HvaWUW#scrollTo=fOSTbNFFiBrW)"
      ]
    },
    {
      "cell_type": "markdown",
      "metadata": {
        "id": "A3dW29wTObZC"
      },
      "source": [
        "###Run Chi-Square Test Using Gender\n",
        "If we break down our dataset by gender, it is evident that the majority of our data comes from female victims. Let's delve deeper into this feature by running chi-square with gender against CODIS eligibility. "
      ]
    },
    {
      "cell_type": "code",
      "metadata": {
        "id": "8ckMhpcgTW0G",
        "colab": {
          "base_uri": "https://localhost:8080/"
        },
        "outputId": "d1c2694f-9c3f-4ec0-9d3e-f12fb0488c27"
      },
      "source": [
        "#Code to run Gender against Codis\n",
        "newContingency= pd.crosstab(df['Gender'], df[predictedVariable])\n",
        "c, p, dof, expected = chi2_contingency(newContingency) \n",
        "print(\"The p-value obtained was \" + str(p) + \" which is significant\")"
      ],
      "execution_count": null,
      "outputs": [
        {
          "output_type": "stream",
          "name": "stdout",
          "text": [
            "The p-value obtained was 0.0004294736932671727 which is significant\n"
          ]
        }
      ]
    },
    {
      "cell_type": "markdown",
      "metadata": {
        "id": "9sMW-VGZUNxp"
      },
      "source": [
        "Based on the p-value we received for our chi-square comparing gender to CODIS eligibility, it is clear that gender is significant in determining whether an eligible profile is produced. Now let's look closer at our contingency table for gender."
      ]
    },
    {
      "cell_type": "code",
      "metadata": {
        "id": "0nV5t0H3TamV",
        "colab": {
          "base_uri": "https://localhost:8080/"
        },
        "outputId": "0f108212-d5b0-470d-bebf-1f5d443500e7"
      },
      "source": [
        "#Contingency plot of Gender and Eligibility\n",
        "print(newContingency)"
      ],
      "execution_count": null,
      "outputs": [
        {
          "output_type": "stream",
          "name": "stdout",
          "text": [
            "CODISNDISeligibleProfile     0     1\n",
            "Gender                              \n",
            "1                         2901  1503\n",
            "2                          156    37\n",
            "3                            8     5\n",
            "4                            7     1\n",
            "5                            4     0\n",
            "No Response                  3     1\n"
          ]
        }
      ]
    },
    {
      "cell_type": "markdown",
      "metadata": {
        "id": "gS2R4Ti_TjKd"
      },
      "source": [
        "Our contingency plot clearly shows that most of our data comes from female respondents. In order to keep our analysis centralized, we will only analyze our dataset for female respondents. The next cell of code will filter out all other recorded gender types (male, transgender, intersex, and no response)."
      ]
    },
    {
      "cell_type": "code",
      "metadata": {
        "id": "GJEOA5A7UF38"
      },
      "source": [
        "#Code to filter out all other genders\n",
        "df = df[df['Gender'] == '1'] #dataframe containing information from only female respondents\n",
        "df.to_csv(\"femaledf.csv\", index=False)"
      ],
      "execution_count": null,
      "outputs": []
    },
    {
      "cell_type": "markdown",
      "metadata": {
        "id": "eZ0M2oGWkMKE"
      },
      "source": [
        "###Run Chi-Square Test on all Categorical Features\n",
        "We will loop through each feature and sort it into a seperate table depending on its significance towards obtaining a CODISNDIS eligible profile. These (significant and non-significant tables) will be output in the result section."
      ]
    },
    {
      "cell_type": "code",
      "metadata": {
        "id": "l4jcXxTlOZQz"
      },
      "source": [
        "\"\"\"\n",
        "Performs Chi-Square Test of Independence on contingency table and places the obtained p-value into a table based on significance\n",
        "  @param contigency: table comparing values from one feature to another\n",
        "  @param column: string name of the current column being compared to CODISNDISeligibleProfile\n",
        "  @return: void\n",
        "\"\"\"\n",
        "def runChi(contigency, column):\n",
        "  c, p, dof, expected = chi2_contingency(contigency) \n",
        "  cutoff = 0.05 / len(df.columns)\n",
        "  if p <= cutoff:\n",
        "    sigValues[column] = p #global variable declared in next block of code\n",
        "  else:\n",
        "    inSigValues[column] = p #global variable declared in next block of code\n",
        "  allValues[column] = p #global variable declared in next block of code"
      ],
      "execution_count": null,
      "outputs": []
    },
    {
      "cell_type": "code",
      "metadata": {
        "id": "kdnKgUD1OZ8w"
      },
      "source": [
        "sigValues = {} #All features and their associated p-values that have a p-value less than bonferroni correction value\n",
        "inSigValues = {} #All features and their associated p-values that have a p-value greater than bonferroni correction value\n",
        "allValues = {} #All features and their associated p-values, regardless of significance level\n",
        "\n",
        "#This will loop through each feature in our dataframe, create a contingency table \n",
        "#and perform chi square test of independence to find the feature's association with CODISNDIS elgibility\n",
        "#P-Values obtained will be used to sort the feature into sigValues or inSigValues\n",
        "for column in categoricalFeatures:\n",
        "  if column != predictedVariable:\n",
        "    try:\n",
        "      newContigency= pd.crosstab(df[column], df[predictedVariable])\n",
        "      runChi(newContigency, column)\n",
        "    except:\n",
        "      print(column)\n",
        "      # print(df[column])"
      ],
      "execution_count": null,
      "outputs": []
    },
    {
      "cell_type": "markdown",
      "metadata": {
        "id": "jdVjmZrhny5k"
      },
      "source": [
        "##Run Anova on Numerical Features\n",
        "We will run ANOVA tests on all numerical features verus the feature we are trying to predict (in this case, CODISNDISeligibleProfile). These tests will return a P-value that we can compare to our established Bonferroni correction cutoff. \n",
        "\n",
        "Add in [Anova Example](https://colab.research.google.com/drive/1zpCaYq4-R3pnVpa4kimvU1Dcn0An-DoP) notebook"
      ]
    },
    {
      "cell_type": "code",
      "metadata": {
        "id": "jDrQBx-c_kMs"
      },
      "source": [
        "import scipy.stats as stats\n",
        "#create dict for storing p values\n",
        "anovaValue = {} #All features with their corresponding p-value\n",
        "sigAnova = {} #Features with significant p-values\n",
        "inSigAnova = {} #Features with insignificant p-values\n",
        "\n",
        "Bcutoff = 0.05 / len(df.columns)\n",
        "# stats f_oneway functions takes the groups as input and returns ANOVA F and p value\n",
        "\n",
        "#This will loop through each feature in our dataframe and perform ANOVA testing to find the feature's association with CODISNDIS elgibility\n",
        "#P-Values obtained will be used to sort the feature into sigAnova or inSigAnova\n",
        "for column in numericalFeatures:\n",
        "  if column != predictedVariable:\n",
        "    temp = pd.DataFrame()\n",
        "    temp[column] = df[column]\n",
        "    temp[predictedVariable] = df[predictedVariable]\n",
        "    temp = temp[temp[column] != \"No Response\"] \n",
        "    eligible = temp[temp['CODISNDISeligibleProfile'] == \"0\"] \n",
        "    ineligible = temp[temp['CODISNDISeligibleProfile'] == \"1\"] \n",
        "\n",
        "    fvalue, pvalue = stats.f_oneway(eligible[column], ineligible[column]) #compares the means between eligible and noneligible within the given feature\n",
        "    anovaValue[column] = pvalue\n",
        "\n",
        "    if pvalue <= Bcutoff:\n",
        "      sigAnova[column] = pvalue\n",
        "    else:\n",
        "      inSigAnova[column] = pvalue"
      ],
      "execution_count": null,
      "outputs": []
    },
    {
      "cell_type": "markdown",
      "metadata": {
        "id": "IVp1ZgXh_LgB"
      },
      "source": [
        "# Part 3. Print Results \n",
        "Here we can see how our features stacked up. \n",
        "\n",
        "\n",
        "*   Results of Categorical Features\n",
        "*   Results of Numerical Features\n",
        "\n",
        "\n"
      ]
    },
    {
      "cell_type": "markdown",
      "metadata": {
        "id": "0ZqmGrX5TYfw"
      },
      "source": [
        "##Results of Categorical Features\n",
        "\n",
        "\n",
        "1.   Table of ALL Features Sorted by Increasing P-Value\n",
        "2.   Table of Nonsignificant Features\n",
        "3.   Table of Significant Features\n",
        "\n"
      ]
    },
    {
      "cell_type": "markdown",
      "metadata": {
        "id": "aYwVywcdl-mu"
      },
      "source": [
        "###1. Table of ALL Features Sorted by Increasing P-Value."
      ]
    },
    {
      "cell_type": "code",
      "metadata": {
        "id": "r46zeo7uR6Ei",
        "colab": {
          "base_uri": "https://localhost:8080/"
        },
        "outputId": "bc669a49-c20c-4465-8b64-d82ae20fe8d7"
      },
      "source": [
        "\n",
        "#@title All Categorical Features Sorted by Increasing P-Value\n",
        "#Prints P-Values for all features (both significant and insignificant)\n",
        "pd.set_option(\"display.max_rows\", None, \"display.max_columns\", None)\n",
        "table = pd.DataFrame(list(allValues.items())) \n",
        "\n",
        "table = table.rename(columns={0: \"Feature\", 1: \"P-Value\"})\n",
        "table = table.sort_values(by=['P-Value'])\n",
        "\n",
        "print(table)"
      ],
      "execution_count": null,
      "outputs": [
        {
          "output_type": "stream",
          "name": "stdout",
          "text": [
            "                                             Feature        P-Value\n",
            "228                              ProfileofSTRDNAloci   0.000000e+00\n",
            "227                   ProbableSTRDNAprofileOFsuspect   0.000000e+00\n",
            "236                        STRDNAProbableprofileTYPE   0.000000e+00\n",
            "237                                  CODISprofileHit   0.000000e+00\n",
            "240                       Swab1LocationSTRDNAprofile   0.000000e+00\n",
            "244                                 CODISNDISreasons   0.000000e+00\n",
            "245                                 CODISSDISreasons   0.000000e+00\n",
            "238                                    STRDNAkitUsed  2.758086e-288\n",
            "241                       Swab2LocationSTRDNAprofile  2.958663e-272\n",
            "219                                       DNAKitUsed  1.152716e-258\n",
            "223                                QuantMaleSwabLoc2  4.306772e-216\n",
            "222                                QuantMaleSwabLoc1  4.844051e-185\n",
            "247                         SwabToDNAanalysisVaginal  8.382494e-171\n",
            "221                                QuantMaleDNAFound  2.799993e-163\n",
            "249                        SwabToDNAanalysisPerianal  3.065993e-159\n",
            "246             SwabToDNAanalysisNoquantmaleDNAfound  1.721807e-150\n",
            "224                                QuantMaleSwabLoc3  2.544372e-148\n",
            "242                       Swab3LocationSTRDNAprofile   4.575030e-95\n",
            "252                            SwabToDNAanalysisBody   1.732392e-85\n",
            "220                            SerologyDoneBeforeDNA   3.670329e-61\n",
            "248                        SwabToDNAanalysisCervical   1.124739e-51\n",
            "137                                PostassaultBATHED   1.327276e-45\n",
            "125                                      Ejaculation   4.973142e-35\n",
            "102                          NOSApatientsVAGINApenis   3.121486e-34\n",
            "239                       SUSPECTmouthcontactBREASTS   9.323142e-34\n",
            "230                             ProfileOfYSTRDNAloci   2.931184e-33\n",
            "131                             PostassaultDEFECATED   1.371586e-32\n",
            "135                          PostassaultBRUSHEDTEETH   8.925008e-32\n",
            "126                                        CONDOMuse   1.529883e-30\n",
            "119                         SUSPECTmouthcontactMOUTH   1.792933e-30\n",
            "250                          SwabToDNAanalysisRectal   1.392025e-28\n",
            "120                         SUSPECTmouthcontactOTHER   1.984935e-27\n",
            "116                           NOSApatientsMOUTHmouth   4.043007e-27\n",
            "118                      SUSPECTmouthcontactGENITALS   6.841738e-26\n",
            "114                           NOSApatientsMOUTHpenis   1.475855e-25\n",
            "127                                   LUBRICATIONuse   3.660317e-25\n",
            "117                          NOSApatientsMOUTHobject   8.354757e-24\n",
            "229                           ProbableYSTRDNAprofile   1.292340e-22\n",
            "105                         NOSApatientsVAGINAobject   1.123189e-21\n",
            "243                         SuspectStandardSubmitted   1.586466e-21\n",
            "104                          NOSApatientsVAGINAmouth   8.439005e-21\n",
            "115                          NOSApatientsMOUTHfinger   9.266156e-21\n",
            "139                       PostassaultCHANGEDCLOTHING   2.359239e-19\n",
            "109                           NOSApatientsANUSobject   7.066763e-19\n",
            "94                   Unknownanswerto4ormorequestions   2.700375e-18\n",
            "122                             HANDSofSuspectBreast   3.987371e-18\n",
            "124                              HANDSofSuspectOther   5.473835e-16\n",
            "74                                  PatientActionHit   3.724272e-15\n",
            "81                     SuspectactionsSTRANGLEDCHOKED   4.557681e-15\n",
            "123                        HANDSofSuspectExtremities   6.730783e-15\n",
            "216                              YearofDNAextraction   1.235647e-14\n",
            "75                                 PatientActionKick   1.375347e-14\n",
            "108                            NOSApatientsANUSmouth   1.490914e-14\n",
            "231                              SwabLocationYSTRDNA   2.365308e-14\n",
            "136                              PostassaultATEdrank   2.526247e-14\n",
            "95                                UnknownanswertoALL   3.954168e-14\n",
            "72                              PatientActionScratch   4.119870e-14\n",
            "128                             SuspectWASHEDpatient   5.309678e-14\n",
            "73                                 PatientActionBite   9.715570e-14\n",
            "76                                PatientActionOther   1.122289e-13\n",
            "78                               SuspectactionVERBAL   2.016584e-13\n",
            "79                         SuspectactionsGRABBEDHELD   2.681295e-13\n",
            "83                          SuspectactionsRESTRAINTS   8.036497e-13\n",
            "107                       NOSApatientsANUSfingerhand   1.430451e-12\n",
            "93                            OneORmoreunknownanswer   1.473348e-12\n",
            "103                     NOSApatientsVAGINAfingerhand   1.509617e-12\n",
            "84                              SuspectactionsBURNED   1.213159e-11\n",
            "106                            NOSApatientsANUSpenis   1.458209e-11\n",
            "130                              PostassaultURINATED   1.007783e-10\n",
            "2                                   YearKitCollected   1.284485e-10\n",
            "14                                              Pain   1.298237e-10\n",
            "80                       SuspectactionsPHYSICALBLOWS   1.329279e-10\n",
            "97                                        MemoryLoss   1.472491e-10\n",
            "175                              LGIfossanavicularis   1.832926e-10\n",
            "69                            OnlineMeetingOFsuspect   1.856943e-10\n",
            "82                              SuspectactionsWEAPON   2.478406e-10\n",
            "144                                          LPIneck   1.061441e-09\n",
            "132                               PostassaultDOUCHED   1.874489e-09\n",
            "92                    LossOFconsciousnessORawareness   2.468518e-09\n",
            "98                               LossOfconsciousness   3.948810e-09\n",
            "20                                  PermanentAddress   1.098393e-08\n",
            "206                                   ItemsAnalyzed3   1.425080e-08\n",
            "70                               Suspectrelationship   1.888973e-08\n",
            "138                           PostassaultGENITALWIPE   2.852281e-08\n",
            "155                                     TPIpetechiae   4.290781e-08\n",
            "209                                   ItemsAnalyzed6   7.293458e-08\n",
            "232                        SecondSwabLocationYSTRDNA   7.587022e-08\n",
            "203                           NumberItemsWITH3cutoff   1.947051e-07\n",
            "141                       PhysicalORmentalimpairment   2.277902e-07\n",
            "199                                ToludineDYEuptake   7.088284e-07\n",
            "13                                          Military   1.165051e-06\n",
            "134                               PostassaultGARGLED   1.682023e-06\n",
            "210                                   ItemsAnalyzed7   2.314233e-06\n",
            "71                                 Locationofassault   2.446326e-06\n",
            "165                                    Genitalinjury   3.049068e-06\n",
            "12                                           Student   3.350379e-06\n",
            "19                                     PainTreatment   4.480037e-06\n",
            "133                               PostassaultVOMITED   1.138785e-05\n",
            "90                                    SuspectETOHuse   1.240665e-05\n",
            "85                                  MultipleSuspects   1.506728e-05\n",
            "225                                QuantMaleSwabLoc4   2.916938e-05\n",
            "188                                    TGIlaceration   3.039342e-05\n",
            "176                           LGIposteriorfourchette   3.288851e-05\n",
            "201                                   UQuikcollected   3.389550e-05\n",
            "214                               TypesOFitemsTested   4.228642e-05\n",
            "207                                   ItemsAnalyzed4   5.576639e-05\n",
            "208                                   ItemsAnalyzed5   5.804467e-05\n",
            "190                                      TGIabrasion   1.072584e-04\n",
            "226                                QuantMaleSwabLoc5   1.371909e-04\n",
            "89                                    Suspectdruguse   2.410552e-04\n",
            "170                     LGIperiurethraltissueURETHRA   3.291811e-04\n",
            "255                         SwabToDNAanalysisBedding   3.822673e-04\n",
            "100                                  TonicImmobility   4.148026e-04\n",
            "169                                   LGIlabiaminora   5.136746e-04\n",
            "171                             LGIperihymenaltissue   5.567233e-04\n",
            "121                     SUSPECTmouthcontactOTHERsite   7.609465e-04\n",
            "77                                       Suspectrace   8.171605e-04\n",
            "254                   SwabToDNAanalysisOtherClothing   8.861862e-04\n",
            "177                                      LGIperineum   9.490758e-04\n",
            "129                          SuspectINJUREDbypatient   1.151703e-03\n",
            "215                             RandomSample20142015   1.195518e-03\n",
            "167                          LGIclitoralhoodclitoris   1.518462e-03\n",
            "21                            CurrentPhysicalmedprob   1.723006e-03\n",
            "34                               MedProbNeurological   1.742507e-03\n",
            "191                                       TGIredness   1.743077e-03\n",
            "179                                      LGIbuttocks   1.753326e-03\n",
            "205                                   ItemsAnalyzed2   2.171887e-03\n",
            "211                                   ItemsAnalyzed8   2.343949e-03\n",
            "44                           PsychotropicANTIANXIETY   2.528395e-03\n",
            "22                                    MedProbChronic   2.622123e-03\n",
            "152                                       TPIredness   2.627650e-03\n",
            "15                                     PainLocation1   2.841744e-03\n",
            "204                                   ItemsAnalyzed1   3.021703e-03\n",
            "4                          KITlengthofSubmissionTime   3.198781e-03\n",
            "25                                    MedProbCardiac   3.268666e-03\n",
            "68   SelfDiscolsureMentalillnessORuseofpsychotropics   3.477664e-03\n",
            "173                                        LGIvagina   3.538151e-03\n",
            "57                       Selfdisclosurementalillness   4.251809e-03\n",
            "168                                   LGIlabiamajora   5.598178e-03\n",
            "53                                   ReceivedTetanus   5.853186e-03\n",
            "174                                        LGIcervix   6.008277e-03\n",
            "172                                         LGIhymen   6.249304e-03\n",
            "146                                     LPIchestback   6.265319e-03\n",
            "101                                       Detachment   6.712303e-03\n",
            "8                                       Noninterview   6.803982e-03\n",
            "195                                      TGIincision   7.543140e-03\n",
            "235               ConsensualPartnerStandardSubmitted   8.181487e-03\n",
            "161                                      TPIbitemark   8.694534e-03\n",
            "61                              MIpsychoticDisorders   9.111700e-03\n",
            "193                                        TGIbruise   9.733153e-03\n",
            "86                          SuspectedDrugfacilitated   1.010123e-02\n",
            "198                                 TGIpuncturewound   1.014946e-02\n",
            "42                PsychotropicANTIPSYCHOTICSatypical   1.181932e-02\n",
            "196                                      TGIavulsion   1.312648e-02\n",
            "145                                       LPIbreasts   1.377515e-02\n",
            "194                                     TGIpetechiae   1.686833e-02\n",
            "58                                      MIdepression   1.731480e-02\n",
            "197                                TGIdiscoloredmark   1.779487e-02\n",
            "142                                   Physicalinjury   1.894484e-02\n",
            "140                       PostassaultREMOVEDInserted   1.925715e-02\n",
            "184                                       LGIscrotum   1.956352e-02\n",
            "91                          PatientSuspectETOHordrug   2.028657e-02\n",
            "99                                DecreasedAwareness   2.048388e-02\n",
            "166                                   LGIinnerthighs   2.198081e-02\n",
            "185                                        LGItestes   2.352496e-02\n",
            "0                                               Site   2.451278e-02\n",
            "189                                    TGIecchymosis   2.523233e-02\n",
            "192                                      TGIswelling   2.563089e-02\n",
            "234                                   ExcludeSuspect   2.597938e-02\n",
            "16                                     PainLocation2   2.841903e-02\n",
            "218                                    DANYfundedSAK   3.228051e-02\n",
            "147                                       LPIabdomen   3.457645e-02\n",
            "41                                PsychotropicMEDuse   3.694584e-02\n",
            "212                                   ItemsAnalyzed9   4.399925e-02\n",
            "200                                          HIVnPEP   4.545318e-02\n",
            "233                     SwabFromSuspectwithVictimDNA   4.562722e-02\n",
            "213                                  ItemsAnalyzed10   4.649873e-02\n",
            "51                             PolypharmacyPsychMeds   4.718590e-02\n",
            "186                                      LGImaleanus   4.881610e-02\n",
            "33                            MedProbMusculoskeletal   5.670898e-02\n",
            "29                                         MedProbGI   5.845760e-02\n",
            "183                            LGImaleURETHRALmeatus   6.307064e-02\n",
            "180                          LGImalePerianalperineum   7.754727e-02\n",
            "48                              PsychotropicSLEEPaid   8.653904e-02\n",
            "54                             ImmunizationstatusHEP   8.857780e-02\n",
            "50                 PsychotropicANTIPSYCHOTICStypical   8.907478e-02\n",
            "178                                    LGIanalrectal   9.527303e-02\n",
            "88                                    PatientETOHuse   9.983720e-02\n",
            "156                                      TPIincision   1.001671e-01\n",
            "157                                      TPIavulsion   1.024779e-01\n",
            "181                                    LGIglanspenis   1.096771e-01\n",
            "40                                        Medication   1.116916e-01\n",
            "182                                   LGIpenileshaft   1.128445e-01\n",
            "158                                TPIdiscoloredmark   1.129554e-01\n",
            "5                                         UnderAge18   1.175764e-01\n",
            "59                                         MIanxiety   1.230779e-01\n",
            "49                                 PsychotropicOTHER   1.317646e-01\n",
            "163                          TPImissingorbrokenTEETH   1.321193e-01\n",
            "45                       PsychotropicANTIDEPRESSANTS   1.342649e-01\n",
            "27                                  MedProbEndocrine   1.350444e-01\n",
            "187                                    LGImalerectum   1.489629e-01\n",
            "217                                LocationOfTesting   1.607945e-01\n",
            "96                        AsleepANDawakenedtoassault   1.619346e-01\n",
            "160                                      TPIfracture   1.627334e-01\n",
            "256                          SwabToDNAanalysisCondom   1.666981e-01\n",
            "87                                    Patientdruguse   1.742960e-01\n",
            "154                                        TPIbruise   1.771413e-01\n",
            "52                         ImmunizationstatusTETANUS   1.824045e-01\n",
            "10                                 PriorHxofSAover14   1.888759e-01\n",
            "11                                PriorHxofSAunder14   2.113743e-01\n",
            "46                    PsychotropicANTISEIZUREbipolar   2.180673e-01\n",
            "56                       Sexualcontactwithin120hours   2.190952e-01\n",
            "159                                 TPIpuncturewound   2.404142e-01\n",
            "149                                    TPIlaceration   2.518473e-01\n",
            "43                          PsychotropicSTIMULANTuse   2.533994e-01\n",
            "150                                    TPIecchymosis   2.620424e-01\n",
            "253                       SwabToDNAanalysisUnderwear   2.656121e-01\n",
            "55                                      ReceivedHepB   2.686337e-01\n",
            "3                               KITbroughtTOcrimelab   2.940018e-01\n",
            "17                                     PainLocation3   3.177151e-01\n",
            "148                                   LPIextremities   3.756210e-01\n",
            "164                        TPIconjunctivalhemorrhage   3.805851e-01\n",
            "26                                        MedProbEar   3.880673e-01\n",
            "47                         PsychotropicADDICTIONmeds   4.250886e-01\n",
            "153                                      TPIswelling   4.288545e-01\n",
            "35                                       MedProbOral   4.517266e-01\n",
            "36                                      MedProbRenal   4.780996e-01\n",
            "63                             MIpersonalitydisorder   4.838034e-01\n",
            "24                                      MedProbBlood   5.000051e-01\n",
            "162                                          TPIburn   5.168927e-01\n",
            "143                                          LPIhead   5.379796e-01\n",
            "112                           NOSApatientsPENISmouth   5.445178e-01\n",
            "111                          NOSApatientsPENISfinger   5.445178e-01\n",
            "110                        NOSApatientsPENISgenitals   5.445178e-01\n",
            "113                          NOSApatientsPENISobject   5.445178e-01\n",
            "18                                     PainLocation4   5.688854e-01\n",
            "31                                        MedProbGYN   5.810913e-01\n",
            "38                                       MedProbSkin   5.862935e-01\n",
            "37                                MedProbRespiratory   6.010335e-01\n",
            "28                                        MedProbEye   6.028179e-01\n",
            "23                                  MedProbInfection   6.123175e-01\n",
            "1                                         EXAMbySANE   6.164509e-01\n",
            "32                                     MedProbImmune   6.168483e-01\n",
            "62                                            MIadhd   6.756323e-01\n",
            "30                                         MedProbGU   7.169827e-01\n",
            "66                            MIdrugalcoholdisorders   7.219050e-01\n",
            "151                                      TPIabrasion   7.484768e-01\n",
            "67                                           MIother   7.519463e-01\n",
            "9                                               Race   7.541141e-01\n",
            "7                                       ExamDeclined   7.710763e-01\n",
            "64                                         MIbipolar   8.034427e-01\n",
            "65                                  MIeatingdisorder   8.133574e-01\n",
            "60                                            MIPTSD   8.457134e-01\n",
            "39                                      MedProbOther   8.681838e-01\n",
            "257                          SwabToDNAanalysisTampon   8.868442e-01\n",
            "251                            SwabToDNAanalysisOral   9.043883e-01\n",
            "6                                             Gender   1.000000e+00\n",
            "202                                          Yscreen   1.000000e+00\n"
          ]
        }
      ]
    },
    {
      "cell_type": "markdown",
      "metadata": {
        "id": "wDth-iE6Eowk"
      },
      "source": [
        "**The table above shows ALL features, regardless of whether they passed our significance threshold or not**"
      ]
    },
    {
      "cell_type": "markdown",
      "metadata": {
        "id": "Gb7WQmqNpXlu"
      },
      "source": [
        "###2. Table of Nonsignificant Features"
      ]
    },
    {
      "cell_type": "code",
      "metadata": {
        "id": "ZxsiRugPcBsf",
        "colab": {
          "base_uri": "https://localhost:8080/"
        },
        "outputId": "b0fbc4be-ba9a-4950-e900-1e1366962899"
      },
      "source": [
        "#@title Nonsignificant Features\n",
        "#Display P-Values of all nonsignificant values\n",
        "pd.set_option(\"display.max_rows\", None, \"display.max_columns\", None)\n",
        "inSigTable = pd.DataFrame(list(inSigValues.items())) \n",
        "\n",
        "inSigTable = inSigTable.rename(columns={0: \"Feature\", 1: \"P-Value\"})\n",
        "inSigTable = inSigTable.sort_values(by=['P-Value'])\n",
        "\n",
        "print(inSigTable)\n",
        "print(\"Number of Nonsignificant Features: \" + str(len(inSigTable)))\n",
        "inSigTable.to_excel(\"insig.xlsx\")\n"
      ],
      "execution_count": null,
      "outputs": [
        {
          "output_type": "stream",
          "name": "stdout",
          "text": [
            "                                             Feature   P-Value\n",
            "67                                    Suspectdruguse  0.000241\n",
            "105                     LGIperiurethraltissueURETHRA  0.000329\n",
            "146                         SwabToDNAanalysisBedding  0.000382\n",
            "71                                   TonicImmobility  0.000415\n",
            "104                                   LGIlabiaminora  0.000514\n",
            "106                             LGIperihymenaltissue  0.000557\n",
            "77                      SUSPECTmouthcontactOTHERsite  0.000761\n",
            "63                                       Suspectrace  0.000817\n",
            "145                   SwabToDNAanalysisOtherClothing  0.000886\n",
            "110                                      LGIperineum  0.000949\n",
            "78                           SuspectINJUREDbypatient  0.001152\n",
            "137                             RandomSample20142015  0.001196\n",
            "102                          LGIclitoralhoodclitoris  0.001518\n",
            "15                            CurrentPhysicalmedprob  0.001723\n",
            "28                               MedProbNeurological  0.001743\n",
            "122                                       TGIredness  0.001743\n",
            "112                                      LGIbuttocks  0.001753\n",
            "133                                   ItemsAnalyzed2  0.002172\n",
            "134                                   ItemsAnalyzed8  0.002344\n",
            "38                           PsychotropicANTIANXIETY  0.002528\n",
            "16                                    MedProbChronic  0.002622\n",
            "89                                        TPIredness  0.002628\n",
            "11                                     PainLocation1  0.002842\n",
            "132                                   ItemsAnalyzed1  0.003022\n",
            "3                          KITlengthofSubmissionTime  0.003199\n",
            "19                                    MedProbCardiac  0.003269\n",
            "62   SelfDiscolsureMentalillnessORuseofpsychotropics  0.003478\n",
            "108                                        LGIvagina  0.003538\n",
            "51                       Selfdisclosurementalillness  0.004252\n",
            "103                                   LGIlabiamajora  0.005598\n",
            "47                                   ReceivedTetanus  0.005853\n",
            "109                                        LGIcervix  0.006008\n",
            "107                                         LGIhymen  0.006249\n",
            "83                                      LPIchestback  0.006265\n",
            "72                                        Detachment  0.006712\n",
            "7                                       Noninterview  0.006804\n",
            "126                                      TGIincision  0.007543\n",
            "142               ConsensualPartnerStandardSubmitted  0.008181\n",
            "97                                       TPIbitemark  0.008695\n",
            "55                              MIpsychoticDisorders  0.009112\n",
            "124                                        TGIbruise  0.009733\n",
            "64                          SuspectedDrugfacilitated  0.010101\n",
            "129                                 TGIpuncturewound  0.010149\n",
            "36                PsychotropicANTIPSYCHOTICSatypical  0.011819\n",
            "127                                      TGIavulsion  0.013126\n",
            "82                                        LPIbreasts  0.013775\n",
            "125                                     TGIpetechiae  0.016868\n",
            "52                                      MIdepression  0.017315\n",
            "128                                TGIdiscoloredmark  0.017795\n",
            "80                                    Physicalinjury  0.018945\n",
            "79                        PostassaultREMOVEDInserted  0.019257\n",
            "117                                       LGIscrotum  0.019564\n",
            "68                          PatientSuspectETOHordrug  0.020287\n",
            "70                                DecreasedAwareness  0.020484\n",
            "101                                   LGIinnerthighs  0.021981\n",
            "118                                        LGItestes  0.023525\n",
            "0                                               Site  0.024513\n",
            "121                                    TGIecchymosis  0.025232\n",
            "123                                      TGIswelling  0.025631\n",
            "141                                   ExcludeSuspect  0.025979\n",
            "12                                     PainLocation2  0.028419\n",
            "139                                    DANYfundedSAK  0.032281\n",
            "84                                        LPIabdomen  0.034576\n",
            "35                                PsychotropicMEDuse  0.036946\n",
            "135                                   ItemsAnalyzed9  0.043999\n",
            "130                                          HIVnPEP  0.045453\n",
            "140                     SwabFromSuspectwithVictimDNA  0.045627\n",
            "136                                  ItemsAnalyzed10  0.046499\n",
            "45                             PolypharmacyPsychMeds  0.047186\n",
            "119                                      LGImaleanus  0.048816\n",
            "27                            MedProbMusculoskeletal  0.056709\n",
            "23                                         MedProbGI  0.058458\n",
            "116                            LGImaleURETHRALmeatus  0.063071\n",
            "113                          LGImalePerianalperineum  0.077547\n",
            "42                              PsychotropicSLEEPaid  0.086539\n",
            "48                             ImmunizationstatusHEP  0.088578\n",
            "44                 PsychotropicANTIPSYCHOTICStypical  0.089075\n",
            "111                                    LGIanalrectal  0.095273\n",
            "66                                    PatientETOHuse  0.099837\n",
            "92                                       TPIincision  0.100167\n",
            "93                                       TPIavulsion  0.102478\n",
            "114                                    LGIglanspenis  0.109677\n",
            "34                                        Medication  0.111692\n",
            "115                                   LGIpenileshaft  0.112845\n",
            "94                                 TPIdiscoloredmark  0.112955\n",
            "4                                         UnderAge18  0.117576\n",
            "53                                         MIanxiety  0.123078\n",
            "43                                 PsychotropicOTHER  0.131765\n",
            "99                           TPImissingorbrokenTEETH  0.132119\n",
            "39                       PsychotropicANTIDEPRESSANTS  0.134265\n",
            "21                                  MedProbEndocrine  0.135044\n",
            "120                                    LGImalerectum  0.148963\n",
            "138                                LocationOfTesting  0.160794\n",
            "69                        AsleepANDawakenedtoassault  0.161935\n",
            "96                                       TPIfracture  0.162733\n",
            "147                          SwabToDNAanalysisCondom  0.166698\n",
            "65                                    Patientdruguse  0.174296\n",
            "91                                         TPIbruise  0.177141\n",
            "46                         ImmunizationstatusTETANUS  0.182404\n",
            "9                                  PriorHxofSAover14  0.188876\n",
            "10                                PriorHxofSAunder14  0.211374\n",
            "40                    PsychotropicANTISEIZUREbipolar  0.218067\n",
            "50                       Sexualcontactwithin120hours  0.219095\n",
            "95                                  TPIpuncturewound  0.240414\n",
            "86                                     TPIlaceration  0.251847\n",
            "37                          PsychotropicSTIMULANTuse  0.253399\n",
            "87                                     TPIecchymosis  0.262042\n",
            "144                       SwabToDNAanalysisUnderwear  0.265612\n",
            "49                                      ReceivedHepB  0.268634\n",
            "2                               KITbroughtTOcrimelab  0.294002\n",
            "13                                     PainLocation3  0.317715\n",
            "85                                    LPIextremities  0.375621\n",
            "100                        TPIconjunctivalhemorrhage  0.380585\n",
            "20                                        MedProbEar  0.388067\n",
            "41                         PsychotropicADDICTIONmeds  0.425089\n",
            "90                                       TPIswelling  0.428855\n",
            "29                                       MedProbOral  0.451727\n",
            "30                                      MedProbRenal  0.478100\n",
            "57                             MIpersonalitydisorder  0.483803\n",
            "18                                      MedProbBlood  0.500005\n",
            "98                                           TPIburn  0.516893\n",
            "81                                           LPIhead  0.537980\n",
            "74                           NOSApatientsPENISfinger  0.544518\n",
            "76                           NOSApatientsPENISobject  0.544518\n",
            "75                            NOSApatientsPENISmouth  0.544518\n",
            "73                         NOSApatientsPENISgenitals  0.544518\n",
            "14                                     PainLocation4  0.568885\n",
            "25                                        MedProbGYN  0.581091\n",
            "32                                       MedProbSkin  0.586294\n",
            "31                                MedProbRespiratory  0.601034\n",
            "22                                        MedProbEye  0.602818\n",
            "17                                  MedProbInfection  0.612318\n",
            "1                                         EXAMbySANE  0.616451\n",
            "26                                     MedProbImmune  0.616848\n",
            "56                                            MIadhd  0.675632\n",
            "24                                         MedProbGU  0.716983\n",
            "60                            MIdrugalcoholdisorders  0.721905\n",
            "88                                       TPIabrasion  0.748477\n",
            "61                                           MIother  0.751946\n",
            "8                                               Race  0.754114\n",
            "6                                       ExamDeclined  0.771076\n",
            "58                                         MIbipolar  0.803443\n",
            "59                                  MIeatingdisorder  0.813357\n",
            "54                                            MIPTSD  0.845713\n",
            "33                                      MedProbOther  0.868184\n",
            "148                          SwabToDNAanalysisTampon  0.886844\n",
            "143                            SwabToDNAanalysisOral  0.904388\n",
            "5                                             Gender  1.000000\n",
            "131                                          Yscreen  1.000000\n",
            "Number of Nonsignificant Features: 149\n"
          ]
        }
      ]
    },
    {
      "cell_type": "markdown",
      "metadata": {
        "id": "gkVP0G9-mZ0c"
      },
      "source": [
        "**The table above shows only features that were not seen to be significantly related to our predicted feature**"
      ]
    },
    {
      "cell_type": "markdown",
      "metadata": {
        "id": "HjrpcDc-pi2Z"
      },
      "source": [
        "###3. Table of Significant Features"
      ]
    },
    {
      "cell_type": "code",
      "metadata": {
        "id": "SzJLRyjwctas",
        "colab": {
          "base_uri": "https://localhost:8080/"
        },
        "outputId": "7247b3a2-78cd-49b6-c3cc-3deb15f56fd4"
      },
      "source": [
        "#@title Significant Features\n",
        "#Display P-Values of all significant values\n",
        "pd.set_option(\"display.max_rows\", None, \"display.max_columns\", None)\n",
        "sigTable = pd.DataFrame(list(sigValues.items())) \n",
        "\n",
        "sigTable = sigTable.rename(columns={0: \"Feature\", 1: \"P-Value\"})\n",
        "sigTable = sigTable.sort_values(by=['P-Value'])\n",
        "\n",
        "print(sigTable)\n",
        "print(\"Number of Significant Features: \" + str(len(sigTable)))\n",
        "sigTable.to_excel(\"sig.xlsx\")"
      ],
      "execution_count": null,
      "outputs": [
        {
          "output_type": "stream",
          "name": "stdout",
          "text": [
            "                                  Feature        P-Value\n",
            "88                    ProfileofSTRDNAloci   0.000000e+00\n",
            "97             Swab1LocationSTRDNAprofile   0.000000e+00\n",
            "94                        CODISprofileHit   0.000000e+00\n",
            "102                      CODISSDISreasons   0.000000e+00\n",
            "101                      CODISNDISreasons   0.000000e+00\n",
            "87         ProbableSTRDNAprofileOFsuspect   0.000000e+00\n",
            "93              STRDNAProbableprofileTYPE   0.000000e+00\n",
            "95                          STRDNAkitUsed  2.758086e-288\n",
            "98             Swab2LocationSTRDNAprofile  2.958663e-272\n",
            "79                             DNAKitUsed  1.152716e-258\n",
            "83                      QuantMaleSwabLoc2  4.306772e-216\n",
            "82                      QuantMaleSwabLoc1  4.844051e-185\n",
            "104              SwabToDNAanalysisVaginal  8.382494e-171\n",
            "81                      QuantMaleDNAFound  2.799993e-163\n",
            "106             SwabToDNAanalysisPerianal  3.065993e-159\n",
            "103  SwabToDNAanalysisNoquantmaleDNAfound  1.721807e-150\n",
            "84                      QuantMaleSwabLoc3  2.544372e-148\n",
            "99             Swab3LocationSTRDNAprofile   4.575030e-95\n",
            "108                 SwabToDNAanalysisBody   1.732392e-85\n",
            "80                  SerologyDoneBeforeDNA   3.670329e-61\n",
            "105             SwabToDNAanalysisCervical   1.124739e-51\n",
            "58                      PostassaultBATHED   1.327276e-45\n",
            "47                            Ejaculation   4.973142e-35\n",
            "29                NOSApatientsVAGINApenis   3.121486e-34\n",
            "96             SUSPECTmouthcontactBREASTS   9.323142e-34\n",
            "90                   ProfileOfYSTRDNAloci   2.931184e-33\n",
            "52                   PostassaultDEFECATED   1.371586e-32\n",
            "56                PostassaultBRUSHEDTEETH   8.925008e-32\n",
            "48                              CONDOMuse   1.529883e-30\n",
            "42               SUSPECTmouthcontactMOUTH   1.792933e-30\n",
            "107               SwabToDNAanalysisRectal   1.392025e-28\n",
            "43               SUSPECTmouthcontactOTHER   1.984935e-27\n",
            "39                 NOSApatientsMOUTHmouth   4.043007e-27\n",
            "41            SUSPECTmouthcontactGENITALS   6.841738e-26\n",
            "37                 NOSApatientsMOUTHpenis   1.475855e-25\n",
            "49                         LUBRICATIONuse   3.660317e-25\n",
            "40                NOSApatientsMOUTHobject   8.354757e-24\n",
            "89                 ProbableYSTRDNAprofile   1.292340e-22\n",
            "32               NOSApatientsVAGINAobject   1.123189e-21\n",
            "100              SuspectStandardSubmitted   1.586466e-21\n",
            "31                NOSApatientsVAGINAmouth   8.439005e-21\n",
            "38                NOSApatientsMOUTHfinger   9.266156e-21\n",
            "60             PostassaultCHANGEDCLOTHING   2.359239e-19\n",
            "36                 NOSApatientsANUSobject   7.066763e-19\n",
            "25        Unknownanswerto4ormorequestions   2.700375e-18\n",
            "44                   HANDSofSuspectBreast   3.987371e-18\n",
            "46                    HANDSofSuspectOther   5.473835e-16\n",
            "11                       PatientActionHit   3.724272e-15\n",
            "17          SuspectactionsSTRANGLEDCHOKED   4.557681e-15\n",
            "45              HANDSofSuspectExtremities   6.730783e-15\n",
            "78                    YearofDNAextraction   1.235647e-14\n",
            "12                      PatientActionKick   1.375347e-14\n",
            "35                  NOSApatientsANUSmouth   1.490914e-14\n",
            "91                    SwabLocationYSTRDNA   2.365308e-14\n",
            "57                    PostassaultATEdrank   2.526247e-14\n",
            "26                     UnknownanswertoALL   3.954168e-14\n",
            "9                    PatientActionScratch   4.119870e-14\n",
            "50                   SuspectWASHEDpatient   5.309678e-14\n",
            "10                      PatientActionBite   9.715570e-14\n",
            "13                     PatientActionOther   1.122289e-13\n",
            "14                    SuspectactionVERBAL   2.016584e-13\n",
            "15              SuspectactionsGRABBEDHELD   2.681295e-13\n",
            "19               SuspectactionsRESTRAINTS   8.036497e-13\n",
            "34             NOSApatientsANUSfingerhand   1.430451e-12\n",
            "24                 OneORmoreunknownanswer   1.473348e-12\n",
            "30           NOSApatientsVAGINAfingerhand   1.509617e-12\n",
            "20                   SuspectactionsBURNED   1.213159e-11\n",
            "33                  NOSApatientsANUSpenis   1.458209e-11\n",
            "51                    PostassaultURINATED   1.007783e-10\n",
            "0                        YearKitCollected   1.284485e-10\n",
            "3                                    Pain   1.298237e-10\n",
            "16            SuspectactionsPHYSICALBLOWS   1.329279e-10\n",
            "27                             MemoryLoss   1.472491e-10\n",
            "65                    LGIfossanavicularis   1.832926e-10\n",
            "6                  OnlineMeetingOFsuspect   1.856943e-10\n",
            "18                   SuspectactionsWEAPON   2.478406e-10\n",
            "62                                LPIneck   1.061441e-09\n",
            "53                     PostassaultDOUCHED   1.874489e-09\n",
            "23         LossOFconsciousnessORawareness   2.468518e-09\n",
            "28                    LossOfconsciousness   3.948810e-09\n",
            "5                        PermanentAddress   1.098393e-08\n",
            "72                         ItemsAnalyzed3   1.425080e-08\n",
            "7                     Suspectrelationship   1.888973e-08\n",
            "59                 PostassaultGENITALWIPE   2.852281e-08\n",
            "63                           TPIpetechiae   4.290781e-08\n",
            "75                         ItemsAnalyzed6   7.293458e-08\n",
            "92              SecondSwabLocationYSTRDNA   7.587022e-08\n",
            "71                 NumberItemsWITH3cutoff   1.947051e-07\n",
            "61             PhysicalORmentalimpairment   2.277902e-07\n",
            "69                      ToludineDYEuptake   7.088284e-07\n",
            "2                                Military   1.165051e-06\n",
            "55                     PostassaultGARGLED   1.682023e-06\n",
            "76                         ItemsAnalyzed7   2.314233e-06\n",
            "8                       Locationofassault   2.446326e-06\n",
            "64                          Genitalinjury   3.049068e-06\n",
            "1                                 Student   3.350379e-06\n",
            "4                           PainTreatment   4.480037e-06\n",
            "54                     PostassaultVOMITED   1.138785e-05\n",
            "22                         SuspectETOHuse   1.240665e-05\n",
            "21                       MultipleSuspects   1.506728e-05\n",
            "85                      QuantMaleSwabLoc4   2.916938e-05\n",
            "67                          TGIlaceration   3.039342e-05\n",
            "66                 LGIposteriorfourchette   3.288851e-05\n",
            "70                         UQuikcollected   3.389550e-05\n",
            "77                     TypesOFitemsTested   4.228642e-05\n",
            "73                         ItemsAnalyzed4   5.576639e-05\n",
            "74                         ItemsAnalyzed5   5.804467e-05\n",
            "68                            TGIabrasion   1.072584e-04\n",
            "86                      QuantMaleSwabLoc5   1.371909e-04\n",
            "Number of Significant Features: 109\n"
          ]
        }
      ]
    },
    {
      "cell_type": "markdown",
      "metadata": {
        "id": "ZGX5tg3kmiwg"
      },
      "source": [
        "**This table shows only significant features that we would likely use for further analysis of our dataset**"
      ]
    },
    {
      "cell_type": "markdown",
      "metadata": {
        "id": "WZykqjJNftbb"
      },
      "source": [
        "###We can dig deeper into the features we found significant by performing [Ad Hoc testing.](https://colab.research.google.com/drive/16IJCZW8NUS6oFwhgAjpKhdl1z_nYG2rL#scrollTo=BU6_9mNwc94H) This will help us to determine what categories in each significant feature lend to the feature's low p-value."
      ]
    },
    {
      "cell_type": "markdown",
      "metadata": {
        "id": "OpkOKu2JTc4-"
      },
      "source": [
        "##Results of Numerical Features\n",
        "As seen in the table below, all numerical features we looked at were significant in obtaining an eligible profile."
      ]
    },
    {
      "cell_type": "code",
      "metadata": {
        "cellView": "form",
        "id": "48hTXyNZTkai",
        "colab": {
          "base_uri": "https://localhost:8080/"
        },
        "outputId": "3b83171e-aa31-477d-8a36-f2ae76434df4"
      },
      "source": [
        "#@title All Numerical Features Sorted by Increasing P-Value\n",
        "#Prints P-Values for all features (both significant and insignificant)\n",
        "pd.set_option(\"display.max_rows\", None, \"display.max_columns\", None)\n",
        "anovaTable = pd.DataFrame(list(anovaValue.items())) \n",
        "\n",
        "anovaTable = anovaTable.rename(columns={0: \"Feature\", 1: \"P-Value\"})\n",
        "anovaTable = anovaTable.sort_values(by=['P-Value'])\n",
        "\n",
        "print(anovaTable)"
      ],
      "execution_count": null,
      "outputs": [
        {
          "output_type": "stream",
          "name": "stdout",
          "text": [
            "                             Feature        P-Value\n",
            "12          NumberOfswabsDNAanalysis   0.000000e+00\n",
            "14        NumberOFswabsSTRDNAprofile   0.000000e+00\n",
            "11         NumberOfswabsQuantMaleDNA  1.380887e-276\n",
            "1   Timebetweenassaultandexaminhours   3.556378e-42\n",
            "13                NumberofSTRDNAloci   1.223560e-38\n",
            "4           NumberofUnknownresponses   5.072397e-21\n",
            "8                NumberOFitemsTested   1.836985e-11\n",
            "0                                Age   1.114992e-09\n",
            "5               NumberAssaultiveActs   3.875028e-08\n",
            "15               NumberOfYSTRDNAloci   4.021639e-07\n",
            "7            Numberofgentialinjuries   8.459960e-04\n",
            "9        TimeBetweenCollectAndDNAext   1.153214e-02\n",
            "10   TimeBetweenSubmissionANDtesting   8.411413e-02\n",
            "2                          PainLevel   1.079722e-01\n",
            "3             MulitipleSuspectNumber   7.300534e-01\n",
            "6           Numberofphysicalinjuries   9.954010e-01\n"
          ]
        }
      ]
    }
  ]
}
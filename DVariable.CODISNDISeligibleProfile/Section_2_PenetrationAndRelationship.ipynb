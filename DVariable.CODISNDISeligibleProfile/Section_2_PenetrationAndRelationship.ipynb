{
  "nbformat": 4,
  "nbformat_minor": 0,
  "metadata": {
    "colab": {
      "name": "Section 2 - PenetrationAndRelationship.ipynb",
      "provenance": [],
      "collapsed_sections": [
        "reuIaF5gAe8_",
        "6wpKQ1tSaj62",
        "v1YSgW5BAVCs",
        "-7HYSWRm21GX"
      ],
      "include_colab_link": true
    },
    "kernelspec": {
      "display_name": "Python 3",
      "name": "python3"
    },
    "language_info": {
      "name": "python"
    }
  },
  "cells": [
    {
      "cell_type": "markdown",
      "metadata": {
        "id": "view-in-github",
        "colab_type": "text"
      },
      "source": [
        "<a href=\"https://colab.research.google.com/github/devorahst/Test/blob/main/DVariable.CODISNDISeligibleProfile/Section_2_PenetrationAndRelationship.ipynb\" target=\"_parent\"><img src=\"https://colab.research.google.com/assets/colab-badge.svg\" alt=\"Open In Colab\"/></a>"
      ]
    },
    {
      "cell_type": "markdown",
      "metadata": {
        "id": "reuIaF5gAe8_"
      },
      "source": [
        "#Set-Up"
      ]
    },
    {
      "cell_type": "code",
      "metadata": {
        "cellView": "form",
        "colab": {
          "base_uri": "https://localhost:8080/"
        },
        "id": "ubBiLs_l4TRJ",
        "outputId": "57fb4bb5-b89a-4d5b-fff5-585b2c7ed6f3"
      },
      "source": [
        "#pulls up our SAK dataset\n",
        "#@title Upload Dataset\n",
        "file_id = \"13DLmmbYXonl9alHR4VobfeTuA_IxlQxZ\" #@param {type:\"string\"}\n",
        "!pip install -U -q PyDrive\n",
        "\n",
        "from pydrive.auth import GoogleAuth\n",
        "from pydrive.drive import GoogleDrive\n",
        "from google.colab import auth\n",
        "from oauth2client.client import GoogleCredentials\n",
        "\n",
        "auth.authenticate_user()\n",
        "gauth = GoogleAuth()\n",
        "gauth.credentials = GoogleCredentials.get_application_default()\n",
        "drive = GoogleDrive(gauth)\n",
        "\n",
        "from google.colab import auth\n",
        "auth.authenticate_user()\n",
        "\n",
        "from googleapiclient.discovery import build\n",
        "drive_service = build('drive', 'v3')\n",
        "\n",
        "import io\n",
        "from googleapiclient.http import MediaIoBaseDownload\n",
        "\n",
        "request = drive_service.files().get_media(fileId=file_id)\n",
        "downloaded = io.BytesIO()\n",
        "downloader = MediaIoBaseDownload(downloaded, request)\n",
        "done = False\n",
        "while done is False:\n",
        "  _, done = downloader.next_chunk()\n",
        "\n",
        "fileId = drive.CreateFile({'id': file_id }) #DRIVE_FILE_ID is file id example: 1iytA1n2z4go3uVCwE_vIKouTKyIDjEq\n",
        "print(fileId['title'])  \n",
        "fileId.GetContentFile(fileId['title'])  # Save Drive file as a local file\n",
        "\n",
        "!pip install -U scikit-learn\n",
        "\n",
        "from scipy.stats import chi2_contingency\n",
        "from scipy import stats\n",
        "import pandas as pd\n",
        "import numpy as np\n",
        "import seaborn as sns\n",
        "import matplotlib.pyplot as plt\n",
        "%matplotlib inline\n",
        "\n",
        "# To change scientific numbers to float\n",
        "np.set_printoptions(formatter={'float_kind':'{:f}'.format})\n",
        "\n",
        "with open(fileId['title'], encoding=\"utf8\", errors='ignore') as f:\n",
        "  df = pd.read_csv(f)\n",
        "\n",
        "df = df.apply(pd.to_numeric, errors='ignore')\n",
        "predictedVariable = \"CODISNDISeligibleProfile\"\n",
        "\n",
        "\n",
        "#delete rows that don't have a value for CODISNDISeligibleProfile\n",
        "\n",
        "predictedFeatures = ['CODISNDISeligibleProfile', 'SDISeligibleprofile']  \n",
        "\n",
        "numericalFeatures = ['Age', 'Timebetweenassaultandexaminhours', 'PainLevel', 'MulitipleSuspectNumber', \n",
        "                     'NumberofUnknownresponses', 'NumberAssaultiveActs', 'Numberofphysicalinjuries', 'Numberofgentialinjuries',\n",
        "                     'NumberOFitemsTested', 'TimeBetweenCollectAndDNAext', 'TimeBetweenSubmissionANDtesting', 'NumberOfswabsQuantMaleDNA',\n",
        "                     'NumberOfswabsDNAanalysis', 'NumberofSTRDNAloci', 'NumberOFswabsSTRDNAprofile', 'NumberOfYSTRDNAloci']\n",
        "\n",
        "categoricalFeatures = ['Site', 'EXAMbySANE', 'YearKitCollected', 'KITbroughtTOcrimelab', 'KITlengthofSubmissionTime',\n",
        "                       'UnderAge18', 'Gender', 'ExamDeclined', 'Noninterview', 'Race', 'PriorHxofSAover14',\n",
        "                       'PriorHxofSAunder14', 'Student', 'Military', 'Pain', 'PainLocation1','PainLocation2', \n",
        "                       'PainLocation3', 'PainLocation4','PainTreatment', 'PermanentAddress', 'CurrentPhysicalmedprob',\n",
        "                       'MedProbChronic', 'MedProbInfection', 'MedProbBlood', 'MedProbCardiac', 'MedProbEar', 'MedProbEndocrine',\n",
        "                       'MedProbEye', 'MedProbGI', 'MedProbGU', 'MedProbGYN', 'MedProbImmune', 'MedProbMusculoskeletal', 'MedProbNeurological',\n",
        "                       'MedProbOral', 'MedProbRenal', 'MedProbRespiratory', 'MedProbSkin', 'MedProbOther', 'Medication',\n",
        "                       'PsychotropicMEDuse', 'PsychotropicANTIPSYCHOTICSatypical', 'PsychotropicSTIMULANTuse', 'PsychotropicANTIANXIETY', \n",
        "                       'PsychotropicANTIDEPRESSANTS', 'PsychotropicANTISEIZUREbipolar', 'PsychotropicADDICTIONmeds','PsychotropicSLEEPaid', 'PsychotropicOTHER', \n",
        "                       'PsychotropicANTIPSYCHOTICStypical', 'PolypharmacyPsychMeds', 'ImmunizationstatusTETANUS', 'ReceivedTetanus',\n",
        "                       'ImmunizationstatusHEP', 'ReceivedHepB', 'Sexualcontactwithin120hours', 'Selfdisclosurementalillness', 'MIdepression',\n",
        "                       'MIanxiety', 'MIPTSD', 'MIpsychoticDisorders', 'MIadhd', 'MIpersonalitydisorder', 'MIbipolar', 'MIeatingdisorder', 'MIdrugalcoholdisorders', \n",
        "                       'MIother', 'SelfDiscolsureMentalillnessORuseofpsychotropics', 'OnlineMeetingOFsuspect', 'Suspectrelationship',\n",
        "                       'Locationofassault', 'PatientActionScratch', 'PatientActionBite', 'PatientActionHit', 'PatientActionKick', 'PatientActionOther',\n",
        "                       'Suspectrace', 'SuspectactionVERBAL', 'SuspectactionsGRABBEDHELD', 'SuspectactionsPHYSICALBLOWS', 'SuspectactionsSTRANGLEDCHOKED',\n",
        "                       'SuspectactionsWEAPON', 'SuspectactionsRESTRAINTS', 'SuspectactionsBURNED', 'MultipleSuspects', 'SuspectedDrugfacilitated',\n",
        "                       'Patientdruguse', 'PatientETOHuse', 'Suspectdruguse', 'SuspectETOHuse', 'PatientSuspectETOHordrug', 'LossOFconsciousnessORawareness',\n",
        "                       'OneORmoreunknownanswer', 'Unknownanswerto4ormorequestions', 'UnknownanswertoALL', 'AsleepANDawakenedtoassault', 'MemoryLoss',\n",
        "                       'LossOfconsciousness', 'DecreasedAwareness', 'TonicImmobility', 'Detachment', 'NOSApatientsVAGINApenis', 'NOSApatientsVAGINAfingerhand',\n",
        "                       'NOSApatientsVAGINAmouth', 'NOSApatientsVAGINAobject', 'NOSApatientsANUSpenis', 'NOSApatientsANUSfingerhand', 'NOSApatientsANUSmouth', \n",
        "                       'NOSApatientsANUSobject', 'NOSApatientsPENISgenitals', 'NOSApatientsPENISfinger', 'NOSApatientsPENISmouth', 'NOSApatientsPENISobject', \n",
        "                       'NOSApatientsMOUTHpenis', 'NOSApatientsMOUTHfinger', 'NOSApatientsMOUTHmouth', 'NOSApatientsMOUTHobject', 'SUSPECTmouthcontactGENITALS', \n",
        "                       'SUSPECTmouthcontactMOUTH', 'SUSPECTmouthcontactOTHER', 'HANDSofSuspectBreast', 'HANDSofSuspectExtremities', \n",
        "                       'HANDSofSuspectOther', 'Ejaculation', 'CONDOMuse', 'LUBRICATIONuse', 'SuspectWASHEDpatient', 'SuspectINJUREDbypatient', 'PostassaultURINATED', \n",
        "                       'PostassaultDEFECATED', 'PostassaultDOUCHED', 'PostassaultVOMITED', 'PostassaultGARGLED', 'PostassaultBRUSHEDTEETH', 'PostassaultATEdrank', \n",
        "                       'PostassaultBATHED', 'PostassaultGENITALWIPE', 'PostassaultCHANGEDCLOTHING', 'PostassaultREMOVEDInserted', 'PhysicalORmentalimpairment', 'Physicalinjury', \n",
        "                       'LPIhead', 'LPIneck', 'LPIbreasts', 'LPIchestback', 'LPIabdomen', 'LPIextremities', 'TPIlaceration', 'TPIecchymosis', 'TPIabrasion', 'TPIredness', \n",
        "                       'TPIswelling', 'TPIbruise', 'TPIpetechiae', 'TPIincision', 'TPIavulsion', 'TPIdiscoloredmark', 'TPIpuncturewound', 'TPIfracture', \n",
        "                       'TPIbitemark', 'TPIburn', 'TPImissingorbrokenTEETH', 'TPIconjunctivalhemorrhage', 'Genitalinjury', 'LGIinnerthighs', 'LGIclitoralhoodclitoris', \n",
        "                       'LGIlabiamajora', 'LGIlabiaminora', 'LGIperiurethraltissueURETHRA', 'LGIperihymenaltissue', 'LGIhymen', 'LGIvagina', 'LGIcervix', 'LGIfossanavicularis', \n",
        "                       'LGIposteriorfourchette', 'LGIperineum', 'LGIperineum', 'LGIanalrectal', 'LGIbuttocks', 'LGImalePerianalperineum', 'LGIglanspenis', 'LGIpenileshaft', \n",
        "                       'LGImaleURETHRALmeatus', 'LGIscrotum', 'LGItestes', 'LGImaleanus', 'LGImalerectum', 'TGIlaceration', 'TGIecchymosis', 'TGIabrasion', 'TGIredness', \n",
        "                       'TGIswelling', 'TGIbruise', 'TGIpetechiae', 'TGIincision', 'TGIavulsion', 'TGIdiscoloredmark', 'TGIpuncturewound', 'ToludineDYEuptake', 'HIVnPEP', \n",
        "                       'UQuikcollected', 'Yscreen', 'NumberItemsWITH3cutoff', 'ItemsAnalyzed1', 'ItemsAnalyzed2', 'ItemsAnalyzed3', 'ItemsAnalyzed4', 'ItemsAnalyzed5', \n",
        "                       'ItemsAnalyzed6', 'ItemsAnalyzed7', 'ItemsAnalyzed8', 'ItemsAnalyzed9', 'ItemsAnalyzed10', 'TypesOFitemsTested', 'RandomSample20142015', \n",
        "                       'YearofDNAextraction', 'LocationOfTesting','DANYfundedSAK', 'DNAKitUsed', 'SerologyDoneBeforeDNA', 'QuantMaleDNAFound', 'QuantMaleSwabLoc1', \n",
        "                       'QuantMaleSwabLoc2', 'QuantMaleSwabLoc3', 'QuantMaleSwabLoc4', 'QuantMaleSwabLoc5', 'ProbableSTRDNAprofileOFsuspect', 'ProfileofSTRDNAloci', 'ProbableYSTRDNAprofile', 'ProfileOfYSTRDNAloci', \n",
        "                       'SwabLocationYSTRDNA', 'SecondSwabLocationYSTRDNA', 'SwabFromSuspectwithVictimDNA', 'ExcludeSuspect', 'ConsensualPartnerStandardSubmitted', \n",
        "                       'STRDNAProbableprofileTYPE', 'CODISprofileHit', 'STRDNAkitUsed', 'SUSPECTmouthcontactBREASTS', 'Swab1LocationSTRDNAprofile', 'Swab2LocationSTRDNAprofile',\n",
        "                       'Swab3LocationSTRDNAprofile', 'SuspectStandardSubmitted', 'CODISNDISreasons', 'CODISSDISreasons']\n",
        "\n",
        "#unusedFeatures and stringFeatures are columns that contain data that was relevant to medical professionals and for legal purposes, \n",
        "#but that aren't useful for our feature association or for predicting eligibility\n",
        "unusedFeatures = ['filter_$', 'PainTreatmentYesNo', 'GenderMaleFemale', 'DVsuspect', 'RacePrimaryGroups', 'IPSAcombined', 'STRDNAcompleted', \n",
        "                  'PhysicalInjuryNOunknown', 'GenitalInjuryNOunknown']\n",
        "\n",
        "stringFeatures = ['DeIdentifiedCase', 'Raceother', 'SchoolName', 'MilitaryBranchName', 'AddressIfnotPermanent', 'Currentmedprobtext',\n",
        "                  'MedProbOtherText', 'Medicationtext', 'Sexualcontactwithin120hoursTYPE', 'SelfdisclosureMItype', 'OnlineMeetingName', 'SuspectrelationshipOTHER',\n",
        "                  'LocationofassaultOTHER', 'Surfaceofassault', 'PatientActionOtherTEXT', 'SuspectraceOTHER', 'SuspectOTHERactions', 'NOSApatientsVAGINAobjectdescription',\n",
        "                  'NOSApatientsANUSobjectdescription', 'NOSApatientsPENISobjectdescription', 'NOSApatientsMOUTHobjectdescription', 'EjaculationSITE', 'LUBRICATIONtype',\n",
        "                  'SuspectINJUREDbypatientexplanation', 'Impairmentdescription', 'UBFSnumber', 'ISPnumber', 'DateSubmittedUBFS', 'DateofDNAextractionReport',\n",
        "                  'BodySwabLocQuant', 'BodySwabDNAanalysis', 'BodySwabLocationSTRDNA', 'BodySwabYSTRDNA', 'ISPnotes2020', 'UBFSnotes2020', 'UBFSnotes2018', 'SUSPECTmouthcontactOTHERsite', 'UBFSnotes2014']\n",
        "\n",
        "dummy1 = pd.get_dummies(df['Swab1ToDNAanalysis'])\n",
        "dummy2 = pd.get_dummies(df['Swab2ToDNAanalysis'])\n",
        "dummy3 = pd.get_dummies(df['Swab3ToDNAanalysis'])\n",
        "dummy4 = pd.get_dummies(df['Swab4ToDNAanalysis'])\n",
        "\n",
        "dummy4['0'] = dummy1['0']\n",
        "dummy1['11'] = dummy2['11']\n",
        "dummy3['0'] = dummy1['0']\n",
        "\n",
        "newDummy = dummy1\n",
        "\n",
        "\n",
        "newDummy = newDummy.where(newDummy != 0, dummy2)\n",
        "newDummy = newDummy.where(newDummy != 0, dummy3)\n",
        "newDummy = newDummy.where(newDummy != 0, dummy4)\n",
        "\n",
        "# print(newDummy)\n",
        "df['SwabToDNAanalysisNoquantmaleDNAfound'] = newDummy['0'].astype('category')\n",
        "df['SwabToDNAanalysisVaginal'] = newDummy['1']\n",
        "df['SwabToDNAanalysisCervical'] = newDummy['2']\n",
        "df['SwabToDNAanalysisPerianal'] = newDummy['3']\n",
        "df['SwabToDNAanalysisRectal'] = newDummy['4']\n",
        "df['SwabToDNAanalysisOral'] = newDummy['5']\n",
        "df['SwabToDNAanalysisBody'] = newDummy['6']\n",
        "df['SwabToDNAanalysisUnderwear'] = newDummy['7']\n",
        "df['SwabToDNAanalysisOtherClothing'] = newDummy['8']\n",
        "df['SwabToDNAanalysisBedding'] = newDummy['9']\n",
        "df['SwabToDNAanalysisCondom'] = newDummy['10']\n",
        "df['SwabToDNAanalysisTampon'] = newDummy['11']\n",
        "\n",
        "swabToDNAFeatures = ['SwabToDNAanalysisNoquantmaleDNAfound', 'SwabToDNAanalysisVaginal', 'SwabToDNAanalysisCervical', 'SwabToDNAanalysisPerianal', 'SwabToDNAanalysisRectal', \n",
        "                     'SwabToDNAanalysisOral','SwabToDNAanalysisBody', 'SwabToDNAanalysisUnderwear', 'SwabToDNAanalysisOtherClothing', 'SwabToDNAanalysisBedding', \n",
        "                     'SwabToDNAanalysisCondom','SwabToDNAanalysisTampon' ]\n",
        "\n",
        "categoricalFeatures.extend(['SwabToDNAanalysisNoquantmaleDNAfound', 'SwabToDNAanalysisVaginal', 'SwabToDNAanalysisCervical', 'SwabToDNAanalysisPerianal', 'SwabToDNAanalysisRectal', \n",
        "                     'SwabToDNAanalysisOral','SwabToDNAanalysisBody', 'SwabToDNAanalysisUnderwear', 'SwabToDNAanalysisOtherClothing', 'SwabToDNAanalysisBedding', \n",
        "                     'SwabToDNAanalysisCondom','SwabToDNAanalysisTampon'])\n",
        "\n",
        "df = df.replace(r'^\\s+$', np.nan, regex=True)\n",
        "df = df.replace({np.nan: \"No Response\"})\n",
        "df = df.applymap(str)\n",
        "df = df[df[predictedVariable] != \"No Response\"]\n"
      ],
      "execution_count": null,
      "outputs": [
        {
          "output_type": "stream",
          "text": [
            "MasterValentine_UpdatedCODIS_Feb12_2021.csv\n",
            "Requirement already satisfied: scikit-learn in /usr/local/lib/python3.7/dist-packages (0.24.2)\n",
            "Requirement already satisfied: numpy>=1.13.3 in /usr/local/lib/python3.7/dist-packages (from scikit-learn) (1.19.5)\n",
            "Requirement already satisfied: scipy>=0.19.1 in /usr/local/lib/python3.7/dist-packages (from scikit-learn) (1.4.1)\n",
            "Requirement already satisfied: threadpoolctl>=2.0.0 in /usr/local/lib/python3.7/dist-packages (from scikit-learn) (2.2.0)\n",
            "Requirement already satisfied: joblib>=0.11 in /usr/local/lib/python3.7/dist-packages (from scikit-learn) (1.0.1)\n"
          ],
          "name": "stdout"
        },
        {
          "output_type": "stream",
          "text": [
            "/usr/local/lib/python3.7/dist-packages/IPython/core/interactiveshell.py:2718: DtypeWarning: Columns (0,1,2,3,4,5,9,301) have mixed types.Specify dtype option on import or set low_memory=False.\n",
            "  interactivity=interactivity, compiler=compiler, result=result)\n"
          ],
          "name": "stderr"
        }
      ]
    },
    {
      "cell_type": "markdown",
      "metadata": {
        "id": "6wpKQ1tSaj62"
      },
      "source": [
        "#Filter out Idaho Data"
      ]
    },
    {
      "cell_type": "code",
      "metadata": {
        "colab": {
          "base_uri": "https://localhost:8080/"
        },
        "id": "OlFEeoG9anh7",
        "outputId": "d7d92338-1402-41dc-bacc-55b92f4a3cca"
      },
      "source": [
        "print(df['Site'].value_counts())\n",
        "idaho = df[df['Site'] == '6'] #filtered dataframe without idaho data\n",
        "df = df[df['Site'] != '6'] #filtered dataframe without idaho data\n",
        "print(len(df))\n"
      ],
      "execution_count": null,
      "outputs": [
        {
          "output_type": "stream",
          "text": [
            "1              2835\n",
            "6              1017\n",
            "4               742\n",
            "5               675\n",
            "2               247\n",
            "3               125\n",
            "No Response       2\n",
            "Name: Site, dtype: int64\n",
            "4626\n"
          ],
          "name": "stdout"
        }
      ]
    },
    {
      "cell_type": "markdown",
      "metadata": {
        "id": "v1YSgW5BAVCs"
      },
      "source": [
        "#Filter out Genders"
      ]
    },
    {
      "cell_type": "code",
      "metadata": {
        "id": "225tcp-T5Gar"
      },
      "source": [
        "#Code to filter out all other genders\n",
        "df = df[df['Gender'] == '1'] #dataframe containing information from only female respondents"
      ],
      "execution_count": null,
      "outputs": []
    },
    {
      "cell_type": "markdown",
      "metadata": {
        "id": "_xNaiH2ayUXN"
      },
      "source": [
        "#Filter Relationship"
      ]
    },
    {
      "cell_type": "code",
      "metadata": {
        "colab": {
          "base_uri": "https://localhost:8080/"
        },
        "id": "H8V26VLGybdJ",
        "outputId": "d1329130-cfb6-427f-eb4b-eb4271d9f9a1"
      },
      "source": [
        "eligible = df[df['CODISNDISeligibleProfile'] != 'No Response']\n",
        "print(len(eligible))\n",
        "\n",
        "relationship = eligible[eligible['Suspectrelationship'] != 'No Response']\n",
        "\n",
        "# relationship = relationship[relationship['Suspectrelationship'] != '5'] #Take this out - just seeing if 'unknown' makes it sig\n",
        "\n",
        "newContingency= pd.crosstab(relationship['Suspectrelationship'], relationship['CODISNDISeligibleProfile'])\n",
        "c, p, dof, expected = chi2_contingency(newContingency)\n",
        "print(newContingency)"
      ],
      "execution_count": null,
      "outputs": [
        {
          "output_type": "stream",
          "text": [
            "4404\n",
            "CODISNDISeligibleProfile     0    1\n",
            "Suspectrelationship                \n",
            "1                          555  287\n",
            "2                         1615  913\n",
            "3                          200  103\n",
            "4                          206   64\n",
            "6                          148   98\n"
          ],
          "name": "stdout"
        }
      ]
    },
    {
      "cell_type": "markdown",
      "metadata": {
        "id": "-7HYSWRm21GX"
      },
      "source": [
        "#Sorting Penetration into a Column\n"
      ]
    },
    {
      "cell_type": "code",
      "metadata": {
        "colab": {
          "base_uri": "https://localhost:8080/"
        },
        "id": "cyIoaE9tyq7c",
        "outputId": "d1ba0172-0627-4163-ed27-7492c87cfbe3"
      },
      "source": [
        "# NOSApatientsVAGINApenis, NOSApatientsVAGINAfingerhand, NOSApatientsVAGINAobject, \n",
        "# NOSApatientsANUSpenis, NOSApatientsANUSfinger, NOSApatientsANUSobject\n",
        "\n",
        "# If find one of these features as a yes, mark a \"1\" in the column\n",
        "# Else mark \"0\"\n",
        "\n",
        "\n",
        "def makeContingency(row):\n",
        "  #look if it is penetration\n",
        "  penetrative_values = ['NOSApatientsVAGINApenis','NOSApatientsVAGINAfingerhand','NOSApatientsVAGINAobject',\n",
        "                 'NOSApatientsANUSpenis', 'NOSApatientsANUSfingerhand', 'NOSApatientsANUSobject']  #Check if any of these for any given case has a 1\n",
        "\n",
        "  for value in penetrative_values:\n",
        "    status = row[value]\n",
        "    if status == \"1\":\n",
        "      return \"1\"\n",
        "  return \"0\"\n",
        "\n",
        "\n",
        "relationship['Penetration'] = relationship.apply(makeContingency, axis=1)\n",
        "table = relationship['Penetration'].value_counts()\n",
        "print(\"Counts for Penetration: \" + \"(\" + str(len(relationship)) + \" total cases)\")\n",
        "# print(table)\n",
        "\n",
        "for row in table.index:\n",
        "  perc = (table[row] / len(relationship)) * 100\n",
        "  format_float = \"{:.2f}\".format(perc)\n",
        "\n",
        "  print(row + \" \" + str(table[row]) + \" \" + str(format_float) + \"%\")"
      ],
      "execution_count": null,
      "outputs": [
        {
          "output_type": "stream",
          "text": [
            "Counts for Penetration: (4189 total cases)\n",
            "1 3301 78.80%\n",
            "0 888 21.20%\n"
          ],
          "name": "stdout"
        }
      ]
    },
    {
      "cell_type": "markdown",
      "metadata": {
        "id": "wwm6qRmLybdI"
      },
      "source": [
        "#Run Chi-Square with Relationship vs Penetration\n"
      ]
    },
    {
      "cell_type": "code",
      "metadata": {
        "colab": {
          "base_uri": "https://localhost:8080/"
        },
        "id": "cD0wUEz-yUXN",
        "outputId": "59a6ea1f-e287-45af-dd9d-ee328ee13488"
      },
      "source": [
        "newContingency= pd.crosstab(relationship['Suspectrelationship'], relationship['Penetration'])\n",
        "c, p, dof, expected = chi2_contingency(newContingency)\n",
        "print(newContingency)\n",
        "print(p)"
      ],
      "execution_count": null,
      "outputs": [
        {
          "output_type": "stream",
          "text": [
            "Penetration            0     1\n",
            "Suspectrelationship           \n",
            "1                    270   572\n",
            "2                    482  2046\n",
            "3                     43   260\n",
            "4                     69   201\n",
            "6                     24   222\n",
            "3.081829711123831e-20\n"
          ],
          "name": "stdout"
        }
      ]
    }
  ]
}
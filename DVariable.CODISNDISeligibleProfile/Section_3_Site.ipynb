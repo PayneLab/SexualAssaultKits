{
  "nbformat": 4,
  "nbformat_minor": 0,
  "metadata": {
    "colab": {
      "name": "Section 3 - Site.ipynb",
      "provenance": [],
      "collapsed_sections": [
        "reuIaF5gAe8_",
        "v1YSgW5BAVCs"
      ],
      "include_colab_link": true
    },
    "kernelspec": {
      "display_name": "Python 3",
      "name": "python3"
    },
    "language_info": {
      "name": "python"
    }
  },
  "cells": [
    {
      "cell_type": "markdown",
      "metadata": {
        "id": "view-in-github",
        "colab_type": "text"
      },
      "source": [
        "<a href=\"https://colab.research.google.com/github/devorahst/Test/blob/main/DVariable.CODISNDISeligibleProfile/Section_3_Site.ipynb\" target=\"_parent\"><img src=\"https://colab.research.google.com/assets/colab-badge.svg\" alt=\"Open In Colab\"/></a>"
      ]
    },
    {
      "cell_type": "markdown",
      "metadata": {
        "id": "reuIaF5gAe8_"
      },
      "source": [
        "#Set-Up"
      ]
    },
    {
      "cell_type": "code",
      "metadata": {
        "cellView": "form",
        "colab": {
          "base_uri": "https://localhost:8080/"
        },
        "id": "ubBiLs_l4TRJ",
        "outputId": "6f065346-4f3e-401f-820a-2c6f21bbfbbc"
      },
      "source": [
        "#pulls up our SAK dataset\n",
        "#@title Upload Dataset\n",
        "file_id = \"13DLmmbYXonl9alHR4VobfeTuA_IxlQxZ\" #@param {type:\"string\"}\n",
        "!pip install -U -q PyDrive\n",
        "\n",
        "from pydrive.auth import GoogleAuth\n",
        "from pydrive.drive import GoogleDrive\n",
        "from google.colab import auth\n",
        "from oauth2client.client import GoogleCredentials\n",
        "\n",
        "auth.authenticate_user()\n",
        "gauth = GoogleAuth()\n",
        "gauth.credentials = GoogleCredentials.get_application_default()\n",
        "drive = GoogleDrive(gauth)\n",
        "\n",
        "from google.colab import auth\n",
        "auth.authenticate_user()\n",
        "\n",
        "from googleapiclient.discovery import build\n",
        "drive_service = build('drive', 'v3')\n",
        "\n",
        "import io\n",
        "from googleapiclient.http import MediaIoBaseDownload\n",
        "\n",
        "request = drive_service.files().get_media(fileId=file_id)\n",
        "downloaded = io.BytesIO()\n",
        "downloader = MediaIoBaseDownload(downloaded, request)\n",
        "done = False\n",
        "while done is False:\n",
        "  _, done = downloader.next_chunk()\n",
        "\n",
        "fileId = drive.CreateFile({'id': file_id }) #DRIVE_FILE_ID is file id example: 1iytA1n2z4go3uVCwE_vIKouTKyIDjEq\n",
        "print(fileId['title'])  \n",
        "fileId.GetContentFile(fileId['title'])  # Save Drive file as a local file\n",
        "\n",
        "!pip install -U scikit-learn\n",
        "\n",
        "from scipy.stats import chi2_contingency\n",
        "from scipy import stats\n",
        "import pandas as pd\n",
        "import numpy as np\n",
        "import seaborn as sns\n",
        "import matplotlib.pyplot as plt\n",
        "%matplotlib inline\n",
        "\n",
        "# To change scientific numbers to float\n",
        "np.set_printoptions(formatter={'float_kind':'{:f}'.format})\n",
        "\n",
        "with open(fileId['title'], encoding=\"utf8\", errors='ignore') as f:\n",
        "  df = pd.read_csv(f)\n",
        "\n",
        "df = df.apply(pd.to_numeric, errors='ignore')\n",
        "predictedVariable = \"CODISNDISeligibleProfile\"\n",
        "\n",
        "\n",
        "#delete rows that don't have a value for CODISNDISeligibleProfile\n",
        "\n",
        "predictedFeatures = ['CODISNDISeligibleProfile', 'SDISeligibleprofile']  \n",
        "\n",
        "numericalFeatures = ['Age', 'Timebetweenassaultandexaminhours', 'PainLevel', 'MulitipleSuspectNumber', \n",
        "                     'NumberofUnknownresponses', 'NumberAssaultiveActs', 'Numberofphysicalinjuries', 'Numberofgentialinjuries',\n",
        "                     'NumberOFitemsTested', 'TimeBetweenCollectAndDNAext', 'TimeBetweenSubmissionANDtesting', 'NumberOfswabsQuantMaleDNA',\n",
        "                     'NumberOfswabsDNAanalysis', 'NumberofSTRDNAloci', 'NumberOFswabsSTRDNAprofile', 'NumberOfYSTRDNAloci']\n",
        "\n",
        "categoricalFeatures = ['Site', 'EXAMbySANE', 'YearKitCollected', 'KITbroughtTOcrimelab', 'KITlengthofSubmissionTime',\n",
        "                       'UnderAge18', 'Gender', 'ExamDeclined', 'Noninterview', 'Race', 'PriorHxofSAover14',\n",
        "                       'PriorHxofSAunder14', 'Student', 'Military', 'Pain', 'PainLocation1','PainLocation2', \n",
        "                       'PainLocation3', 'PainLocation4','PainTreatment', 'PermanentAddress', 'CurrentPhysicalmedprob',\n",
        "                       'MedProbChronic', 'MedProbInfection', 'MedProbBlood', 'MedProbCardiac', 'MedProbEar', 'MedProbEndocrine',\n",
        "                       'MedProbEye', 'MedProbGI', 'MedProbGU', 'MedProbGYN', 'MedProbImmune', 'MedProbMusculoskeletal', 'MedProbNeurological',\n",
        "                       'MedProbOral', 'MedProbRenal', 'MedProbRespiratory', 'MedProbSkin', 'MedProbOther', 'Medication',\n",
        "                       'PsychotropicMEDuse', 'PsychotropicANTIPSYCHOTICSatypical', 'PsychotropicSTIMULANTuse', 'PsychotropicANTIANXIETY', \n",
        "                       'PsychotropicANTIDEPRESSANTS', 'PsychotropicANTISEIZUREbipolar', 'PsychotropicADDICTIONmeds','PsychotropicSLEEPaid', 'PsychotropicOTHER', \n",
        "                       'PsychotropicANTIPSYCHOTICStypical', 'PolypharmacyPsychMeds', 'ImmunizationstatusTETANUS', 'ReceivedTetanus',\n",
        "                       'ImmunizationstatusHEP', 'ReceivedHepB', 'Sexualcontactwithin120hours', 'Selfdisclosurementalillness', 'MIdepression',\n",
        "                       'MIanxiety', 'MIPTSD', 'MIpsychoticDisorders', 'MIadhd', 'MIpersonalitydisorder', 'MIbipolar', 'MIeatingdisorder', 'MIdrugalcoholdisorders', \n",
        "                       'MIother', 'SelfDiscolsureMentalillnessORuseofpsychotropics', 'OnlineMeetingOFsuspect', 'Suspectrelationship',\n",
        "                       'Locationofassault', 'PatientActionScratch', 'PatientActionBite', 'PatientActionHit', 'PatientActionKick', 'PatientActionOther',\n",
        "                       'Suspectrace', 'SuspectactionVERBAL', 'SuspectactionsGRABBEDHELD', 'SuspectactionsPHYSICALBLOWS', 'SuspectactionsSTRANGLEDCHOKED',\n",
        "                       'SuspectactionsWEAPON', 'SuspectactionsRESTRAINTS', 'SuspectactionsBURNED', 'MultipleSuspects', 'SuspectedDrugfacilitated',\n",
        "                       'Patientdruguse', 'PatientETOHuse', 'Suspectdruguse', 'SuspectETOHuse', 'PatientSuspectETOHordrug', 'LossOFconsciousnessORawareness',\n",
        "                       'OneORmoreunknownanswer', 'Unknownanswerto4ormorequestions', 'UnknownanswertoALL', 'AsleepANDawakenedtoassault', 'MemoryLoss',\n",
        "                       'LossOfconsciousness', 'DecreasedAwareness', 'TonicImmobility', 'Detachment', 'NOSApatientsVAGINApenis', 'NOSApatientsVAGINAfingerhand',\n",
        "                       'NOSApatientsVAGINAmouth', 'NOSApatientsVAGINAobject', 'NOSApatientsANUSpenis', 'NOSApatientsANUSfingerhand', 'NOSApatientsANUSmouth', \n",
        "                       'NOSApatientsANUSobject', 'NOSApatientsPENISgenitals', 'NOSApatientsPENISfinger', 'NOSApatientsPENISmouth', 'NOSApatientsPENISobject', \n",
        "                       'NOSApatientsMOUTHpenis', 'NOSApatientsMOUTHfinger', 'NOSApatientsMOUTHmouth', 'NOSApatientsMOUTHobject', 'SUSPECTmouthcontactGENITALS', \n",
        "                       'SUSPECTmouthcontactMOUTH', 'SUSPECTmouthcontactOTHER', 'HANDSofSuspectBreast', 'HANDSofSuspectExtremities', \n",
        "                       'HANDSofSuspectOther', 'Ejaculation', 'CONDOMuse', 'LUBRICATIONuse', 'SuspectWASHEDpatient', 'SuspectINJUREDbypatient', 'PostassaultURINATED', \n",
        "                       'PostassaultDEFECATED', 'PostassaultDOUCHED', 'PostassaultVOMITED', 'PostassaultGARGLED', 'PostassaultBRUSHEDTEETH', 'PostassaultATEdrank', \n",
        "                       'PostassaultBATHED', 'PostassaultGENITALWIPE', 'PostassaultCHANGEDCLOTHING', 'PostassaultREMOVEDInserted', 'PhysicalORmentalimpairment', 'Physicalinjury', \n",
        "                       'LPIhead', 'LPIneck', 'LPIbreasts', 'LPIchestback', 'LPIabdomen', 'LPIextremities', 'TPIlaceration', 'TPIecchymosis', 'TPIabrasion', 'TPIredness', \n",
        "                       'TPIswelling', 'TPIbruise', 'TPIpetechiae', 'TPIincision', 'TPIavulsion', 'TPIdiscoloredmark', 'TPIpuncturewound', 'TPIfracture', \n",
        "                       'TPIbitemark', 'TPIburn', 'TPImissingorbrokenTEETH', 'TPIconjunctivalhemorrhage', 'Genitalinjury', 'LGIinnerthighs', 'LGIclitoralhoodclitoris', \n",
        "                       'LGIlabiamajora', 'LGIlabiaminora', 'LGIperiurethraltissueURETHRA', 'LGIperihymenaltissue', 'LGIhymen', 'LGIvagina', 'LGIcervix', 'LGIfossanavicularis', \n",
        "                       'LGIposteriorfourchette', 'LGIperineum', 'LGIperineum', 'LGIanalrectal', 'LGIbuttocks', 'LGImalePerianalperineum', 'LGIglanspenis', 'LGIpenileshaft', \n",
        "                       'LGImaleURETHRALmeatus', 'LGIscrotum', 'LGItestes', 'LGImaleanus', 'LGImalerectum', 'TGIlaceration', 'TGIecchymosis', 'TGIabrasion', 'TGIredness', \n",
        "                       'TGIswelling', 'TGIbruise', 'TGIpetechiae', 'TGIincision', 'TGIavulsion', 'TGIdiscoloredmark', 'TGIpuncturewound', 'ToludineDYEuptake', 'HIVnPEP', \n",
        "                       'UQuikcollected', 'Yscreen', 'NumberItemsWITH3cutoff', 'ItemsAnalyzed1', 'ItemsAnalyzed2', 'ItemsAnalyzed3', 'ItemsAnalyzed4', 'ItemsAnalyzed5', \n",
        "                       'ItemsAnalyzed6', 'ItemsAnalyzed7', 'ItemsAnalyzed8', 'ItemsAnalyzed9', 'ItemsAnalyzed10', 'TypesOFitemsTested', 'RandomSample20142015', \n",
        "                       'YearofDNAextraction', 'LocationOfTesting','DANYfundedSAK', 'DNAKitUsed', 'SerologyDoneBeforeDNA', 'QuantMaleDNAFound', 'QuantMaleSwabLoc1', \n",
        "                       'QuantMaleSwabLoc2', 'QuantMaleSwabLoc3', 'QuantMaleSwabLoc4', 'QuantMaleSwabLoc5', 'ProbableSTRDNAprofileOFsuspect', 'ProfileofSTRDNAloci', 'ProbableYSTRDNAprofile', 'ProfileOfYSTRDNAloci', \n",
        "                       'SwabLocationYSTRDNA', 'SecondSwabLocationYSTRDNA', 'SwabFromSuspectwithVictimDNA', 'ExcludeSuspect', 'ConsensualPartnerStandardSubmitted', \n",
        "                       'STRDNAProbableprofileTYPE', 'CODISprofileHit', 'STRDNAkitUsed', 'SUSPECTmouthcontactBREASTS', 'Swab1LocationSTRDNAprofile', 'Swab2LocationSTRDNAprofile',\n",
        "                       'Swab3LocationSTRDNAprofile', 'SuspectStandardSubmitted', 'CODISNDISreasons', 'CODISSDISreasons']\n",
        "\n",
        "#unusedFeatures and stringFeatures are columns that contain data that was relevant to medical professionals and for legal purposes, \n",
        "#but that aren't useful for our feature association or for predicting eligibility\n",
        "unusedFeatures = ['filter_$', 'PainTreatmentYesNo', 'GenderMaleFemale', 'DVsuspect', 'RacePrimaryGroups', 'IPSAcombined', 'STRDNAcompleted', \n",
        "                  'PhysicalInjuryNOunknown', 'GenitalInjuryNOunknown']\n",
        "\n",
        "stringFeatures = ['DeIdentifiedCase', 'Raceother', 'SchoolName', 'MilitaryBranchName', 'AddressIfnotPermanent', 'Currentmedprobtext',\n",
        "                  'MedProbOtherText', 'Medicationtext', 'Sexualcontactwithin120hoursTYPE', 'SelfdisclosureMItype', 'OnlineMeetingName', 'SuspectrelationshipOTHER',\n",
        "                  'LocationofassaultOTHER', 'Surfaceofassault', 'PatientActionOtherTEXT', 'SuspectraceOTHER', 'SuspectOTHERactions', 'NOSApatientsVAGINAobjectdescription',\n",
        "                  'NOSApatientsANUSobjectdescription', 'NOSApatientsPENISobjectdescription', 'NOSApatientsMOUTHobjectdescription', 'EjaculationSITE', 'LUBRICATIONtype',\n",
        "                  'SuspectINJUREDbypatientexplanation', 'Impairmentdescription', 'UBFSnumber', 'ISPnumber', 'DateSubmittedUBFS', 'DateofDNAextractionReport',\n",
        "                  'BodySwabLocQuant', 'BodySwabDNAanalysis', 'BodySwabLocationSTRDNA', 'BodySwabYSTRDNA', 'ISPnotes2020', 'UBFSnotes2020', 'UBFSnotes2018', 'SUSPECTmouthcontactOTHERsite', 'UBFSnotes2014']\n",
        "\n",
        "dummy1 = pd.get_dummies(df['Swab1ToDNAanalysis'])\n",
        "dummy2 = pd.get_dummies(df['Swab2ToDNAanalysis'])\n",
        "dummy3 = pd.get_dummies(df['Swab3ToDNAanalysis'])\n",
        "dummy4 = pd.get_dummies(df['Swab4ToDNAanalysis'])\n",
        "\n",
        "dummy4['0'] = dummy1['0']\n",
        "dummy1['11'] = dummy2['11']\n",
        "dummy3['0'] = dummy1['0']\n",
        "\n",
        "newDummy = dummy1\n",
        "\n",
        "\n",
        "newDummy = newDummy.where(newDummy != 0, dummy2)\n",
        "newDummy = newDummy.where(newDummy != 0, dummy3)\n",
        "newDummy = newDummy.where(newDummy != 0, dummy4)\n",
        "\n",
        "# print(newDummy)\n",
        "df['SwabToDNAanalysisNoquantmaleDNAfound'] = newDummy['0'].astype('category')\n",
        "df['SwabToDNAanalysisVaginal'] = newDummy['1']\n",
        "df['SwabToDNAanalysisCervical'] = newDummy['2']\n",
        "df['SwabToDNAanalysisPerianal'] = newDummy['3']\n",
        "df['SwabToDNAanalysisRectal'] = newDummy['4']\n",
        "df['SwabToDNAanalysisOral'] = newDummy['5']\n",
        "df['SwabToDNAanalysisBody'] = newDummy['6']\n",
        "df['SwabToDNAanalysisUnderwear'] = newDummy['7']\n",
        "df['SwabToDNAanalysisOtherClothing'] = newDummy['8']\n",
        "df['SwabToDNAanalysisBedding'] = newDummy['9']\n",
        "df['SwabToDNAanalysisCondom'] = newDummy['10']\n",
        "df['SwabToDNAanalysisTampon'] = newDummy['11']\n",
        "\n",
        "swabToDNAFeatures = ['SwabToDNAanalysisNoquantmaleDNAfound', 'SwabToDNAanalysisVaginal', 'SwabToDNAanalysisCervical', 'SwabToDNAanalysisPerianal', 'SwabToDNAanalysisRectal', \n",
        "                     'SwabToDNAanalysisOral','SwabToDNAanalysisBody', 'SwabToDNAanalysisUnderwear', 'SwabToDNAanalysisOtherClothing', 'SwabToDNAanalysisBedding', \n",
        "                     'SwabToDNAanalysisCondom','SwabToDNAanalysisTampon' ]\n",
        "\n",
        "categoricalFeatures.extend(['SwabToDNAanalysisNoquantmaleDNAfound', 'SwabToDNAanalysisVaginal', 'SwabToDNAanalysisCervical', 'SwabToDNAanalysisPerianal', 'SwabToDNAanalysisRectal', \n",
        "                     'SwabToDNAanalysisOral','SwabToDNAanalysisBody', 'SwabToDNAanalysisUnderwear', 'SwabToDNAanalysisOtherClothing', 'SwabToDNAanalysisBedding', \n",
        "                     'SwabToDNAanalysisCondom','SwabToDNAanalysisTampon'])\n",
        "\n",
        "df = df.replace(r'^\\s+$', np.nan, regex=True)\n",
        "df = df.replace({np.nan: \"No Response\"})\n",
        "df = df.applymap(str)\n",
        "df = df[df[predictedVariable] != \"No Response\"]\n"
      ],
      "execution_count": null,
      "outputs": [
        {
          "output_type": "stream",
          "text": [
            "MasterValentine_UpdatedCODIS_Feb12_2021.csv\n",
            "Requirement already satisfied: scikit-learn in /usr/local/lib/python3.7/dist-packages (0.22.2.post1)\n",
            "Collecting scikit-learn\n",
            "  Downloading scikit_learn-0.24.2-cp37-cp37m-manylinux2010_x86_64.whl (22.3 MB)\n",
            "\u001b[K     |████████████████████████████████| 22.3 MB 48.5 MB/s \n",
            "\u001b[?25hCollecting threadpoolctl>=2.0.0\n",
            "  Downloading threadpoolctl-2.2.0-py3-none-any.whl (12 kB)\n",
            "Requirement already satisfied: joblib>=0.11 in /usr/local/lib/python3.7/dist-packages (from scikit-learn) (1.0.1)\n",
            "Requirement already satisfied: numpy>=1.13.3 in /usr/local/lib/python3.7/dist-packages (from scikit-learn) (1.19.5)\n",
            "Requirement already satisfied: scipy>=0.19.1 in /usr/local/lib/python3.7/dist-packages (from scikit-learn) (1.4.1)\n",
            "Installing collected packages: threadpoolctl, scikit-learn\n",
            "  Attempting uninstall: scikit-learn\n",
            "    Found existing installation: scikit-learn 0.22.2.post1\n",
            "    Uninstalling scikit-learn-0.22.2.post1:\n",
            "      Successfully uninstalled scikit-learn-0.22.2.post1\n",
            "Successfully installed scikit-learn-0.24.2 threadpoolctl-2.2.0\n"
          ],
          "name": "stdout"
        },
        {
          "output_type": "stream",
          "text": [
            "/usr/local/lib/python3.7/dist-packages/IPython/core/interactiveshell.py:2718: DtypeWarning: Columns (0,1,2,3,4,5,9,301) have mixed types.Specify dtype option on import or set low_memory=False.\n",
            "  interactivity=interactivity, compiler=compiler, result=result)\n"
          ],
          "name": "stderr"
        }
      ]
    },
    {
      "cell_type": "markdown",
      "metadata": {
        "id": "v1YSgW5BAVCs"
      },
      "source": [
        "#Filter out Genders"
      ]
    },
    {
      "cell_type": "code",
      "metadata": {
        "id": "225tcp-T5Gar"
      },
      "source": [
        "#Code to filter out all other genders\n",
        "df = df[df['Gender'] == '1'] #dataframe containing information from only female respondents"
      ],
      "execution_count": null,
      "outputs": []
    },
    {
      "cell_type": "markdown",
      "metadata": {
        "id": "zpJYYD3_4oFo"
      },
      "source": [
        "#Site"
      ]
    },
    {
      "cell_type": "code",
      "metadata": {
        "id": "74AcYEfH4sUM",
        "colab": {
          "base_uri": "https://localhost:8080/"
        },
        "outputId": "76333562-b0f3-4a9a-c244-09ddf308cf72"
      },
      "source": [
        "eligible = df[df['CODISNDISeligibleProfile'] != 'No Response']\n",
        "print(len(eligible))\n",
        "\n",
        "currentVariable = 'Site'\n",
        "site = eligible[eligible[currentVariable] != 'No Response']\n",
        "site['CODISNDISeligibleProfile'] = np.where((site['CODISNDISeligibleProfile'] == '0'), 'Not Eligible', site['CODISNDISeligibleProfile'])\n",
        "site['CODISNDISeligibleProfile'] = np.where((site['CODISNDISeligibleProfile'] == '1'), 'Eligible', site['CODISNDISeligibleProfile'])\n",
        "# site[currentVariable] = np.where((site[currentVariable] == '1'), 'Salt Lake County', site[currentVariable])\n",
        "# site[currentVariable] = np.where((site[currentVariable] == '2'), 'Washington County', site[currentVariable])\n",
        "# site[currentVariable] = np.where((site[currentVariable] == '3'), 'Iron County', site[currentVariable])\n",
        "# site[currentVariable] = np.where((site[currentVariable] == '4'), 'Northern Utah', site[currentVariable])\n",
        "# site[currentVariable] = np.where((site[currentVariable] == '5'), 'Utah County', site[currentVariable])\n",
        "# site[currentVariable] = np.where((site[currentVariable] == '6'), 'Idaho', site[currentVariable])\n",
        "\n",
        "\n",
        "# 1 = Site A (Salt Lake Co.)\n",
        "# 2 = Site B (Washington Co.)\n",
        "# 3 = Site C (Iron Co.)\n",
        "# 4 = Site D (Northern UT)\n",
        "# 5 = Site E (Utah Co.)\n",
        "# 6= Idaho\n",
        "\n",
        "\n",
        "print(site['Site'])\n",
        "\n",
        "newContingency= pd.crosstab(site[currentVariable], site['CODISNDISeligibleProfile'])\n",
        "c, p, dof, expected = chi2_contingency(newContingency)\n",
        "print(p)\n",
        "print(newContingency)"
      ],
      "execution_count": null,
      "outputs": [
        {
          "output_type": "stream",
          "text": [
            "5325\n",
            "3       1\n",
            "5       1\n",
            "8       1\n",
            "10      1\n",
            "14      1\n",
            "       ..\n",
            "7682    6\n",
            "7683    6\n",
            "7684    6\n",
            "7685    6\n",
            "7686    6\n",
            "Name: Site, Length: 5323, dtype: object\n",
            "0.02600544001312251\n",
            "CODISNDISeligibleProfile  Eligible  Not Eligible\n",
            "Site                                            \n",
            "1                              916          1758\n",
            "2                               89           154\n",
            "3                               30            88\n",
            "4                              262           453\n",
            "5                              204           448\n",
            "6                              284           637\n"
          ],
          "name": "stdout"
        },
        {
          "output_type": "stream",
          "text": [
            "/usr/local/lib/python3.7/dist-packages/ipykernel_launcher.py:6: SettingWithCopyWarning: \n",
            "A value is trying to be set on a copy of a slice from a DataFrame.\n",
            "Try using .loc[row_indexer,col_indexer] = value instead\n",
            "\n",
            "See the caveats in the documentation: https://pandas.pydata.org/pandas-docs/stable/user_guide/indexing.html#returning-a-view-versus-a-copy\n",
            "  \n",
            "/usr/local/lib/python3.7/dist-packages/ipykernel_launcher.py:7: SettingWithCopyWarning: \n",
            "A value is trying to be set on a copy of a slice from a DataFrame.\n",
            "Try using .loc[row_indexer,col_indexer] = value instead\n",
            "\n",
            "See the caveats in the documentation: https://pandas.pydata.org/pandas-docs/stable/user_guide/indexing.html#returning-a-view-versus-a-copy\n",
            "  import sys\n"
          ],
          "name": "stderr"
        }
      ]
    },
    {
      "cell_type": "markdown",
      "metadata": {
        "id": "-HG8AvJYBXBn"
      },
      "source": [
        "####Remove Site 3 and Run Chi Square"
      ]
    },
    {
      "cell_type": "code",
      "metadata": {
        "colab": {
          "base_uri": "https://localhost:8080/"
        },
        "id": "ou6CUINI_67V",
        "outputId": "0b22f8b9-8aa9-43b3-97ea-b2a9d7a6c644"
      },
      "source": [
        "#Run Chi Square without site 3 to see if it is still significant\n",
        "print(len(site))\n",
        "modifiedSite = site[site['Site'] != '3']\n",
        "print(len(modifiedSite))"
      ],
      "execution_count": null,
      "outputs": [
        {
          "output_type": "stream",
          "text": [
            "5323\n",
            "5205\n"
          ],
          "name": "stdout"
        }
      ]
    },
    {
      "cell_type": "code",
      "metadata": {
        "colab": {
          "base_uri": "https://localhost:8080/"
        },
        "id": "fPayqaYVAcNp",
        "outputId": "d06de967-5882-489c-d8c2-5e9a0b94bdca"
      },
      "source": [
        "#Code to run ModifiedSite against Codis\n",
        "newContingency= pd.crosstab(modifiedSite['Site'], modifiedSite['CODISNDISeligibleProfile'])\n",
        "c, p, dof, expected = chi2_contingency(newContingency) \n",
        "print(\"The p-value obtained was \" + str(p))\n",
        "\n",
        "print(newContingency)"
      ],
      "execution_count": null,
      "outputs": [
        {
          "output_type": "stream",
          "text": [
            "The p-value obtained was 0.05750387611952823\n",
            "CODISNDISeligibleProfile  Eligible  Not Eligible\n",
            "Site                                            \n",
            "1                              916          1758\n",
            "2                               89           154\n",
            "4                              262           453\n",
            "5                              204           448\n",
            "6                              284           637\n"
          ],
          "name": "stdout"
        }
      ]
    }
  ]
}
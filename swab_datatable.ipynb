{
  "nbformat": 4,
  "nbformat_minor": 0,
  "metadata": {
    "colab": {
      "name": "swab_datatable.ipynb",
      "provenance": [],
      "collapsed_sections": [],
      "include_colab_link": true
    },
    "kernelspec": {
      "name": "python3",
      "display_name": "Python 3"
    },
    "language_info": {
      "name": "python"
    }
  },
  "cells": [
    {
      "cell_type": "markdown",
      "metadata": {
        "id": "view-in-github",
        "colab_type": "text"
      },
      "source": [
        "<a href=\"https://colab.research.google.com/github/devorahst/Test/blob/main/swab_datatable.ipynb\" target=\"_parent\"><img src=\"https://colab.research.google.com/assets/colab-badge.svg\" alt=\"Open In Colab\"/></a>"
      ]
    },
    {
      "cell_type": "markdown",
      "metadata": {
        "id": "reuIaF5gAe8_"
      },
      "source": [
        "#Set-Up"
      ]
    },
    {
      "cell_type": "code",
      "metadata": {
        "colab": {
          "base_uri": "https://localhost:8080/"
        },
        "id": "ubBiLs_l4TRJ",
        "outputId": "e996ab07-2d0f-4c34-c536-dd079346e4d7"
      },
      "source": [
        "#pulls up our SAK dataset\n",
        "#@title Upload Dataset\n",
        "file_id = \"13DLmmbYXonl9alHR4VobfeTuA_IxlQxZ\" #@param {type:\"string\"}\n",
        "!pip install -U -q PyDrive\n",
        "\n",
        "from pydrive.auth import GoogleAuth\n",
        "from pydrive.drive import GoogleDrive\n",
        "from google.colab import auth\n",
        "from oauth2client.client import GoogleCredentials\n",
        "\n",
        "auth.authenticate_user()\n",
        "gauth = GoogleAuth()\n",
        "gauth.credentials = GoogleCredentials.get_application_default()\n",
        "drive = GoogleDrive(gauth)\n",
        "\n",
        "from google.colab import auth\n",
        "auth.authenticate_user()\n",
        "\n",
        "from googleapiclient.discovery import build\n",
        "drive_service = build('drive', 'v3')\n",
        "\n",
        "import io\n",
        "from googleapiclient.http import MediaIoBaseDownload\n",
        "\n",
        "request = drive_service.files().get_media(fileId=file_id)\n",
        "downloaded = io.BytesIO()\n",
        "downloader = MediaIoBaseDownload(downloaded, request)\n",
        "done = False\n",
        "while done is False:\n",
        "  _, done = downloader.next_chunk()\n",
        "\n",
        "fileId = drive.CreateFile({'id': file_id }) #DRIVE_FILE_ID is file id example: 1iytA1n2z4go3uVCwE_vIKouTKyIDjEq\n",
        "print(fileId['title'])  \n",
        "fileId.GetContentFile(fileId['title'])  # Save Drive file as a local file\n",
        "\n",
        "!pip install -U scikit-learn\n",
        "\n",
        "from scipy.stats import chi2_contingency\n",
        "from scipy import stats\n",
        "import pandas as pd\n",
        "import numpy as np\n",
        "import seaborn as sns\n",
        "import matplotlib.pyplot as plt\n",
        "%matplotlib inline\n",
        "\n",
        "# To change scientific numbers to float\n",
        "np.set_printoptions(formatter={'float_kind':'{:f}'.format})\n",
        "\n",
        "with open(fileId['title'], encoding=\"utf8\", errors='ignore') as f:\n",
        "  df = pd.read_csv(f)\n",
        "\n",
        "df = df.apply(pd.to_numeric, errors='ignore')\n",
        "predictedVariable = \"CODISNDISeligibleProfile\"\n",
        "\n",
        "\n",
        "#delete rows that don't have a value for CODISNDISeligibleProfile\n",
        "\n",
        "predictedFeatures = ['CODISNDISeligibleProfile', 'SDISeligibleprofile']  \n",
        "\n",
        "numericalFeatures = ['Age', 'Timebetweenassaultandexaminhours', 'PainLevel', 'MulitipleSuspectNumber', \n",
        "                     'NumberofUnknownresponses', 'NumberAssaultiveActs', 'Numberofphysicalinjuries', 'Numberofgentialinjuries',\n",
        "                     'NumberOFitemsTested', 'TimeBetweenCollectAndDNAext', 'TimeBetweenSubmissionANDtesting', 'NumberOfswabsQuantMaleDNA',\n",
        "                     'NumberOfswabsDNAanalysis', 'NumberofSTRDNAloci', 'NumberOFswabsSTRDNAprofile', 'NumberOfYSTRDNAloci']\n",
        "\n",
        "categoricalFeatures = ['Site', 'EXAMbySANE', 'YearKitCollected', 'KITbroughtTOcrimelab', 'KITlengthofSubmissionTime',\n",
        "                       'UnderAge18', 'Gender', 'ExamDeclined', 'Noninterview', 'Race', 'PriorHxofSAover14',\n",
        "                       'PriorHxofSAunder14', 'Student', 'Military', 'Pain', 'PainLocation1','PainLocation2', \n",
        "                       'PainLocation3', 'PainLocation4','PainTreatment', 'PermanentAddress', 'CurrentPhysicalmedprob',\n",
        "                       'MedProbChronic', 'MedProbInfection', 'MedProbBlood', 'MedProbCardiac', 'MedProbEar', 'MedProbEndocrine',\n",
        "                       'MedProbEye', 'MedProbGI', 'MedProbGU', 'MedProbGYN', 'MedProbImmune', 'MedProbMusculoskeletal', 'MedProbNeurological',\n",
        "                       'MedProbOral', 'MedProbRenal', 'MedProbRespiratory', 'MedProbSkin', 'MedProbOther', 'Medication',\n",
        "                       'PsychotropicMEDuse', 'PsychotropicANTIPSYCHOTICSatypical', 'PsychotropicSTIMULANTuse', 'PsychotropicANTIANXIETY', \n",
        "                       'PsychotropicANTIDEPRESSANTS', 'PsychotropicANTISEIZUREbipolar', 'PsychotropicADDICTIONmeds','PsychotropicSLEEPaid', 'PsychotropicOTHER', \n",
        "                       'PsychotropicANTIPSYCHOTICStypical', 'PolypharmacyPsychMeds', 'ImmunizationstatusTETANUS', 'ReceivedTetanus',\n",
        "                       'ImmunizationstatusHEP', 'ReceivedHepB', 'Sexualcontactwithin120hours', 'Selfdisclosurementalillness', 'MIdepression',\n",
        "                       'MIanxiety', 'MIPTSD', 'MIpsychoticDisorders', 'MIadhd', 'MIpersonalitydisorder', 'MIbipolar', 'MIeatingdisorder', 'MIdrugalcoholdisorders', \n",
        "                       'MIother', 'SelfDiscolsureMentalillnessORuseofpsychotropics', 'OnlineMeetingOFsuspect', 'Suspectrelationship',\n",
        "                       'Locationofassault', 'PatientActionScratch', 'PatientActionBite', 'PatientActionHit', 'PatientActionKick', 'PatientActionOther',\n",
        "                       'Suspectrace', 'SuspectactionVERBAL', 'SuspectactionsGRABBEDHELD', 'SuspectactionsPHYSICALBLOWS', 'SuspectactionsSTRANGLEDCHOKED',\n",
        "                       'SuspectactionsWEAPON', 'SuspectactionsRESTRAINTS', 'SuspectactionsBURNED', 'MultipleSuspects', 'SuspectedDrugfacilitated',\n",
        "                       'Patientdruguse', 'PatientETOHuse', 'Suspectdruguse', 'SuspectETOHuse', 'PatientSuspectETOHordrug', 'LossOFconsciousnessORawareness',\n",
        "                       'OneORmoreunknownanswer', 'Unknownanswerto4ormorequestions', 'UnknownanswertoALL', 'AsleepANDawakenedtoassault', 'MemoryLoss',\n",
        "                       'LossOfconsciousness', 'DecreasedAwareness', 'TonicImmobility', 'Detachment', 'NOSApatientsVAGINApenis', 'NOSApatientsVAGINAfingerhand',\n",
        "                       'NOSApatientsVAGINAmouth', 'NOSApatientsVAGINAobject', 'NOSApatientsANUSpenis', 'NOSApatientsANUSfingerhand', 'NOSApatientsANUSmouth', \n",
        "                       'NOSApatientsANUSobject', 'NOSApatientsPENISgenitals', 'NOSApatientsPENISfinger', 'NOSApatientsPENISmouth', 'NOSApatientsPENISobject', \n",
        "                       'NOSApatientsMOUTHpenis', 'NOSApatientsMOUTHfinger', 'NOSApatientsMOUTHmouth', 'NOSApatientsMOUTHobject', 'SUSPECTmouthcontactGENITALS', \n",
        "                       'SUSPECTmouthcontactMOUTH', 'SUSPECTmouthcontactOTHER', 'HANDSofSuspectBreast', 'HANDSofSuspectExtremities', \n",
        "                       'HANDSofSuspectOther', 'Ejaculation', 'CONDOMuse', 'LUBRICATIONuse', 'SuspectWASHEDpatient', 'SuspectINJUREDbypatient', 'PostassaultURINATED', \n",
        "                       'PostassaultDEFECATED', 'PostassaultDOUCHED', 'PostassaultVOMITED', 'PostassaultGARGLED', 'PostassaultBRUSHEDTEETH', 'PostassaultATEdrank', \n",
        "                       'PostassaultBATHED', 'PostassaultGENITALWIPE', 'PostassaultCHANGEDCLOTHING', 'PostassaultREMOVEDInserted', 'PhysicalORmentalimpairment', 'Physicalinjury', \n",
        "                       'LPIhead', 'LPIneck', 'LPIbreasts', 'LPIchestback', 'LPIabdomen', 'LPIextremities', 'TPIlaceration', 'TPIecchymosis', 'TPIabrasion', 'TPIredness', \n",
        "                       'TPIswelling', 'TPIbruise', 'TPIpetechiae', 'TPIincision', 'TPIavulsion', 'TPIdiscoloredmark', 'TPIpuncturewound', 'TPIfracture', \n",
        "                       'TPIbitemark', 'TPIburn', 'TPImissingorbrokenTEETH', 'TPIconjunctivalhemorrhage', 'Genitalinjury', 'LGIinnerthighs', 'LGIclitoralhoodclitoris', \n",
        "                       'LGIlabiamajora', 'LGIlabiaminora', 'LGIperiurethraltissueURETHRA', 'LGIperihymenaltissue', 'LGIhymen', 'LGIvagina', 'LGIcervix', 'LGIfossanavicularis', \n",
        "                       'LGIposteriorfourchette', 'LGIperineum', 'LGIperineum', 'LGIanalrectal', 'LGIbuttocks', 'LGImalePerianalperineum', 'LGIglanspenis', 'LGIpenileshaft', \n",
        "                       'LGImaleURETHRALmeatus', 'LGIscrotum', 'LGItestes', 'LGImaleanus', 'LGImalerectum', 'TGIlaceration', 'TGIecchymosis', 'TGIabrasion', 'TGIredness', \n",
        "                       'TGIswelling', 'TGIbruise', 'TGIpetechiae', 'TGIincision', 'TGIavulsion', 'TGIdiscoloredmark', 'TGIpuncturewound', 'ToludineDYEuptake', 'HIVnPEP', \n",
        "                       'UQuikcollected', 'Yscreen', 'NumberItemsWITH3cutoff', 'ItemsAnalyzed1', 'ItemsAnalyzed2', 'ItemsAnalyzed3', 'ItemsAnalyzed4', 'ItemsAnalyzed5', \n",
        "                       'ItemsAnalyzed6', 'ItemsAnalyzed7', 'ItemsAnalyzed8', 'ItemsAnalyzed9', 'ItemsAnalyzed10', 'TypesOFitemsTested', 'RandomSample20142015', \n",
        "                       'YearofDNAextraction', 'LocationOfTesting','DANYfundedSAK', 'DNAKitUsed', 'SerologyDoneBeforeDNA', 'QuantMaleDNAFound', 'QuantMaleSwabLoc1', \n",
        "                       'QuantMaleSwabLoc2', 'QuantMaleSwabLoc3', 'QuantMaleSwabLoc4', 'QuantMaleSwabLoc5', 'ProbableSTRDNAprofileOFsuspect', 'ProfileofSTRDNAloci', 'ProbableYSTRDNAprofile', 'ProfileOfYSTRDNAloci', \n",
        "                       'SwabLocationYSTRDNA', 'SecondSwabLocationYSTRDNA', 'SwabFromSuspectwithVictimDNA', 'ExcludeSuspect', 'ConsensualPartnerStandardSubmitted', \n",
        "                       'STRDNAProbableprofileTYPE', 'CODISprofileHit', 'STRDNAkitUsed', 'SUSPECTmouthcontactBREASTS', 'Swab1LocationSTRDNAprofile', 'Swab2LocationSTRDNAprofile',\n",
        "                       'Swab3LocationSTRDNAprofile', 'SuspectStandardSubmitted', 'CODISNDISreasons', 'CODISSDISreasons']\n",
        "\n",
        "#unusedFeatures and stringFeatures are columns that contain data that was relevant to medical professionals and for legal purposes, \n",
        "#but that aren't useful for our feature association or for predicting eligibility\n",
        "unusedFeatures = ['filter_$', 'PainTreatmentYesNo', 'GenderMaleFemale', 'DVsuspect', 'RacePrimaryGroups', 'IPSAcombined', 'STRDNAcompleted', \n",
        "                  'PhysicalInjuryNOunknown', 'GenitalInjuryNOunknown']\n",
        "\n",
        "stringFeatures = ['DeIdentifiedCase', 'Raceother', 'SchoolName', 'MilitaryBranchName', 'AddressIfnotPermanent', 'Currentmedprobtext',\n",
        "                  'MedProbOtherText', 'Medicationtext', 'Sexualcontactwithin120hoursTYPE', 'SelfdisclosureMItype', 'OnlineMeetingName', 'SuspectrelationshipOTHER',\n",
        "                  'LocationofassaultOTHER', 'Surfaceofassault', 'PatientActionOtherTEXT', 'SuspectraceOTHER', 'SuspectOTHERactions', 'NOSApatientsVAGINAobjectdescription',\n",
        "                  'NOSApatientsANUSobjectdescription', 'NOSApatientsPENISobjectdescription', 'NOSApatientsMOUTHobjectdescription', 'EjaculationSITE', 'LUBRICATIONtype',\n",
        "                  'SuspectINJUREDbypatientexplanation', 'Impairmentdescription', 'UBFSnumber', 'ISPnumber', 'DateSubmittedUBFS', 'DateofDNAextractionReport',\n",
        "                  'BodySwabLocQuant', 'BodySwabDNAanalysis', 'BodySwabLocationSTRDNA', 'BodySwabYSTRDNA', 'ISPnotes2020', 'UBFSnotes2020', 'UBFSnotes2018', 'SUSPECTmouthcontactOTHERsite', 'UBFSnotes2014']\n",
        "\n",
        "dummy1 = pd.get_dummies(df['Swab1ToDNAanalysis'])\n",
        "dummy2 = pd.get_dummies(df['Swab2ToDNAanalysis'])\n",
        "dummy3 = pd.get_dummies(df['Swab3ToDNAanalysis'])\n",
        "dummy4 = pd.get_dummies(df['Swab4ToDNAanalysis'])\n",
        "\n",
        "dummy4['0'] = dummy1['0']\n",
        "dummy1['11'] = dummy2['11']\n",
        "dummy3['0'] = dummy1['0']\n",
        "\n",
        "newDummy = dummy1\n",
        "\n",
        "\n",
        "newDummy = newDummy.where(newDummy != 0, dummy2)\n",
        "newDummy = newDummy.where(newDummy != 0, dummy3)\n",
        "newDummy = newDummy.where(newDummy != 0, dummy4)\n",
        "\n",
        "# print(newDummy)\n",
        "df['SwabToDNAanalysisNoquantmaleDNAfound'] = newDummy['0'].astype('category')\n",
        "df['SwabToDNAanalysisVaginal'] = newDummy['1']\n",
        "df['SwabToDNAanalysisCervical'] = newDummy['2']\n",
        "df['SwabToDNAanalysisPerianal'] = newDummy['3']\n",
        "df['SwabToDNAanalysisRectal'] = newDummy['4']\n",
        "df['SwabToDNAanalysisOral'] = newDummy['5']\n",
        "df['SwabToDNAanalysisBody'] = newDummy['6']\n",
        "df['SwabToDNAanalysisUnderwear'] = newDummy['7']\n",
        "df['SwabToDNAanalysisOtherClothing'] = newDummy['8']\n",
        "df['SwabToDNAanalysisBedding'] = newDummy['9']\n",
        "df['SwabToDNAanalysisCondom'] = newDummy['10']\n",
        "df['SwabToDNAanalysisTampon'] = newDummy['11']\n",
        "\n",
        "swabToDNAFeatures = ['SwabToDNAanalysisNoquantmaleDNAfound', 'SwabToDNAanalysisVaginal', 'SwabToDNAanalysisCervical', 'SwabToDNAanalysisPerianal', 'SwabToDNAanalysisRectal', \n",
        "                     'SwabToDNAanalysisOral','SwabToDNAanalysisBody', 'SwabToDNAanalysisUnderwear', 'SwabToDNAanalysisOtherClothing', 'SwabToDNAanalysisBedding', \n",
        "                     'SwabToDNAanalysisCondom','SwabToDNAanalysisTampon' ]\n",
        "\n",
        "categoricalFeatures.extend(['SwabToDNAanalysisNoquantmaleDNAfound', 'SwabToDNAanalysisVaginal', 'SwabToDNAanalysisCervical', 'SwabToDNAanalysisPerianal', 'SwabToDNAanalysisRectal', \n",
        "                     'SwabToDNAanalysisOral','SwabToDNAanalysisBody', 'SwabToDNAanalysisUnderwear', 'SwabToDNAanalysisOtherClothing', 'SwabToDNAanalysisBedding', \n",
        "                     'SwabToDNAanalysisCondom','SwabToDNAanalysisTampon'])\n",
        "\n",
        "df = df.replace(r'^\\s+$', np.nan, regex=True)\n",
        "df = df.replace({np.nan: \"No Response\"})\n",
        "df = df.applymap(str)\n",
        "df = df[df[predictedVariable] != \"No Response\"]"
      ],
      "execution_count": null,
      "outputs": [
        {
          "output_type": "stream",
          "name": "stdout",
          "text": [
            "MasterValentine_UpdatedCODIS_Feb12_2021.csv\n",
            "Requirement already satisfied: scikit-learn in /usr/local/lib/python3.7/dist-packages (1.0.1)\n",
            "Requirement already satisfied: joblib>=0.11 in /usr/local/lib/python3.7/dist-packages (from scikit-learn) (1.1.0)\n",
            "Requirement already satisfied: numpy>=1.14.6 in /usr/local/lib/python3.7/dist-packages (from scikit-learn) (1.19.5)\n",
            "Requirement already satisfied: scipy>=1.1.0 in /usr/local/lib/python3.7/dist-packages (from scikit-learn) (1.4.1)\n",
            "Requirement already satisfied: threadpoolctl>=2.0.0 in /usr/local/lib/python3.7/dist-packages (from scikit-learn) (3.0.0)\n"
          ]
        },
        {
          "output_type": "stream",
          "name": "stderr",
          "text": [
            "/usr/local/lib/python3.7/dist-packages/IPython/core/interactiveshell.py:2718: DtypeWarning: Columns (0,1,2,3,4,5,9,301) have mixed types.Specify dtype option on import or set low_memory=False.\n",
            "  interactivity=interactivity, compiler=compiler, result=result)\n"
          ]
        }
      ]
    },
    {
      "cell_type": "code",
      "metadata": {
        "id": "lH9K5suZJVni",
        "colab": {
          "base_uri": "https://localhost:8080/"
        },
        "outputId": "dd845487-60aa-4162-f273-ed1fdc2d1ed0"
      },
      "source": [
        "print(df['Site'].value_counts())\n",
        "idaho = df[df['Site'] == '6'] #filtered dataframe without idaho data\n",
        "df = df[df['Site'] != '6'] #filtered dataframe without idaho data\n",
        "print(len(df))"
      ],
      "execution_count": null,
      "outputs": [
        {
          "output_type": "stream",
          "name": "stdout",
          "text": [
            "1              2835\n",
            "6              1017\n",
            "4               742\n",
            "5               675\n",
            "2               247\n",
            "3               125\n",
            "No Response       2\n",
            "Name: Site, dtype: int64\n",
            "4626\n"
          ]
        }
      ]
    },
    {
      "cell_type": "code",
      "metadata": {
        "id": "w119zb_uJVrR"
      },
      "source": [
        "#Code to filter out all other genders\n",
        "df = df[df['Gender'] == '1'] #dataframe containing information from only female respondents"
      ],
      "execution_count": null,
      "outputs": []
    },
    {
      "cell_type": "code",
      "metadata": {
        "id": "2zXXECu_JVvR"
      },
      "source": [
        "def makeContingency1(row):\n",
        "    results = {}\n",
        "    ID = row['DeIdentifiedCase']\n",
        "    eligible = row[\"CODISNDISeligibleProfile\"]\n",
        "    value = row[\"Swab1LocationSTRDNAprofile\"]\n",
        "    if(value != 'No Response'):\n",
        "        results['DeIdentifiedCase'] = ID\n",
        "        results['LocationDNAProfile'] = value\n",
        "        results[\"CODISNDISEligible\"] = eligible\n",
        "    return results"
      ],
      "execution_count": null,
      "outputs": []
    },
    {
      "cell_type": "code",
      "metadata": {
        "id": "OhZQf4SYJgHa"
      },
      "source": [
        "def makeContingency2(row):\n",
        "    results = {}\n",
        "    ID = row['DeIdentifiedCase']\n",
        "    eligible = row[\"CODISNDISeligibleProfile\"]\n",
        "    value = row['Swab2LocationSTRDNAprofile']\n",
        "    if(value != 'No Response'):\n",
        "        results['DeIdentifiedCase'] = ID\n",
        "        results['LocationDNAProfile'] = value\n",
        "        results[\"CODISNDISEligible\"] = eligible\n",
        "    return results"
      ],
      "execution_count": null,
      "outputs": []
    },
    {
      "cell_type": "code",
      "metadata": {
        "id": "9i5WGyUXJgKD"
      },
      "source": [
        "def makeContingency3(row):\n",
        "    results = {}\n",
        "    ID = row['DeIdentifiedCase']\n",
        "    eligible = row[\"CODISNDISeligibleProfile\"]\n",
        "    value = row['Swab3LocationSTRDNAprofile']\n",
        "    if(value != 'No Response'):\n",
        "        results['DeIdentifiedCase'] = ID\n",
        "        results['LocationDNAProfile'] = value\n",
        "        results[\"CODISNDISEligible\"] = eligible\n",
        "    return results"
      ],
      "execution_count": null,
      "outputs": []
    },
    {
      "cell_type": "code",
      "metadata": {
        "id": "g4WVHOJ5JgMN"
      },
      "source": [
        "d1 = df.apply(makeContingency1, axis=1)\n",
        "d2 = df.apply(makeContingency2, axis=1)\n",
        "d3 = df.apply(makeContingency3, axis=1)"
      ],
      "execution_count": null,
      "outputs": []
    },
    {
      "cell_type": "code",
      "metadata": {
        "id": "46wFCCG-JgQk",
        "colab": {
          "base_uri": "https://localhost:8080/"
        },
        "outputId": "f48592af-11bf-4fef-cd16-918baefb16fb"
      },
      "source": [
        "df1 = pd.DataFrame(list(d1))\n",
        "df1 = df1.dropna()\n",
        "print(df1)\n",
        "print(len(df1))"
      ],
      "execution_count": null,
      "outputs": [
        {
          "output_type": "stream",
          "name": "stdout",
          "text": [
            "     DeIdentifiedCase LocationDNAProfile CODISNDISEligible\n",
            "0            FT988320                  6                 1\n",
            "1            LZ866552                  0                 0\n",
            "2            FT988772                  4                 1\n",
            "3            UM632222                  6                 1\n",
            "4            TT976221                  0                 0\n",
            "...               ...                ...               ...\n",
            "4397         YT666330                  0                 0\n",
            "4398         WR865533                  3                 1\n",
            "4399         AZ875321                  0                 0\n",
            "4400         OI877644                  1                 1\n",
            "4403         SI988600                  0                 0\n",
            "\n",
            "[3549 rows x 3 columns]\n",
            "3549\n"
          ]
        }
      ]
    },
    {
      "cell_type": "code",
      "metadata": {
        "id": "OYPD6Q4QJnnr",
        "colab": {
          "base_uri": "https://localhost:8080/"
        },
        "outputId": "d406e820-6fc1-4a21-831a-07e3433091c3"
      },
      "source": [
        "df2 = pd.DataFrame(list(d2))\n",
        "df2 = df2.dropna()\n",
        "print(df2)\n",
        "print(len(df2))"
      ],
      "execution_count": null,
      "outputs": [
        {
          "output_type": "stream",
          "name": "stdout",
          "text": [
            "     DeIdentifiedCase LocationDNAProfile CODISNDISEligible\n",
            "15           PA442221                  3                 1\n",
            "16           WW555211                  0                 0\n",
            "20           OH543000                  6                 1\n",
            "25           HM943332                  3                 0\n",
            "26           PJ666432                  3                 1\n",
            "...               ...                ...               ...\n",
            "4378         TO998622                  3                 1\n",
            "4385         LV987761                  2                 0\n",
            "4392         CC887431                  1                 1\n",
            "4395         ZE665110                  3                 1\n",
            "4398         WR865533                  1                 1\n",
            "\n",
            "[1020 rows x 3 columns]\n",
            "1020\n"
          ]
        }
      ]
    },
    {
      "cell_type": "code",
      "metadata": {
        "id": "Ldg0o-fDJnqq",
        "colab": {
          "base_uri": "https://localhost:8080/"
        },
        "outputId": "23058329-95c2-458c-8a46-fd9a0b8473fd"
      },
      "source": [
        "df3 = pd.DataFrame(list(d3))\n",
        "df3 = df3.dropna()\n",
        "print(df3)\n",
        "print(len(df3))"
      ],
      "execution_count": null,
      "outputs": [
        {
          "output_type": "stream",
          "name": "stdout",
          "text": [
            "     DeIdentifiedCase LocationDNAProfile CODISNDISEligible\n",
            "15           PA442221                  4                 1\n",
            "26           PJ666432                  3                 1\n",
            "28           MA976221                  6                 1\n",
            "39           PL874410                  4                 1\n",
            "63           RV533332                  3                 1\n",
            "...               ...                ...               ...\n",
            "4354         RG976632                  4                 1\n",
            "4356         BY533310                  3                 1\n",
            "4364         MD654321                  3                 1\n",
            "4395         ZE665110                  4                 1\n",
            "4398         WR865533                  2                 1\n",
            "\n",
            "[355 rows x 3 columns]\n",
            "355\n"
          ]
        }
      ]
    },
    {
      "cell_type": "code",
      "metadata": {
        "id": "9nTXIXBZJnuN",
        "colab": {
          "base_uri": "https://localhost:8080/"
        },
        "outputId": "fa6c9dff-d68b-450a-81e9-71b4466e9152"
      },
      "source": [
        "frames = [df1, df2, df3]\n",
        "results = pd.concat(frames)\n",
        "print(results)"
      ],
      "execution_count": null,
      "outputs": [
        {
          "output_type": "stream",
          "name": "stdout",
          "text": [
            "     DeIdentifiedCase LocationDNAProfile CODISNDISEligible\n",
            "0            FT988320                  6                 1\n",
            "1            LZ866552                  0                 0\n",
            "2            FT988772                  4                 1\n",
            "3            UM632222                  6                 1\n",
            "4            TT976221                  0                 0\n",
            "...               ...                ...               ...\n",
            "4354         RG976632                  4                 1\n",
            "4356         BY533310                  3                 1\n",
            "4364         MD654321                  3                 1\n",
            "4395         ZE665110                  4                 1\n",
            "4398         WR865533                  2                 1\n",
            "\n",
            "[4924 rows x 3 columns]\n"
          ]
        }
      ]
    },
    {
      "cell_type": "code",
      "metadata": {
        "colab": {
          "base_uri": "https://localhost:8080/"
        },
        "id": "96UQYSeUM6Jy",
        "outputId": "cfe5cc5b-a850-44dd-829c-3730d7a8092d"
      },
      "source": [
        "results = results.sort_values(by=['DeIdentifiedCase'])\n",
        "print(results)\n",
        "\n",
        "print(results['CODISNDISEligible'].value_counts())"
      ],
      "execution_count": null,
      "outputs": [
        {
          "output_type": "stream",
          "name": "stdout",
          "text": [
            "     DeIdentifiedCase LocationDNAProfile CODISNDISEligible\n",
            "3622         AA544421                  0                 0\n",
            "2319         AA986333                  0                 0\n",
            "2029         AA988522                  0                 0\n",
            "1890         AA999442                  0                 0\n",
            "1546         AB553210                  0                 0\n",
            "...               ...                ...               ...\n",
            "474          ZZ966541                  2                 1\n",
            "3311         ZZ976421                  0                 0\n",
            "3996         ZZ977762                  1                 0\n",
            "3996         ZZ977762                  3                 0\n",
            "1003         ZZ998885                  3                 1\n",
            "\n",
            "[4924 rows x 3 columns]\n",
            "1    2607\n",
            "0    2317\n",
            "Name: CODISNDISEligible, dtype: int64\n"
          ]
        }
      ]
    }
  ]
}
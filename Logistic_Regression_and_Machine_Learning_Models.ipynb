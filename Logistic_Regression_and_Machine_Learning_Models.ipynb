{
  "nbformat": 4,
  "nbformat_minor": 0,
  "metadata": {
    "colab": {
      "name": "Logistic Regression and Machine Learning Models.ipynb",
      "provenance": [],
      "collapsed_sections": [],
      "include_colab_link": true
    },
    "kernelspec": {
      "name": "python3",
      "display_name": "Python 3"
    }
  },
  "cells": [
    {
      "cell_type": "markdown",
      "metadata": {
        "id": "view-in-github",
        "colab_type": "text"
      },
      "source": [
        "<a href=\"https://colab.research.google.com/github/devorahst/Test/blob/main/Logistic_Regression_and_Machine_Learning_Models.ipynb\" target=\"_parent\"><img src=\"https://colab.research.google.com/assets/colab-badge.svg\" alt=\"Open In Colab\"/></a>"
      ]
    },
    {
      "cell_type": "markdown",
      "metadata": {
        "id": "CM0HIZ_lkRhP"
      },
      "source": [
        "#Analysis of Factors that Influence the Likelihood a RapeKit Sample will Produce a Profile Eligible for Use in Law Enforcement and Criminal Justice"
      ]
    },
    {
      "cell_type": "markdown",
      "metadata": {
        "id": "fxZ4fP5Xr-4P"
      },
      "source": [
        "#Set Up"
      ]
    },
    {
      "cell_type": "markdown",
      "metadata": {
        "id": "G4aaCzlwe7ce"
      },
      "source": [
        "##Import relevant libraries"
      ]
    },
    {
      "cell_type": "code",
      "metadata": {
        "id": "U6mI96lENy-p",
        "colab": {
          "base_uri": "https://localhost:8080/"
        },
        "outputId": "d1a13087-5cec-4ac8-9bcb-51201be63d1f"
      },
      "source": [
        "import statsmodels.api as sm\n",
        "import pandas as pd  \n",
        "import numpy as np\n",
        "from patsy import dmatrices"
      ],
      "execution_count": null,
      "outputs": [
        {
          "output_type": "stream",
          "name": "stderr",
          "text": [
            "/usr/local/lib/python3.7/dist-packages/statsmodels/tools/_testing.py:19: FutureWarning: pandas.util.testing is deprecated. Use the functions in the public API at pandas.testing instead.\n",
            "  import pandas.util.testing as tm\n"
          ]
        }
      ]
    },
    {
      "cell_type": "code",
      "metadata": {
        "id": "MktX8_7LxZR4"
      },
      "source": [
        "\n",
        "from google.colab import auth\n",
        "auth.authenticate_user()\n",
        "import gspread\n",
        "from oauth2client.client import GoogleCredentials\n",
        "gc = gspread.authorize(GoogleCredentials.get_application_default())"
      ],
      "execution_count": null,
      "outputs": []
    },
    {
      "cell_type": "markdown",
      "metadata": {
        "id": "cL9ZuRE6rIZV"
      },
      "source": [
        "## Part 1. Upload\n",
        "First, we must download the dataset. Upon running the cell, you will be prompted to login to your Gmail account. You will then be provided with a one-time use code to copy and paste into the slot below. After hitting enter, the dataset will load into this script."
      ]
    },
    {
      "cell_type": "code",
      "metadata": {
        "colab": {
          "base_uri": "https://localhost:8080/"
        },
        "id": "sLQ6bAS2rIZe",
        "outputId": "2f5c64d2-9df9-4ba9-f2e4-326fbb7b3e86"
      },
      "source": [
        "#pulls up our SAK dataset\n",
        "#@title uploader\n",
        "file_id = \"1lMSXIdMUQTZVOOk2wG-1awvPEIlypfxV\" #@param {type:\"string\"}\n",
        "!pip install -U -q PyDrive\n",
        "\n",
        "from pydrive.auth import GoogleAuth\n",
        "from pydrive.drive import GoogleDrive\n",
        "from google.colab import auth\n",
        "from oauth2client.client import GoogleCredentials\n",
        "\n",
        "auth.authenticate_user()\n",
        "gauth = GoogleAuth()\n",
        "gauth.credentials = GoogleCredentials.get_application_default()\n",
        "drive = GoogleDrive(gauth)\n",
        "\n",
        "from google.colab import auth\n",
        "auth.authenticate_user()\n",
        "\n",
        "from googleapiclient.discovery import build\n",
        "drive_service = build('drive', 'v3')\n",
        "\n",
        "import io\n",
        "from googleapiclient.http import MediaIoBaseDownload\n",
        "\n",
        "request = drive_service.files().get_media(fileId=file_id)\n",
        "downloaded = io.BytesIO()\n",
        "downloader = MediaIoBaseDownload(downloaded, request)\n",
        "done = False\n",
        "while done is False:\n",
        "  _, done = downloader.next_chunk()\n",
        "\n",
        "fileId = drive.CreateFile({'id': file_id }) #DRIVE_FILE_ID is file id example: 1iytA1n2z4go3uVCwE_vIKouTKyIDjEq\n",
        "print(fileId['title'])  \n",
        "fileId.GetContentFile(fileId['title'])  # Save Drive file as a local file"
      ],
      "execution_count": null,
      "outputs": [
        {
          "output_type": "stream",
          "name": "stdout",
          "text": [
            "DataFrame_corrected.csv\n"
          ]
        }
      ]
    },
    {
      "cell_type": "markdown",
      "metadata": {
        "id": "nvW2wvaFrIZg"
      },
      "source": [
        "## Part 2. Set Up\n",
        "1. Install and Import - Install SciKit-Learn and import necessary packages\n",
        "2. Clean the Dataset - Label the columns and replace null values with \"No Response\" and sort features based on type.\n",
        "3. Display Cleaned Dataset"
      ]
    },
    {
      "cell_type": "markdown",
      "metadata": {
        "id": "oMTxV80OrIZg"
      },
      "source": [
        "###1. Install and Import"
      ]
    },
    {
      "cell_type": "code",
      "metadata": {
        "colab": {
          "base_uri": "https://localhost:8080/"
        },
        "id": "xURiJD_BrIZg",
        "outputId": "a8549105-265a-4a0c-852b-929b1d25e953"
      },
      "source": [
        "pip install -U scikit-learn"
      ],
      "execution_count": null,
      "outputs": [
        {
          "output_type": "stream",
          "name": "stdout",
          "text": [
            "Requirement already satisfied: scikit-learn in /usr/local/lib/python3.7/dist-packages (1.0.1)\n",
            "Collecting scikit-learn\n",
            "  Downloading scikit_learn-1.0.2-cp37-cp37m-manylinux_2_17_x86_64.manylinux2014_x86_64.whl (24.8 MB)\n",
            "\u001b[K     |████████████████████████████████| 24.8 MB 35.1 MB/s \n",
            "\u001b[?25hRequirement already satisfied: scipy>=1.1.0 in /usr/local/lib/python3.7/dist-packages (from scikit-learn) (1.4.1)\n",
            "Requirement already satisfied: threadpoolctl>=2.0.0 in /usr/local/lib/python3.7/dist-packages (from scikit-learn) (3.0.0)\n",
            "Requirement already satisfied: joblib>=0.11 in /usr/local/lib/python3.7/dist-packages (from scikit-learn) (1.1.0)\n",
            "Requirement already satisfied: numpy>=1.14.6 in /usr/local/lib/python3.7/dist-packages (from scikit-learn) (1.19.5)\n",
            "Installing collected packages: scikit-learn\n",
            "  Attempting uninstall: scikit-learn\n",
            "    Found existing installation: scikit-learn 1.0.1\n",
            "    Uninstalling scikit-learn-1.0.1:\n",
            "      Successfully uninstalled scikit-learn-1.0.1\n",
            "Successfully installed scikit-learn-1.0.2\n"
          ]
        }
      ]
    },
    {
      "cell_type": "code",
      "metadata": {
        "id": "-kkETGfurIZh"
      },
      "source": [
        "from scipy.stats import chi2_contingency\n",
        "from scipy import stats\n",
        "import pandas as pd\n",
        "import numpy as np\n",
        "import seaborn as sns\n",
        "import matplotlib.pyplot as plt\n",
        "%matplotlib inline\n",
        "\n",
        "# To change scientific numbers to float\n",
        "np.set_printoptions(formatter={'float_kind':'{:f}'.format})\n"
      ],
      "execution_count": null,
      "outputs": []
    },
    {
      "cell_type": "markdown",
      "metadata": {
        "id": "dxJgJKhNrIZh"
      },
      "source": [
        "###2. Read in File and Clean the Dataset\n",
        "\n"
      ]
    },
    {
      "cell_type": "markdown",
      "metadata": {
        "id": "cRiZVgZkrIZh"
      },
      "source": [
        "#####**Label the columns and replace null values with \"No Response\"**\n"
      ]
    },
    {
      "cell_type": "code",
      "metadata": {
        "colab": {
          "base_uri": "https://localhost:8080/"
        },
        "id": "rn-QwNaMrIZh",
        "outputId": "a9771480-4b49-4c5d-8a0a-fbfb7687e5f0"
      },
      "source": [
        "with open(fileId['title'], encoding=\"utf8\", errors='ignore') as f:\n",
        "  df = pd.read_csv(f)\n",
        "\n",
        "df = df.astype('string')\n",
        "df = df.replace(r'^\\s+$', np.nan, regex=True)\n",
        "df = df.replace({np.nan: \"No Response\"})\n",
        "\n",
        "df = df[df['ProfileofSTRDNAloci'] != \"No Response\"]\n",
        "df = df[df['CODISNDISeligibleProfile'] != \"No Response\"]\n",
        "\n",
        "df = df[df['Site'] != '6'] #filter out other state data\n",
        "df = df[df['Gender'] == '1']  #dataframe containing information from only female respondents\n",
        "\n",
        "#Add col showing STRDNA profile eligible/not eligible\n",
        "def makeContingency(row):\n",
        "  good_values = ['1','2']  \n",
        "  eligibility = row[\"ProfileofSTRDNAloci\"]\n",
        "  if eligibility in good_values:\n",
        "    return \"1\"\n",
        "  else:\n",
        "    return \"0\"\n",
        "\n",
        "\n",
        "df['STRDNAEligible'] = df.apply(makeContingency, axis=1)\n",
        "\n",
        "predictedVariable = \"STRDNAEligible\""
      ],
      "execution_count": null,
      "outputs": [
        {
          "output_type": "stream",
          "name": "stderr",
          "text": [
            "/usr/local/lib/python3.7/dist-packages/IPython/core/interactiveshell.py:2718: DtypeWarning: Columns (1,2,3,4,9,239,240,255,257,258,261,269,283,285,290,294,301,313) have mixed types.Specify dtype option on import or set low_memory=False.\n",
            "  interactivity=interactivity, compiler=compiler, result=result)\n"
          ]
        }
      ]
    },
    {
      "cell_type": "markdown",
      "metadata": {
        "id": "L0PBadxNrIZh"
      },
      "source": [
        "#####**Sort Features Based on Type**\n",
        "Because our features are not all categorical, we cannot calculate each feature's p-value using the same method. We must sort our features into numerical, categorical, and string entries and then apply the correct method to obtain each p-value. For categorical features, we will run chi-square tests while we will use analysis of variance (ANOVA) with T-Testing for numerical features. The meaning of the variables are all described in the [code book](https://drive.google.com/file/d/18PDTuK0lshc193lXA3b7UDgcRzMoEEGA/view?usp=sharing)."
      ]
    },
    {
      "cell_type": "code",
      "metadata": {
        "id": "4qORbFt9rIZh"
      },
      "source": [
        "predictedFeatures = ['CODISNDISeligibleProfile', 'SDISeligibleprofile']  \n",
        "\n",
        "numericalFeatures = ['Age', 'Timebetweenassaultandexaminhours', 'PainLevel', 'MulitipleSuspectNumber', \n",
        "                     'NumberofUnknownresponses', 'NumberAssaultiveActs', 'Numberofphysicalinjuries', 'Numberofgentialinjuries',\n",
        "                     'NumberOFitemsTested', 'TimeBetweenCollectAndDNAext', 'TimeBetweenSubmissionANDtesting', 'NumberOfswabsQuantMaleDNA',\n",
        "                     'NumberOfswabsDNAanalysis', 'NumberofSTRDNAloci', 'NumberOFswabsSTRDNAprofile', 'NumberOfYSTRDNAloci']\n",
        "\n",
        "categoricalFeatures = ['Site', 'EXAMbySANE', 'YearKitCollected', 'KITbroughtTOcrimelab', 'KITlengthofSubmissionTime',\n",
        "                       'UnderAge18', 'Gender', 'ExamDeclined', 'Noninterview', 'Race', 'PriorHxofSAover14',\n",
        "                       'PriorHxofSAunder14', 'Student', 'Military', 'Pain', 'PainLocation1','PainLocation2', \n",
        "                       'PainLocation3', 'PainLocation4','PainTreatment', 'PermanentAddress', 'CurrentPhysicalmedprob',\n",
        "                       'MedProbChronic', 'MedProbInfection', 'MedProbBlood', 'MedProbCardiac', 'MedProbEar', 'MedProbEndocrine',\n",
        "                       'MedProbEye', 'MedProbGI', 'MedProbGU', 'MedProbGYN', 'MedProbImmune', 'MedProbMusculoskeletal', 'MedProbNeurological',\n",
        "                       'MedProbOral', 'MedProbRenal', 'MedProbRespiratory', 'MedProbSkin', 'MedProbOther', 'Medication',\n",
        "                       'PsychotropicMEDuse', 'PsychotropicANTIPSYCHOTICSatypical', 'PsychotropicSTIMULANTuse', 'PsychotropicANTIANXIETY', \n",
        "                       'PsychotropicANTIDEPRESSANTS', 'PsychotropicANTISEIZUREbipolar', 'PsychotropicADDICTIONmeds','PsychotropicSLEEPaid', 'PsychotropicOTHER', \n",
        "                       'PsychotropicANTIPSYCHOTICStypical', 'PolypharmacyPsychMeds', 'ImmunizationstatusTETANUS', 'ReceivedTetanus',\n",
        "                       'ImmunizationstatusHEP', 'ReceivedHepB', 'Sexualcontactwithin120hours', 'Selfdisclosurementalillness', 'MIdepression',\n",
        "                       'MIanxiety', 'MIPTSD', 'MIpsychoticDisorders', 'MIadhd', 'MIpersonalitydisorder', 'MIbipolar', 'MIeatingdisorder', 'MIdrugalcoholdisorders', \n",
        "                       'MIother', 'SelfDiscolsureMentalillnessORuseofpsychotropics', 'OnlineMeetingOFsuspect', 'Suspectrelationship',\n",
        "                       'Locationofassault', 'PatientActionScratch', 'PatientActionBite', 'PatientActionHit', 'PatientActionKick', 'PatientActionOther',\n",
        "                       'Suspectrace', 'SuspectactionVERBAL', 'SuspectactionsGRABBEDHELD', 'SuspectactionsPHYSICALBLOWS', 'SuspectactionsSTRANGLEDCHOKED',\n",
        "                       'SuspectactionsWEAPON', 'SuspectactionsRESTRAINTS', 'SuspectactionsBURNED', 'MultipleSuspects', 'SuspectedDrugfacilitated',\n",
        "                       'Patientdruguse', 'PatientETOHuse', 'Suspectdruguse', 'SuspectETOHuse', 'PatientSuspectETOHordrug', 'LossOFconsciousnessORawareness',\n",
        "                       'OneORmoreunknownanswer', 'Unknownanswerto4ormorequestions', 'UnknownanswertoALL', 'AsleepANDawakenedtoassault', 'MemoryLoss',\n",
        "                       'LossOfconsciousness', 'DecreasedAwareness', 'TonicImmobility', 'Detachment', 'NOSApatientsVAGINApenis', 'NOSApatientsVAGINAfingerhand',\n",
        "                       'NOSApatientsVAGINAmouth', 'NOSApatientsVAGINAobject', 'NOSApatientsANUSpenis', 'NOSApatientsANUSfingerhand', 'NOSApatientsANUSmouth', \n",
        "                       'NOSApatientsANUSobject', 'NOSApatientsPENISgenitals', 'NOSApatientsPENISfinger', 'NOSApatientsPENISmouth', 'NOSApatientsPENISobject', \n",
        "                       'NOSApatientsMOUTHpenis', 'NOSApatientsMOUTHfinger', 'NOSApatientsMOUTHmouth', 'NOSApatientsMOUTHobject', 'SUSPECTmouthcontactGENITALS', \n",
        "                       'SUSPECTmouthcontactMOUTH', 'SUSPECTmouthcontactOTHER', 'SUSPECTmouthcontactOTHERsite', 'HANDSofSuspectBreast', 'HANDSofSuspectExtremities', \n",
        "                       'HANDSofSuspectOther', 'Ejaculation', 'CONDOMuse', 'LUBRICATIONuse', 'SuspectWASHEDpatient', 'SuspectINJUREDbypatient', 'PostassaultURINATED', \n",
        "                       'PostassaultDEFECATED', 'PostassaultDOUCHED', 'PostassaultVOMITED', 'PostassaultGARGLED', 'PostassaultBRUSHEDTEETH', 'PostassaultATEdrank', \n",
        "                       'PostassaultBATHED', 'PostassaultGENITALWIPE', 'PostassaultCHANGEDCLOTHING', 'PostassaultREMOVEDInserted', 'PhysicalORmentalimpairment', 'Physicalinjury', \n",
        "                       'LPIhead', 'LPIneck', 'LPIbreasts', 'LPIchestback', 'LPIabdomen', 'LPIextremities', 'TPIlaceration', 'TPIecchymosis', 'TPIabrasion', 'TPIredness', \n",
        "                       'TPIswelling', 'TPIbruise', 'TPIpetechiae', 'TPIincision', 'TPIavulsion', 'TPIdiscoloredmark', 'TPIpuncturewound', 'TPIfracture', \n",
        "                       'TPIbitemark', 'TPIburn', 'TPImissingorbrokenTEETH', 'TPIconjunctivalhemorrhage', 'Genitalinjury', 'LGIinnerthighs', 'LGIclitoralhoodclitoris', \n",
        "                       'LGIlabiamajora', 'LGIlabiaminora', 'LGIperiurethraltissueURETHRA', 'LGIperihymenaltissue', 'LGIhymen', 'LGIvagina', 'LGIcervix', 'LGIfossanavicularis', \n",
        "                       'LGIposteriorfourchette', 'LGIperineum', 'LGIperineum', 'LGIanalrectal', 'LGIbuttocks', 'LGImalePerianalperineum', 'LGIglanspenis', 'LGIpenileshaft', \n",
        "                       'LGImaleURETHRALmeatus', 'LGIscrotum', 'LGItestes', 'LGImaleanus', 'LGImalerectum', 'TGIlaceration', 'TGIecchymosis', 'TGIabrasion', 'TGIredness', \n",
        "                       'TGIswelling', 'TGIbruise', 'TGIpetechiae', 'TGIincision', 'TGIavulsion', 'TGIdiscoloredmark', 'TGIpuncturewound', 'ToludineDYEuptake', 'HIVnPEP', \n",
        "                       'UQuikcollected', 'Yscreen', 'NumberItemsWITH3cutoff', 'ItemsAnalyzed1', 'ItemsAnalyzed2', 'ItemsAnalyzed3', 'ItemsAnalyzed4', 'ItemsAnalyzed5', \n",
        "                       'ItemsAnalyzed6', 'ItemsAnalyzed7', 'ItemsAnalyzed8', 'ItemsAnalyzed9', 'ItemsAnalyzed10', 'TypesOFitemsTested', 'RandomSample20142015', \n",
        "                       'YearofDNAextraction', 'LocationOfTesting','DANYfundedSAK', 'DNAKitUsed', 'SerologyDoneBeforeDNA', 'QuantMaleDNAFound', 'QuantMaleSwabLoc1', \n",
        "                       'QuantMaleSwabLoc2', 'QuantMaleSwabLoc3', 'QuantMaleSwabLoc4', 'QuantMaleSwabLoc5', 'ProbableSTRDNAprofileOFsuspect', 'ProfileofSTRDNAloci', 'ProbableYSTRDNAprofile', 'ProfileOfYSTRDNAloci', \n",
        "                       'SwabLocationYSTRDNA', 'SecondSwabLocationYSTRDNA', 'SwabFromSuspectwithVictimDNA', 'ExcludeSuspect', 'ConsensualPartnerStandardSubmitted', \n",
        "                       'STRDNAProbableprofileTYPE', 'CODISprofileHit', 'STRDNAkitUsed', 'SUSPECTmouthcontactBREASTS', 'Swab1LocationSTRDNAprofile', 'Swab2LocationSTRDNAprofile',\n",
        "                       'Swab3LocationSTRDNAprofile', 'SuspectStandardSubmitted', 'CODISNDISreasons', 'CODISSDISreasons']\n",
        "swabToDNAFeatures = ['Swab1ToDNAanalysis', 'Swab2ToDNAanalysis', 'Swab3ToDNAanalysis', 'Swab4ToDNAanalysis']\n",
        "#unusedFeatures and stringFeatures are columns that contain data that was relevant to medical professionals and for legal purposes, \n",
        "#but that aren't useful for our feature association or for predicting eligibility\n",
        "unusedFeatures = ['filter_$', 'PainTreatmentYesNo', 'GenderMaleFemale', 'DVsuspect', 'RacePrimaryGroups', 'IPSAcombined', 'STRDNAcompleted', \n",
        "                  'PhysicalInjuryNOunknown', 'GenitalInjuryNOunknown']\n",
        "\n",
        "stringFeatures = ['DeIdentifiedCase', 'Raceother', 'SchoolName', 'MilitaryBranchName', 'AddressIfnotPermanent', 'Currentmedprobtext',\n",
        "                  'MedProbOtherText', 'Medicationtext', 'Sexualcontactwithin120hoursTYPE', 'SelfdisclosureMItype', 'OnlineMeetingName', 'SuspectrelationshipOTHER',\n",
        "                  'LocationofassaultOTHER', 'Surfaceofassault', 'PatientActionOtherTEXT', 'SuspectraceOTHER', 'SuspectOTHERactions', 'NOSApatientsVAGINAobjectdescription',\n",
        "                  'NOSApatientsANUSobjectdescription', 'NOSApatientsPENISobjectdescription', 'NOSApatientsMOUTHobjectdescription', 'EjaculationSITE', 'LUBRICATIONtype',\n",
        "                  'SuspectINJUREDbypatientexplanation', 'Impairmentdescription', 'UBFSnumber', 'ISPnumber', 'DateSubmittedUBFS', 'DateofDNAextractionReport',\n",
        "                  'BodySwabLocQuant', 'BodySwabDNAanalysis', 'BodySwabLocationSTRDNA', 'BodySwabYSTRDNA', 'ISPnotes2020', 'UBFSnotes2020', 'UBFSnotes2018', 'UBFSnotes2014']"
      ],
      "execution_count": null,
      "outputs": []
    },
    {
      "cell_type": "code",
      "source": [
        "df"
      ],
      "metadata": {
        "colab": {
          "base_uri": "https://localhost:8080/",
          "height": 800
        },
        "id": "jBusiNAOVz3Z",
        "outputId": "0374005a-466d-485a-97ba-0f777af92f59"
      },
      "execution_count": null,
      "outputs": [
        {
          "output_type": "execute_result",
          "data": {
            "text/html": [
              "\n",
              "  <div id=\"df-81890d32-f812-45f4-a41b-0292643e688e\">\n",
              "    <div class=\"colab-df-container\">\n",
              "      <div>\n",
              "<style scoped>\n",
              "    .dataframe tbody tr th:only-of-type {\n",
              "        vertical-align: middle;\n",
              "    }\n",
              "\n",
              "    .dataframe tbody tr th {\n",
              "        vertical-align: top;\n",
              "    }\n",
              "\n",
              "    .dataframe thead th {\n",
              "        text-align: right;\n",
              "    }\n",
              "</style>\n",
              "<table border=\"1\" class=\"dataframe\">\n",
              "  <thead>\n",
              "    <tr style=\"text-align: right;\">\n",
              "      <th></th>\n",
              "      <th>DeIdentifiedCase</th>\n",
              "      <th>Site</th>\n",
              "      <th>EXAMbySANE</th>\n",
              "      <th>YearKitCollected</th>\n",
              "      <th>KITbroughtTOcrimelab</th>\n",
              "      <th>KITlengthofSubmissionTime</th>\n",
              "      <th>Age</th>\n",
              "      <th>UnderAge18</th>\n",
              "      <th>Gender</th>\n",
              "      <th>ExamDeclined</th>\n",
              "      <th>Noninterview</th>\n",
              "      <th>Timebetweenassaultandexaminhours</th>\n",
              "      <th>Race</th>\n",
              "      <th>Raceother</th>\n",
              "      <th>PriorHxofSAover14</th>\n",
              "      <th>PriorHxofSAunder14</th>\n",
              "      <th>Student</th>\n",
              "      <th>SchoolName</th>\n",
              "      <th>Military</th>\n",
              "      <th>MilitaryBranchName</th>\n",
              "      <th>Pain</th>\n",
              "      <th>PainLevel</th>\n",
              "      <th>PainLocation1</th>\n",
              "      <th>PainLocation2</th>\n",
              "      <th>PainLocation3</th>\n",
              "      <th>PainLocation4</th>\n",
              "      <th>PainTreatment</th>\n",
              "      <th>PermanentAddress</th>\n",
              "      <th>AddressIfnotPermanent</th>\n",
              "      <th>CurrentPhysicalmedprob</th>\n",
              "      <th>Currentmedprobtext</th>\n",
              "      <th>MedProbChronic</th>\n",
              "      <th>MedProbInfection</th>\n",
              "      <th>MedProbBlood</th>\n",
              "      <th>MedProbCardiac</th>\n",
              "      <th>MedProbEar</th>\n",
              "      <th>MedProbEndocrine</th>\n",
              "      <th>MedProbEye</th>\n",
              "      <th>MedProbGI</th>\n",
              "      <th>MedProbGU</th>\n",
              "      <th>...</th>\n",
              "      <th>SecondSwabLocationYSTRDNA</th>\n",
              "      <th>BodySwabYSTRDNA</th>\n",
              "      <th>SwabFromSuspectwithVictimDNA</th>\n",
              "      <th>ExcludeSuspect</th>\n",
              "      <th>SuspectStandardSubmitted</th>\n",
              "      <th>ConsensualPartnerStandardSubmitted</th>\n",
              "      <th>CODISNDISeligibleProfile</th>\n",
              "      <th>SDISeligibleprofile</th>\n",
              "      <th>STRDNAProbableprofileTYPE</th>\n",
              "      <th>CODISprofileHit</th>\n",
              "      <th>ISPnotes2020</th>\n",
              "      <th>UBFSnotes2020</th>\n",
              "      <th>UBFSnotes2018</th>\n",
              "      <th>UBFSnotes2014</th>\n",
              "      <th>filter_$</th>\n",
              "      <th>PainTreatmentYesNo</th>\n",
              "      <th>GenderMaleFemale</th>\n",
              "      <th>DVsuspect</th>\n",
              "      <th>RacePrimaryGroups</th>\n",
              "      <th>IPSAcombined</th>\n",
              "      <th>STRDNAcompleted</th>\n",
              "      <th>PhysicalInjuryNOunknown</th>\n",
              "      <th>GenitalInjuryNOunknown</th>\n",
              "      <th>CODISNDISreasons</th>\n",
              "      <th>CODISSDISreasons</th>\n",
              "      <th>STRDNAkitUsed</th>\n",
              "      <th>ProfileofSTRDNAloci</th>\n",
              "      <th>SwabToDNAanalysisNoquantmaleDNAfound</th>\n",
              "      <th>SwabToDNAanalysisVaginal</th>\n",
              "      <th>SwabToDNAanalysisCervical</th>\n",
              "      <th>SwabToDNAanalysisPerianal</th>\n",
              "      <th>SwabToDNAanalysisRectal</th>\n",
              "      <th>SwabToDNAanalysisOral</th>\n",
              "      <th>SwabToDNAanalysisBody</th>\n",
              "      <th>SwabToDNAanalysisUnderwear</th>\n",
              "      <th>SwabToDNAanalysisOtherClothing</th>\n",
              "      <th>SwabToDNAanalysisBedding</th>\n",
              "      <th>SwabToDNAanalysisCondom</th>\n",
              "      <th>SwabToDNAanalysisTampon</th>\n",
              "      <th>STRDNAEligible</th>\n",
              "    </tr>\n",
              "  </thead>\n",
              "  <tbody>\n",
              "    <tr>\n",
              "      <th>0</th>\n",
              "      <td>FT988320</td>\n",
              "      <td>1</td>\n",
              "      <td>1</td>\n",
              "      <td>1</td>\n",
              "      <td>1</td>\n",
              "      <td>1</td>\n",
              "      <td>17</td>\n",
              "      <td>1</td>\n",
              "      <td>1</td>\n",
              "      <td>0</td>\n",
              "      <td>No Response</td>\n",
              "      <td>48</td>\n",
              "      <td>3</td>\n",
              "      <td>No Response</td>\n",
              "      <td>4</td>\n",
              "      <td>4</td>\n",
              "      <td>No Response</td>\n",
              "      <td>No Response</td>\n",
              "      <td>No Response</td>\n",
              "      <td>No Response</td>\n",
              "      <td>No Response</td>\n",
              "      <td>No Response</td>\n",
              "      <td>No Response</td>\n",
              "      <td>No Response</td>\n",
              "      <td>No Response</td>\n",
              "      <td>No Response</td>\n",
              "      <td>No Response</td>\n",
              "      <td>No Response</td>\n",
              "      <td>No Response</td>\n",
              "      <td>0</td>\n",
              "      <td>No Response</td>\n",
              "      <td>0</td>\n",
              "      <td>0</td>\n",
              "      <td>0</td>\n",
              "      <td>0</td>\n",
              "      <td>0</td>\n",
              "      <td>0</td>\n",
              "      <td>0</td>\n",
              "      <td>0</td>\n",
              "      <td>0</td>\n",
              "      <td>...</td>\n",
              "      <td>No Response</td>\n",
              "      <td>No Response</td>\n",
              "      <td>0</td>\n",
              "      <td>0</td>\n",
              "      <td>0</td>\n",
              "      <td>0</td>\n",
              "      <td>1</td>\n",
              "      <td>1</td>\n",
              "      <td>1</td>\n",
              "      <td>0</td>\n",
              "      <td>No Response</td>\n",
              "      <td>No Response</td>\n",
              "      <td>DNA report found 5/16/19.</td>\n",
              "      <td>Left message for detective requesting standard...</td>\n",
              "      <td>0</td>\n",
              "      <td>No Response</td>\n",
              "      <td>1</td>\n",
              "      <td>No Response</td>\n",
              "      <td>3</td>\n",
              "      <td>2</td>\n",
              "      <td>1</td>\n",
              "      <td>1</td>\n",
              "      <td>1</td>\n",
              "      <td>1</td>\n",
              "      <td>1</td>\n",
              "      <td>2</td>\n",
              "      <td>1</td>\n",
              "      <td>0</td>\n",
              "      <td>0</td>\n",
              "      <td>0</td>\n",
              "      <td>0</td>\n",
              "      <td>0</td>\n",
              "      <td>0</td>\n",
              "      <td>1</td>\n",
              "      <td>0</td>\n",
              "      <td>0</td>\n",
              "      <td>0</td>\n",
              "      <td>0</td>\n",
              "      <td>0</td>\n",
              "      <td>1</td>\n",
              "    </tr>\n",
              "    <tr>\n",
              "      <th>1</th>\n",
              "      <td>LZ866552</td>\n",
              "      <td>1</td>\n",
              "      <td>1</td>\n",
              "      <td>1</td>\n",
              "      <td>1</td>\n",
              "      <td>2</td>\n",
              "      <td>27</td>\n",
              "      <td>0</td>\n",
              "      <td>1</td>\n",
              "      <td>0</td>\n",
              "      <td>No Response</td>\n",
              "      <td>3</td>\n",
              "      <td>2</td>\n",
              "      <td>No Response</td>\n",
              "      <td>4</td>\n",
              "      <td>4</td>\n",
              "      <td>No Response</td>\n",
              "      <td>No Response</td>\n",
              "      <td>No Response</td>\n",
              "      <td>No Response</td>\n",
              "      <td>No Response</td>\n",
              "      <td>No Response</td>\n",
              "      <td>No Response</td>\n",
              "      <td>No Response</td>\n",
              "      <td>No Response</td>\n",
              "      <td>No Response</td>\n",
              "      <td>No Response</td>\n",
              "      <td>No Response</td>\n",
              "      <td>No Response</td>\n",
              "      <td>0</td>\n",
              "      <td>No Response</td>\n",
              "      <td>0</td>\n",
              "      <td>0</td>\n",
              "      <td>0</td>\n",
              "      <td>0</td>\n",
              "      <td>0</td>\n",
              "      <td>0</td>\n",
              "      <td>0</td>\n",
              "      <td>0</td>\n",
              "      <td>0</td>\n",
              "      <td>...</td>\n",
              "      <td>No Response</td>\n",
              "      <td>No Response</td>\n",
              "      <td>0</td>\n",
              "      <td>0</td>\n",
              "      <td>0</td>\n",
              "      <td>0</td>\n",
              "      <td>0</td>\n",
              "      <td>0</td>\n",
              "      <td>3</td>\n",
              "      <td>4</td>\n",
              "      <td>No Response</td>\n",
              "      <td>No Response</td>\n",
              "      <td>DNA report found 5/16/19.</td>\n",
              "      <td>Detective said no DNA analysis is needed at th...</td>\n",
              "      <td>0</td>\n",
              "      <td>No Response</td>\n",
              "      <td>1</td>\n",
              "      <td>No Response</td>\n",
              "      <td>2</td>\n",
              "      <td>1</td>\n",
              "      <td>1</td>\n",
              "      <td>1</td>\n",
              "      <td>0</td>\n",
              "      <td>4</td>\n",
              "      <td>4</td>\n",
              "      <td>2</td>\n",
              "      <td>4</td>\n",
              "      <td>0</td>\n",
              "      <td>0</td>\n",
              "      <td>0</td>\n",
              "      <td>0</td>\n",
              "      <td>0</td>\n",
              "      <td>0</td>\n",
              "      <td>1</td>\n",
              "      <td>0</td>\n",
              "      <td>0</td>\n",
              "      <td>0</td>\n",
              "      <td>0</td>\n",
              "      <td>0</td>\n",
              "      <td>0</td>\n",
              "    </tr>\n",
              "    <tr>\n",
              "      <th>2</th>\n",
              "      <td>FT988772</td>\n",
              "      <td>1</td>\n",
              "      <td>1</td>\n",
              "      <td>1</td>\n",
              "      <td>1</td>\n",
              "      <td>1</td>\n",
              "      <td>23</td>\n",
              "      <td>0</td>\n",
              "      <td>1</td>\n",
              "      <td>0</td>\n",
              "      <td>No Response</td>\n",
              "      <td>6</td>\n",
              "      <td>1</td>\n",
              "      <td>No Response</td>\n",
              "      <td>4</td>\n",
              "      <td>4</td>\n",
              "      <td>No Response</td>\n",
              "      <td>No Response</td>\n",
              "      <td>No Response</td>\n",
              "      <td>No Response</td>\n",
              "      <td>No Response</td>\n",
              "      <td>No Response</td>\n",
              "      <td>No Response</td>\n",
              "      <td>No Response</td>\n",
              "      <td>No Response</td>\n",
              "      <td>No Response</td>\n",
              "      <td>No Response</td>\n",
              "      <td>No Response</td>\n",
              "      <td>No Response</td>\n",
              "      <td>0</td>\n",
              "      <td>No Response</td>\n",
              "      <td>0</td>\n",
              "      <td>0</td>\n",
              "      <td>0</td>\n",
              "      <td>0</td>\n",
              "      <td>0</td>\n",
              "      <td>0</td>\n",
              "      <td>0</td>\n",
              "      <td>0</td>\n",
              "      <td>0</td>\n",
              "      <td>...</td>\n",
              "      <td>No Response</td>\n",
              "      <td>No Response</td>\n",
              "      <td>0</td>\n",
              "      <td>0</td>\n",
              "      <td>0</td>\n",
              "      <td>0</td>\n",
              "      <td>1</td>\n",
              "      <td>1</td>\n",
              "      <td>1</td>\n",
              "      <td>0</td>\n",
              "      <td>No Response</td>\n",
              "      <td>No Response</td>\n",
              "      <td>DNA report found 5/16/19.</td>\n",
              "      <td>Detective was called with results, no call bac...</td>\n",
              "      <td>0</td>\n",
              "      <td>No Response</td>\n",
              "      <td>1</td>\n",
              "      <td>No Response</td>\n",
              "      <td>1</td>\n",
              "      <td>2</td>\n",
              "      <td>1</td>\n",
              "      <td>1</td>\n",
              "      <td>1</td>\n",
              "      <td>1</td>\n",
              "      <td>1</td>\n",
              "      <td>2</td>\n",
              "      <td>1</td>\n",
              "      <td>0</td>\n",
              "      <td>0</td>\n",
              "      <td>0</td>\n",
              "      <td>0</td>\n",
              "      <td>1</td>\n",
              "      <td>0</td>\n",
              "      <td>0</td>\n",
              "      <td>0</td>\n",
              "      <td>0</td>\n",
              "      <td>0</td>\n",
              "      <td>0</td>\n",
              "      <td>0</td>\n",
              "      <td>1</td>\n",
              "    </tr>\n",
              "    <tr>\n",
              "      <th>3</th>\n",
              "      <td>UM632222</td>\n",
              "      <td>1</td>\n",
              "      <td>1</td>\n",
              "      <td>1</td>\n",
              "      <td>1</td>\n",
              "      <td>1</td>\n",
              "      <td>19</td>\n",
              "      <td>0</td>\n",
              "      <td>1</td>\n",
              "      <td>0</td>\n",
              "      <td>No Response</td>\n",
              "      <td>14</td>\n",
              "      <td>1</td>\n",
              "      <td>No Response</td>\n",
              "      <td>4</td>\n",
              "      <td>4</td>\n",
              "      <td>No Response</td>\n",
              "      <td>No Response</td>\n",
              "      <td>No Response</td>\n",
              "      <td>No Response</td>\n",
              "      <td>No Response</td>\n",
              "      <td>No Response</td>\n",
              "      <td>No Response</td>\n",
              "      <td>No Response</td>\n",
              "      <td>No Response</td>\n",
              "      <td>No Response</td>\n",
              "      <td>No Response</td>\n",
              "      <td>No Response</td>\n",
              "      <td>No Response</td>\n",
              "      <td>1</td>\n",
              "      <td>Asthma, mono</td>\n",
              "      <td>1</td>\n",
              "      <td>1</td>\n",
              "      <td>1</td>\n",
              "      <td>0</td>\n",
              "      <td>0</td>\n",
              "      <td>0</td>\n",
              "      <td>0</td>\n",
              "      <td>0</td>\n",
              "      <td>0</td>\n",
              "      <td>...</td>\n",
              "      <td>No Response</td>\n",
              "      <td>No Response</td>\n",
              "      <td>0</td>\n",
              "      <td>0</td>\n",
              "      <td>0</td>\n",
              "      <td>0</td>\n",
              "      <td>1</td>\n",
              "      <td>1</td>\n",
              "      <td>1</td>\n",
              "      <td>0</td>\n",
              "      <td>No Response</td>\n",
              "      <td>No Response</td>\n",
              "      <td>DNA report found 5/16/19.</td>\n",
              "      <td>Vaginal, perianal, breast, neck and chest swab...</td>\n",
              "      <td>0</td>\n",
              "      <td>No Response</td>\n",
              "      <td>1</td>\n",
              "      <td>No Response</td>\n",
              "      <td>1</td>\n",
              "      <td>2</td>\n",
              "      <td>1</td>\n",
              "      <td>1</td>\n",
              "      <td>1</td>\n",
              "      <td>1</td>\n",
              "      <td>1</td>\n",
              "      <td>2</td>\n",
              "      <td>1</td>\n",
              "      <td>0</td>\n",
              "      <td>0</td>\n",
              "      <td>0</td>\n",
              "      <td>0</td>\n",
              "      <td>0</td>\n",
              "      <td>0</td>\n",
              "      <td>1</td>\n",
              "      <td>0</td>\n",
              "      <td>0</td>\n",
              "      <td>0</td>\n",
              "      <td>0</td>\n",
              "      <td>0</td>\n",
              "      <td>1</td>\n",
              "    </tr>\n",
              "    <tr>\n",
              "      <th>4</th>\n",
              "      <td>TT976221</td>\n",
              "      <td>1</td>\n",
              "      <td>1</td>\n",
              "      <td>1</td>\n",
              "      <td>1</td>\n",
              "      <td>1</td>\n",
              "      <td>16</td>\n",
              "      <td>1</td>\n",
              "      <td>1</td>\n",
              "      <td>0</td>\n",
              "      <td>No Response</td>\n",
              "      <td>23</td>\n",
              "      <td>1</td>\n",
              "      <td>No Response</td>\n",
              "      <td>4</td>\n",
              "      <td>4</td>\n",
              "      <td>No Response</td>\n",
              "      <td>No Response</td>\n",
              "      <td>No Response</td>\n",
              "      <td>No Response</td>\n",
              "      <td>No Response</td>\n",
              "      <td>No Response</td>\n",
              "      <td>No Response</td>\n",
              "      <td>No Response</td>\n",
              "      <td>No Response</td>\n",
              "      <td>No Response</td>\n",
              "      <td>No Response</td>\n",
              "      <td>No Response</td>\n",
              "      <td>No Response</td>\n",
              "      <td>1</td>\n",
              "      <td>Strep throat</td>\n",
              "      <td>0</td>\n",
              "      <td>1</td>\n",
              "      <td>0</td>\n",
              "      <td>0</td>\n",
              "      <td>0</td>\n",
              "      <td>0</td>\n",
              "      <td>0</td>\n",
              "      <td>0</td>\n",
              "      <td>0</td>\n",
              "      <td>...</td>\n",
              "      <td>No Response</td>\n",
              "      <td>No Response</td>\n",
              "      <td>0</td>\n",
              "      <td>0</td>\n",
              "      <td>0</td>\n",
              "      <td>0</td>\n",
              "      <td>0</td>\n",
              "      <td>0</td>\n",
              "      <td>No Response</td>\n",
              "      <td>4</td>\n",
              "      <td>No Response</td>\n",
              "      <td>No Response</td>\n",
              "      <td>DNA report found 5/16/19.</td>\n",
              "      <td>No male DNA found, no further testing done</td>\n",
              "      <td>0</td>\n",
              "      <td>No Response</td>\n",
              "      <td>1</td>\n",
              "      <td>No Response</td>\n",
              "      <td>1</td>\n",
              "      <td>1</td>\n",
              "      <td>No Response</td>\n",
              "      <td>1</td>\n",
              "      <td>0</td>\n",
              "      <td>5</td>\n",
              "      <td>5</td>\n",
              "      <td>No Response</td>\n",
              "      <td>0</td>\n",
              "      <td>0</td>\n",
              "      <td>0</td>\n",
              "      <td>0</td>\n",
              "      <td>0</td>\n",
              "      <td>0</td>\n",
              "      <td>0</td>\n",
              "      <td>0</td>\n",
              "      <td>0</td>\n",
              "      <td>0</td>\n",
              "      <td>0</td>\n",
              "      <td>0</td>\n",
              "      <td>0</td>\n",
              "      <td>0</td>\n",
              "    </tr>\n",
              "    <tr>\n",
              "      <th>...</th>\n",
              "      <td>...</td>\n",
              "      <td>...</td>\n",
              "      <td>...</td>\n",
              "      <td>...</td>\n",
              "      <td>...</td>\n",
              "      <td>...</td>\n",
              "      <td>...</td>\n",
              "      <td>...</td>\n",
              "      <td>...</td>\n",
              "      <td>...</td>\n",
              "      <td>...</td>\n",
              "      <td>...</td>\n",
              "      <td>...</td>\n",
              "      <td>...</td>\n",
              "      <td>...</td>\n",
              "      <td>...</td>\n",
              "      <td>...</td>\n",
              "      <td>...</td>\n",
              "      <td>...</td>\n",
              "      <td>...</td>\n",
              "      <td>...</td>\n",
              "      <td>...</td>\n",
              "      <td>...</td>\n",
              "      <td>...</td>\n",
              "      <td>...</td>\n",
              "      <td>...</td>\n",
              "      <td>...</td>\n",
              "      <td>...</td>\n",
              "      <td>...</td>\n",
              "      <td>...</td>\n",
              "      <td>...</td>\n",
              "      <td>...</td>\n",
              "      <td>...</td>\n",
              "      <td>...</td>\n",
              "      <td>...</td>\n",
              "      <td>...</td>\n",
              "      <td>...</td>\n",
              "      <td>...</td>\n",
              "      <td>...</td>\n",
              "      <td>...</td>\n",
              "      <td>...</td>\n",
              "      <td>...</td>\n",
              "      <td>...</td>\n",
              "      <td>...</td>\n",
              "      <td>...</td>\n",
              "      <td>...</td>\n",
              "      <td>...</td>\n",
              "      <td>...</td>\n",
              "      <td>...</td>\n",
              "      <td>...</td>\n",
              "      <td>...</td>\n",
              "      <td>...</td>\n",
              "      <td>...</td>\n",
              "      <td>...</td>\n",
              "      <td>...</td>\n",
              "      <td>...</td>\n",
              "      <td>...</td>\n",
              "      <td>...</td>\n",
              "      <td>...</td>\n",
              "      <td>...</td>\n",
              "      <td>...</td>\n",
              "      <td>...</td>\n",
              "      <td>...</td>\n",
              "      <td>...</td>\n",
              "      <td>...</td>\n",
              "      <td>...</td>\n",
              "      <td>...</td>\n",
              "      <td>...</td>\n",
              "      <td>...</td>\n",
              "      <td>...</td>\n",
              "      <td>...</td>\n",
              "      <td>...</td>\n",
              "      <td>...</td>\n",
              "      <td>...</td>\n",
              "      <td>...</td>\n",
              "      <td>...</td>\n",
              "      <td>...</td>\n",
              "      <td>...</td>\n",
              "      <td>...</td>\n",
              "      <td>...</td>\n",
              "      <td>...</td>\n",
              "    </tr>\n",
              "    <tr>\n",
              "      <th>5635</th>\n",
              "      <td>JH741110</td>\n",
              "      <td>1</td>\n",
              "      <td>1</td>\n",
              "      <td>7</td>\n",
              "      <td>1</td>\n",
              "      <td>1</td>\n",
              "      <td>66</td>\n",
              "      <td>0</td>\n",
              "      <td>1</td>\n",
              "      <td>0</td>\n",
              "      <td>0</td>\n",
              "      <td>49</td>\n",
              "      <td>1</td>\n",
              "      <td>No Response</td>\n",
              "      <td>1</td>\n",
              "      <td>0</td>\n",
              "      <td>No Response</td>\n",
              "      <td>No Response</td>\n",
              "      <td>No Response</td>\n",
              "      <td>No Response</td>\n",
              "      <td>No Response</td>\n",
              "      <td>No Response</td>\n",
              "      <td>No Response</td>\n",
              "      <td>No Response</td>\n",
              "      <td>No Response</td>\n",
              "      <td>No Response</td>\n",
              "      <td>No Response</td>\n",
              "      <td>No Response</td>\n",
              "      <td>No Response</td>\n",
              "      <td>1</td>\n",
              "      <td>pacemaker, diverticulitis, anxiety</td>\n",
              "      <td>1</td>\n",
              "      <td>0</td>\n",
              "      <td>0</td>\n",
              "      <td>1</td>\n",
              "      <td>0</td>\n",
              "      <td>0</td>\n",
              "      <td>0</td>\n",
              "      <td>1</td>\n",
              "      <td>0</td>\n",
              "      <td>...</td>\n",
              "      <td>No Response</td>\n",
              "      <td>No Response</td>\n",
              "      <td>0</td>\n",
              "      <td>0</td>\n",
              "      <td>0</td>\n",
              "      <td>0</td>\n",
              "      <td>0</td>\n",
              "      <td>0</td>\n",
              "      <td>3</td>\n",
              "      <td>4</td>\n",
              "      <td>No Response</td>\n",
              "      <td>No Response</td>\n",
              "      <td>No Response</td>\n",
              "      <td>No Response</td>\n",
              "      <td>0</td>\n",
              "      <td>No Response</td>\n",
              "      <td>1</td>\n",
              "      <td>No Response</td>\n",
              "      <td>1</td>\n",
              "      <td>2</td>\n",
              "      <td>1</td>\n",
              "      <td>1</td>\n",
              "      <td>1</td>\n",
              "      <td>4</td>\n",
              "      <td>4</td>\n",
              "      <td>1</td>\n",
              "      <td>3</td>\n",
              "      <td>0</td>\n",
              "      <td>1</td>\n",
              "      <td>0</td>\n",
              "      <td>1</td>\n",
              "      <td>0</td>\n",
              "      <td>0</td>\n",
              "      <td>1</td>\n",
              "      <td>0</td>\n",
              "      <td>0</td>\n",
              "      <td>0</td>\n",
              "      <td>0</td>\n",
              "      <td>0</td>\n",
              "      <td>0</td>\n",
              "    </tr>\n",
              "    <tr>\n",
              "      <th>5638</th>\n",
              "      <td>SW954310</td>\n",
              "      <td>1</td>\n",
              "      <td>1</td>\n",
              "      <td>10</td>\n",
              "      <td>1</td>\n",
              "      <td>1</td>\n",
              "      <td>31</td>\n",
              "      <td>0</td>\n",
              "      <td>1</td>\n",
              "      <td>0</td>\n",
              "      <td>0</td>\n",
              "      <td>14</td>\n",
              "      <td>1</td>\n",
              "      <td>No Response</td>\n",
              "      <td>1</td>\n",
              "      <td>1</td>\n",
              "      <td>0</td>\n",
              "      <td>No Response</td>\n",
              "      <td>0</td>\n",
              "      <td>No Response</td>\n",
              "      <td>1</td>\n",
              "      <td>No Response</td>\n",
              "      <td>8</td>\n",
              "      <td>1</td>\n",
              "      <td>No Response</td>\n",
              "      <td>No Response</td>\n",
              "      <td>0</td>\n",
              "      <td>0</td>\n",
              "      <td>listed mom's address</td>\n",
              "      <td>0</td>\n",
              "      <td>No Response</td>\n",
              "      <td>0</td>\n",
              "      <td>0</td>\n",
              "      <td>0</td>\n",
              "      <td>0</td>\n",
              "      <td>0</td>\n",
              "      <td>0</td>\n",
              "      <td>0</td>\n",
              "      <td>0</td>\n",
              "      <td>0</td>\n",
              "      <td>...</td>\n",
              "      <td>No Response</td>\n",
              "      <td>No Response</td>\n",
              "      <td>0</td>\n",
              "      <td>0</td>\n",
              "      <td>0</td>\n",
              "      <td>0</td>\n",
              "      <td>0</td>\n",
              "      <td>0</td>\n",
              "      <td>No Response</td>\n",
              "      <td>4</td>\n",
              "      <td>No Response</td>\n",
              "      <td>DNA report found Aug 2020.</td>\n",
              "      <td>No Response</td>\n",
              "      <td>No Response</td>\n",
              "      <td>0</td>\n",
              "      <td>No Response</td>\n",
              "      <td>No Response</td>\n",
              "      <td>No Response</td>\n",
              "      <td>No Response</td>\n",
              "      <td>No Response</td>\n",
              "      <td>No Response</td>\n",
              "      <td>No Response</td>\n",
              "      <td>No Response</td>\n",
              "      <td>5</td>\n",
              "      <td>5</td>\n",
              "      <td>2</td>\n",
              "      <td>3</td>\n",
              "      <td>0</td>\n",
              "      <td>0</td>\n",
              "      <td>0</td>\n",
              "      <td>0</td>\n",
              "      <td>0</td>\n",
              "      <td>0</td>\n",
              "      <td>1</td>\n",
              "      <td>0</td>\n",
              "      <td>0</td>\n",
              "      <td>0</td>\n",
              "      <td>0</td>\n",
              "      <td>0</td>\n",
              "      <td>0</td>\n",
              "    </tr>\n",
              "    <tr>\n",
              "      <th>5639</th>\n",
              "      <td>PW973000</td>\n",
              "      <td>4</td>\n",
              "      <td>1</td>\n",
              "      <td>6</td>\n",
              "      <td>1</td>\n",
              "      <td>3</td>\n",
              "      <td>17</td>\n",
              "      <td>1</td>\n",
              "      <td>1</td>\n",
              "      <td>0</td>\n",
              "      <td>0</td>\n",
              "      <td>5</td>\n",
              "      <td>1</td>\n",
              "      <td>No Response</td>\n",
              "      <td>No Response</td>\n",
              "      <td>No Response</td>\n",
              "      <td>No Response</td>\n",
              "      <td>No Response</td>\n",
              "      <td>No Response</td>\n",
              "      <td>No Response</td>\n",
              "      <td>No Response</td>\n",
              "      <td>No Response</td>\n",
              "      <td>No Response</td>\n",
              "      <td>No Response</td>\n",
              "      <td>No Response</td>\n",
              "      <td>No Response</td>\n",
              "      <td>No Response</td>\n",
              "      <td>No Response</td>\n",
              "      <td>No Response</td>\n",
              "      <td>0</td>\n",
              "      <td>No Response</td>\n",
              "      <td>0</td>\n",
              "      <td>0</td>\n",
              "      <td>0</td>\n",
              "      <td>0</td>\n",
              "      <td>0</td>\n",
              "      <td>0</td>\n",
              "      <td>0</td>\n",
              "      <td>0</td>\n",
              "      <td>0</td>\n",
              "      <td>...</td>\n",
              "      <td>No Response</td>\n",
              "      <td>No Response</td>\n",
              "      <td>0</td>\n",
              "      <td>0</td>\n",
              "      <td>0</td>\n",
              "      <td>0</td>\n",
              "      <td>0</td>\n",
              "      <td>0</td>\n",
              "      <td>3</td>\n",
              "      <td>4</td>\n",
              "      <td>No Response</td>\n",
              "      <td>No Response</td>\n",
              "      <td>No Response</td>\n",
              "      <td>No Response</td>\n",
              "      <td>0</td>\n",
              "      <td>No Response</td>\n",
              "      <td>1</td>\n",
              "      <td>No Response</td>\n",
              "      <td>1</td>\n",
              "      <td>2</td>\n",
              "      <td>1</td>\n",
              "      <td>0</td>\n",
              "      <td>0</td>\n",
              "      <td>4</td>\n",
              "      <td>4</td>\n",
              "      <td>2</td>\n",
              "      <td>3</td>\n",
              "      <td>0</td>\n",
              "      <td>1</td>\n",
              "      <td>1</td>\n",
              "      <td>0</td>\n",
              "      <td>1</td>\n",
              "      <td>0</td>\n",
              "      <td>0</td>\n",
              "      <td>0</td>\n",
              "      <td>0</td>\n",
              "      <td>0</td>\n",
              "      <td>0</td>\n",
              "      <td>0</td>\n",
              "      <td>0</td>\n",
              "    </tr>\n",
              "    <tr>\n",
              "      <th>5640</th>\n",
              "      <td>FR444330</td>\n",
              "      <td>1</td>\n",
              "      <td>1</td>\n",
              "      <td>7</td>\n",
              "      <td>1</td>\n",
              "      <td>1</td>\n",
              "      <td>22</td>\n",
              "      <td>0</td>\n",
              "      <td>1</td>\n",
              "      <td>0</td>\n",
              "      <td>0</td>\n",
              "      <td>22</td>\n",
              "      <td>2</td>\n",
              "      <td>No Response</td>\n",
              "      <td>1</td>\n",
              "      <td>2</td>\n",
              "      <td>No Response</td>\n",
              "      <td>No Response</td>\n",
              "      <td>No Response</td>\n",
              "      <td>No Response</td>\n",
              "      <td>No Response</td>\n",
              "      <td>No Response</td>\n",
              "      <td>No Response</td>\n",
              "      <td>No Response</td>\n",
              "      <td>No Response</td>\n",
              "      <td>No Response</td>\n",
              "      <td>No Response</td>\n",
              "      <td>No Response</td>\n",
              "      <td>No Response</td>\n",
              "      <td>0</td>\n",
              "      <td>anxiety</td>\n",
              "      <td>0</td>\n",
              "      <td>0</td>\n",
              "      <td>0</td>\n",
              "      <td>0</td>\n",
              "      <td>0</td>\n",
              "      <td>0</td>\n",
              "      <td>0</td>\n",
              "      <td>0</td>\n",
              "      <td>0</td>\n",
              "      <td>...</td>\n",
              "      <td>No Response</td>\n",
              "      <td>No Response</td>\n",
              "      <td>0</td>\n",
              "      <td>0</td>\n",
              "      <td>0</td>\n",
              "      <td>0</td>\n",
              "      <td>0</td>\n",
              "      <td>0</td>\n",
              "      <td>3</td>\n",
              "      <td>4</td>\n",
              "      <td>No Response</td>\n",
              "      <td>No Response</td>\n",
              "      <td>Swabs held for future YSTR testing</td>\n",
              "      <td>No Response</td>\n",
              "      <td>0</td>\n",
              "      <td>No Response</td>\n",
              "      <td>1</td>\n",
              "      <td>No Response</td>\n",
              "      <td>2</td>\n",
              "      <td>No Response</td>\n",
              "      <td>1</td>\n",
              "      <td>0</td>\n",
              "      <td>1</td>\n",
              "      <td>4</td>\n",
              "      <td>4</td>\n",
              "      <td>2</td>\n",
              "      <td>3</td>\n",
              "      <td>0</td>\n",
              "      <td>0</td>\n",
              "      <td>0</td>\n",
              "      <td>1</td>\n",
              "      <td>0</td>\n",
              "      <td>0</td>\n",
              "      <td>1</td>\n",
              "      <td>0</td>\n",
              "      <td>0</td>\n",
              "      <td>0</td>\n",
              "      <td>0</td>\n",
              "      <td>0</td>\n",
              "      <td>0</td>\n",
              "    </tr>\n",
              "    <tr>\n",
              "      <th>5641</th>\n",
              "      <td>FA963330</td>\n",
              "      <td>1</td>\n",
              "      <td>1</td>\n",
              "      <td>4</td>\n",
              "      <td>1</td>\n",
              "      <td>3</td>\n",
              "      <td>31</td>\n",
              "      <td>0</td>\n",
              "      <td>1</td>\n",
              "      <td>0</td>\n",
              "      <td>0</td>\n",
              "      <td>140</td>\n",
              "      <td>1</td>\n",
              "      <td>No Response</td>\n",
              "      <td>1</td>\n",
              "      <td>1</td>\n",
              "      <td>No Response</td>\n",
              "      <td>No Response</td>\n",
              "      <td>No Response</td>\n",
              "      <td>No Response</td>\n",
              "      <td>No Response</td>\n",
              "      <td>No Response</td>\n",
              "      <td>No Response</td>\n",
              "      <td>No Response</td>\n",
              "      <td>No Response</td>\n",
              "      <td>No Response</td>\n",
              "      <td>No Response</td>\n",
              "      <td>No Response</td>\n",
              "      <td>No Response</td>\n",
              "      <td>1</td>\n",
              "      <td>Cellulitis, Depression, Anxiety</td>\n",
              "      <td>0</td>\n",
              "      <td>1</td>\n",
              "      <td>0</td>\n",
              "      <td>0</td>\n",
              "      <td>0</td>\n",
              "      <td>0</td>\n",
              "      <td>0</td>\n",
              "      <td>0</td>\n",
              "      <td>0</td>\n",
              "      <td>...</td>\n",
              "      <td>No Response</td>\n",
              "      <td>No Response</td>\n",
              "      <td>0</td>\n",
              "      <td>0</td>\n",
              "      <td>0</td>\n",
              "      <td>0</td>\n",
              "      <td>0</td>\n",
              "      <td>0</td>\n",
              "      <td>3</td>\n",
              "      <td>4</td>\n",
              "      <td>No Response</td>\n",
              "      <td>No Response</td>\n",
              "      <td>No DNA report found 7/23/19</td>\n",
              "      <td>No Response</td>\n",
              "      <td>0</td>\n",
              "      <td>No Response</td>\n",
              "      <td>1</td>\n",
              "      <td>No Response</td>\n",
              "      <td>1</td>\n",
              "      <td>1</td>\n",
              "      <td>No Response</td>\n",
              "      <td>0</td>\n",
              "      <td>0</td>\n",
              "      <td>4</td>\n",
              "      <td>4</td>\n",
              "      <td>2</td>\n",
              "      <td>4</td>\n",
              "      <td>0</td>\n",
              "      <td>1</td>\n",
              "      <td>0</td>\n",
              "      <td>0</td>\n",
              "      <td>0</td>\n",
              "      <td>0</td>\n",
              "      <td>0</td>\n",
              "      <td>0</td>\n",
              "      <td>0</td>\n",
              "      <td>0</td>\n",
              "      <td>0</td>\n",
              "      <td>0</td>\n",
              "      <td>0</td>\n",
              "    </tr>\n",
              "  </tbody>\n",
              "</table>\n",
              "<p>4403 rows × 327 columns</p>\n",
              "</div>\n",
              "      <button class=\"colab-df-convert\" onclick=\"convertToInteractive('df-81890d32-f812-45f4-a41b-0292643e688e')\"\n",
              "              title=\"Convert this dataframe to an interactive table.\"\n",
              "              style=\"display:none;\">\n",
              "        \n",
              "  <svg xmlns=\"http://www.w3.org/2000/svg\" height=\"24px\"viewBox=\"0 0 24 24\"\n",
              "       width=\"24px\">\n",
              "    <path d=\"M0 0h24v24H0V0z\" fill=\"none\"/>\n",
              "    <path d=\"M18.56 5.44l.94 2.06.94-2.06 2.06-.94-2.06-.94-.94-2.06-.94 2.06-2.06.94zm-11 1L8.5 8.5l.94-2.06 2.06-.94-2.06-.94L8.5 2.5l-.94 2.06-2.06.94zm10 10l.94 2.06.94-2.06 2.06-.94-2.06-.94-.94-2.06-.94 2.06-2.06.94z\"/><path d=\"M17.41 7.96l-1.37-1.37c-.4-.4-.92-.59-1.43-.59-.52 0-1.04.2-1.43.59L10.3 9.45l-7.72 7.72c-.78.78-.78 2.05 0 2.83L4 21.41c.39.39.9.59 1.41.59.51 0 1.02-.2 1.41-.59l7.78-7.78 2.81-2.81c.8-.78.8-2.07 0-2.86zM5.41 20L4 18.59l7.72-7.72 1.47 1.35L5.41 20z\"/>\n",
              "  </svg>\n",
              "      </button>\n",
              "      \n",
              "  <style>\n",
              "    .colab-df-container {\n",
              "      display:flex;\n",
              "      flex-wrap:wrap;\n",
              "      gap: 12px;\n",
              "    }\n",
              "\n",
              "    .colab-df-convert {\n",
              "      background-color: #E8F0FE;\n",
              "      border: none;\n",
              "      border-radius: 50%;\n",
              "      cursor: pointer;\n",
              "      display: none;\n",
              "      fill: #1967D2;\n",
              "      height: 32px;\n",
              "      padding: 0 0 0 0;\n",
              "      width: 32px;\n",
              "    }\n",
              "\n",
              "    .colab-df-convert:hover {\n",
              "      background-color: #E2EBFA;\n",
              "      box-shadow: 0px 1px 2px rgba(60, 64, 67, 0.3), 0px 1px 3px 1px rgba(60, 64, 67, 0.15);\n",
              "      fill: #174EA6;\n",
              "    }\n",
              "\n",
              "    [theme=dark] .colab-df-convert {\n",
              "      background-color: #3B4455;\n",
              "      fill: #D2E3FC;\n",
              "    }\n",
              "\n",
              "    [theme=dark] .colab-df-convert:hover {\n",
              "      background-color: #434B5C;\n",
              "      box-shadow: 0px 1px 3px 1px rgba(0, 0, 0, 0.15);\n",
              "      filter: drop-shadow(0px 1px 2px rgba(0, 0, 0, 0.3));\n",
              "      fill: #FFFFFF;\n",
              "    }\n",
              "  </style>\n",
              "\n",
              "      <script>\n",
              "        const buttonEl =\n",
              "          document.querySelector('#df-81890d32-f812-45f4-a41b-0292643e688e button.colab-df-convert');\n",
              "        buttonEl.style.display =\n",
              "          google.colab.kernel.accessAllowed ? 'block' : 'none';\n",
              "\n",
              "        async function convertToInteractive(key) {\n",
              "          const element = document.querySelector('#df-81890d32-f812-45f4-a41b-0292643e688e');\n",
              "          const dataTable =\n",
              "            await google.colab.kernel.invokeFunction('convertToInteractive',\n",
              "                                                     [key], {});\n",
              "          if (!dataTable) return;\n",
              "\n",
              "          const docLinkHtml = 'Like what you see? Visit the ' +\n",
              "            '<a target=\"_blank\" href=https://colab.research.google.com/notebooks/data_table.ipynb>data table notebook</a>'\n",
              "            + ' to learn more about interactive tables.';\n",
              "          element.innerHTML = '';\n",
              "          dataTable['output_type'] = 'display_data';\n",
              "          await google.colab.output.renderOutput(dataTable, element);\n",
              "          const docLink = document.createElement('div');\n",
              "          docLink.innerHTML = docLinkHtml;\n",
              "          element.appendChild(docLink);\n",
              "        }\n",
              "      </script>\n",
              "    </div>\n",
              "  </div>\n",
              "  "
            ],
            "text/plain": [
              "     DeIdentifiedCase Site  ... SwabToDNAanalysisTampon STRDNAEligible\n",
              "0            FT988320    1  ...                       0              1\n",
              "1            LZ866552    1  ...                       0              0\n",
              "2            FT988772    1  ...                       0              1\n",
              "3            UM632222    1  ...                       0              1\n",
              "4            TT976221    1  ...                       0              0\n",
              "...               ...  ...  ...                     ...            ...\n",
              "5635         JH741110    1  ...                       0              0\n",
              "5638         SW954310    1  ...                       0              0\n",
              "5639         PW973000    4  ...                       0              0\n",
              "5640         FR444330    1  ...                       0              0\n",
              "5641         FA963330    1  ...                       0              0\n",
              "\n",
              "[4403 rows x 327 columns]"
            ]
          },
          "metadata": {},
          "execution_count": 8
        }
      ]
    },
    {
      "cell_type": "markdown",
      "metadata": {
        "id": "3HD9WEK_lxna"
      },
      "source": [
        "##Name and Clean the Variables for Use"
      ]
    },
    {
      "cell_type": "markdown",
      "metadata": {
        "id": "5Z7e1hd1hh2d"
      },
      "source": [
        "**Examine and Clean variables for use**"
      ]
    },
    {
      "cell_type": "code",
      "metadata": {
        "id": "cZ8KXjLbt-Hf"
      },
      "source": [
        "df = df.apply(pd.to_numeric, errors='ignore')"
      ],
      "execution_count": null,
      "outputs": []
    },
    {
      "cell_type": "code",
      "metadata": {
        "id": "s1ZZfQuNl8Kz"
      },
      "source": [
        "df = df.astype({'Site': int, 'EXAMbySANE': int, 'YearKitCollected': int, 'KITbroughtTOcrimelab': int, 'KITlengthofSubmissionTime': int, 'Age': str, 'UnderAge18': int, 'Gender': int, 'ExamDeclined': bool, 'Noninterview': bool, 'Timebetweenassaultandexaminhours': str, 'Race': int, 'Raceother': int, 'PriorHxofSAover14': bool, 'PriorHxofSAunder14': bool, 'Student': bool, 'SchoolName': str, 'Military': bool, 'MilitaryBranchName': str, 'Pain': bool, 'PainLevel': int, 'PainLocation1': int, 'PainLocation2': int, 'PainLocation3': int, 'PainLocation4': int, 'PainTreatment': bool}, errors='ignore') "
      ],
      "execution_count": null,
      "outputs": []
    },
    {
      "cell_type": "code",
      "metadata": {
        "colab": {
          "base_uri": "https://localhost:8080/"
        },
        "id": "eKRsytCVGWzl",
        "outputId": "394b35c1-d5bb-4a7d-e84a-82cf799f802e"
      },
      "source": [
        "df['Timebetweenassaultandexaminhours_int'] = pd.to_numeric(df['Timebetweenassaultandexaminhours'], errors='coerce')\n",
        "\n",
        "def makeContingency(row):\n",
        "  value = row[\"Timebetweenassaultandexaminhours_int\"]\n",
        "  if value < 23:\n",
        "    return \"0\"\n",
        "  elif value < 47:\n",
        "    return \"1\"\n",
        "  elif value < 71:\n",
        "    return \"2\"\n",
        "  elif value < 95:\n",
        "    return \"3\"\n",
        "  elif value < 119:\n",
        "    return \"4\"\n",
        "  elif value < 900:\n",
        "    return \"5\"\n",
        "  else:\n",
        "    return \"6\"\n",
        "\n",
        "# 0 = \"Under 24 hours\"\n",
        "# 1 = \"1 Day\"\n",
        "# 2 = \"2 Days\" \n",
        "# 3 = \"3 Days\"\n",
        "# 4 = \"4 Days\"\n",
        "# 5 = \"5+ Days\"\n",
        "# 6 = \"nan\"\n",
        "\n",
        "df['timeBetweenAssaultAndExam'] = df.apply(makeContingency, axis=1)\n",
        "print(df['timeBetweenAssaultAndExam'].value_counts())\n",
        "\n",
        "df['timeBetweenAssaultAndExam'] = pd.to_numeric(df['timeBetweenAssaultAndExam'], errors='coerce')"
      ],
      "execution_count": null,
      "outputs": [
        {
          "output_type": "stream",
          "name": "stdout",
          "text": [
            "0    2813\n",
            "1     773\n",
            "2     338\n",
            "3     209\n",
            "4     115\n",
            "5      89\n",
            "6      66\n",
            "Name: timeBetweenAssaultAndExam, dtype: int64\n"
          ]
        }
      ]
    },
    {
      "cell_type": "code",
      "metadata": {
        "colab": {
          "base_uri": "https://localhost:8080/"
        },
        "id": "IMlLEx-UHWF7",
        "outputId": "897a1b4c-7584-4f6c-80ab-1cf54fb88b82"
      },
      "source": [
        "df['Age'] = pd.to_numeric(df['Age'], errors='coerce')\n",
        "def makeContingency(row):\n",
        "  value = row[\"Age\"]\n",
        "  if value < 20:\n",
        "    return \"0\"\n",
        "  elif value < 30:\n",
        "    return \"1\"\n",
        "  elif value < 40:\n",
        "    return \"2\"\n",
        "  elif value < 50:\n",
        "    return \"3\"\n",
        "  elif value < 60:\n",
        "    return \"4\"\n",
        "  else:\n",
        "    return \"6\"\n",
        "\n",
        "df['ageOfVictim'] = df.apply(makeContingency, axis=1)\n",
        "print(df['ageOfVictim'].value_counts())\n",
        "\n",
        "df['ageOfVictim'] = pd.to_numeric(df['ageOfVictim'], errors='coerce')"
      ],
      "execution_count": null,
      "outputs": [
        {
          "output_type": "stream",
          "name": "stdout",
          "text": [
            "1    1644\n",
            "0    1263\n",
            "2     866\n",
            "3     408\n",
            "4     155\n",
            "6      67\n",
            "Name: ageOfVictim, dtype: int64\n"
          ]
        }
      ]
    },
    {
      "cell_type": "code",
      "source": [
        "#EIdf=df[['CODISNDISeligibleProfile','PainTreatment','CurrentPhysicalmedprob',\t'MedProbChronic',\t'MedProbInfection',\t'MedProbBlood',\t'MedProbCardiac',\t'MedProbEar',\t'MedProbEndocrine','Age','UnderAge18',\t'Gender', 'ExamDeclined',\t'Noninterview',\t'Timebetweenassaultandexaminhours',\t'Race',\t'Raceother',\t'PriorHxofSAover14',\t'PriorHxofSAunder14',\t'Student',\t'SchoolName',\t'Military',\t'MilitaryBranchName',\t'Pain',\t'PainLevel',\t'PainLocation1',\t'PainLocation2',\t'PainLocation3',\t'PainLocation4']]\t"
      ],
      "metadata": {
        "id": "jX6qzEasZa2X"
      },
      "execution_count": null,
      "outputs": []
    },
    {
      "cell_type": "code",
      "source": [
        "#EIdf.dtypes"
      ],
      "metadata": {
        "id": "U_5VHsAvat0X"
      },
      "execution_count": null,
      "outputs": []
    },
    {
      "cell_type": "code",
      "source": [
        "#An effort to compare the \"first 20 variables\" with the ones selected based on recommendations\n",
        "#EIdf['CODISNDISeligibleProfile'] = pd.to_numeric(EIdf['CODISNDISeligibleProfile'], errors='coerce')\n",
        "#EIdf['Age'] = pd.to_numeric(EIdf['Age'], errors='coerce')\n",
        "#EIdf['UnderAge18'] = pd.to_numeric(EIdf['UnderAge18'], errors='coerce')\n",
        "#EIdf['Gender'] = pd.to_numeric(EIdf['Gender'], errors='coerce')\n",
        "#EIdf['ExamDeclined'] = pd.to_numeric(EIdf['ExamDeclined'], errors='coerce')\n",
        "#EIdf['Noninterview'] = pd.to_numeric(EIdf['Noninterview'], errors='coerce')\n",
        "#EIdf['Timebetweenassaultandexaminhours'] = pd.to_numeric(EIdf['Timebetweenassaultandexaminhours'], errors='coerce')\n",
        "#EIdf['Race'] = pd.to_numeric(EIdf['Race'], errors='coerce')\n",
        "#EIdf['Raceother'] = pd.to_numeric(EIdf['Raceother'], errors='coerce')\n",
        "#EIdf['PriorHxofSAover14'] = pd.to_numeric(EIdf['PriorHxofSAover14'], errors='coerce')\n",
        "#EIdf['PriorHxofSAunder14'] = pd.to_numeric(EIdf['PriorHxofSAunder14'], errors='coerce')\n",
        "#EIdf['Student'] = pd.to_numeric(EIdf['Student'], errors='coerce')\n",
        "#EIdf['SchoolName'] = pd.to_numeric(EIdf['SchoolName'], errors='coerce')\n",
        "#EIdf['Military'] = pd.to_numeric(EIdf['Military'], errors='coerce')\n",
        "#EIdf['MilitaryBranchName'] = pd.to_numeric(EIdf['MilitaryBranchName'], errors='coerce')\n",
        "#EIdf['Pain'] = pd.to_numeric(EIdf['Pain'], errors='coerce')\n",
        "#EIdf['PainLevel'] = pd.to_numeric(EIdf['PainLevel'], errors='coerce')\n",
        "#EIdf['PainLocation1'] = pd.to_numeric(EIdf['PainLocation1'], errors='coerce')\n",
        "#EIdf['PainLocation2'] = pd.to_numeric(EIdf['Painlocation2'], errors='coerce')\n",
        "#EIdf['PainLocation3'] = pd.to_numeric(EIdf['Painlocation3'], errors='coerce')\n",
        "#EIdf['PainLocation4'] = pd.to_numeric(EIdf['Painlocation4'], errors='coerce')\n",
        "#EIdf['PainTreatment'] = pd.to_numeric(EIdf['PainTreatment'], errors='coerce')\n",
        "#EIdf['CurrentPhysicalmedprob'] = pd.to_numeric(EIdf['CurrentPhysicalmedprob'], errors='coerce')\n",
        "#EIdf['MedProbChronic'] = pd.to_numeric(EIdf['MedProbChronic'], errors='coerce')\n",
        "#EIdf['MedProbInfection'] = pd.to_numeric(EIdf['MedProbInfection'], errors='coerce')\n",
        "#EIdf['MedProbBlood'] = pd.to_numeric(EIdf['MedProbBlood'], errors='coerce')\n",
        "#EIdf['MedProbCardiac'] = pd.to_numeric(EIdf['MedProbCardiac'], errors='coerce')\n",
        "#EIdf['MedProbEar'] = pd.to_numeric(EIdf['MedProbEar'], errors='coerce')\t\n",
        "#EIdf['MedProbEndocrine'] = pd.to_numeric(EIdf['MedProbEndocrine'], errors='coerce')"
      ],
      "metadata": {
        "id": "BlbUxhyEan_i"
      },
      "execution_count": null,
      "outputs": []
    },
    {
      "cell_type": "code",
      "source": [
        "#EIdf.dtypes"
      ],
      "metadata": {
        "id": "jwHxaehxbbsj"
      },
      "execution_count": null,
      "outputs": []
    },
    {
      "cell_type": "code",
      "metadata": {
        "id": "qiUhAF6FdnAb"
      },
      "source": [
        "df['MemoryLoss'] = pd.to_numeric(df['MemoryLoss'], errors='coerce')\n",
        "df['MulitipleSuspectNumber'] = pd.to_numeric(df['MulitipleSuspectNumber'], errors='coerce')\n",
        "df['Sexualcontactwithin120hours'] = pd.to_numeric(df['Sexualcontactwithin120hours'], errors='coerce')\n",
        "df['Ejaculation'] = pd.to_numeric(df['Ejaculation'], errors='coerce')\n",
        "df['CONDOMuse'] = pd.to_numeric(df['CONDOMuse'], errors='coerce')\n",
        "df['PostassaultBATHED'] = pd.to_numeric(df['PostassaultBATHED'], errors='coerce')\n",
        "df['NOSApatientsVAGINApenis'] = pd.to_numeric(df['NOSApatientsVAGINApenis'], errors='coerce')\n",
        "df['NOSApatientsANUSpenis'] = pd.to_numeric(df['NOSApatientsANUSpenis'], errors='coerce')\n",
        "df['NOSApatientsMOUTHpenis'] = pd.to_numeric(df['NOSApatientsMOUTHpenis'], errors='coerce')\n",
        "df['SUSPECTmouthcontactGENITALS'] = pd.to_numeric(df['SUSPECTmouthcontactGENITALS'], errors='coerce')\n",
        "df['SUSPECTmouthcontactBREASTS'] = pd.to_numeric(df['SUSPECTmouthcontactBREASTS'], errors='coerce')\n",
        "df['SUSPECTmouthcontactOTHER'] = pd.to_numeric(df['SUSPECTmouthcontactOTHER'], errors='coerce')\n",
        "df['NOSApatientsVAGINAfingerhand'] = pd.to_numeric(df['NOSApatientsVAGINAfingerhand'], errors='coerce')\n",
        "df['SuspectactionsSTRANGLEDCHOKED'] = pd.to_numeric(df['SuspectactionsSTRANGLEDCHOKED'], errors='coerce')\n",
        "df['SuspectactionsPHYSICALBLOWS'] = pd.to_numeric(df['SuspectactionsPHYSICALBLOWS'], errors='coerce')\n",
        "df['SuspectactionsWEAPON'] = pd.to_numeric(df['SuspectactionsWEAPON'], errors='coerce')\n",
        "df['Genitalinjury'] = pd.to_numeric(df['Genitalinjury'], errors='coerce')\n",
        "df['Physicalinjury'] = pd.to_numeric(df['Physicalinjury'], errors='coerce')\n",
        "df['NumberAssaultiveActs'] = pd.to_numeric(df['NumberAssaultiveActs'], errors='coerce')"
      ],
      "execution_count": null,
      "outputs": []
    },
    {
      "cell_type": "code",
      "metadata": {
        "id": "rXnk2irvN03k"
      },
      "source": [
        "df['Site'] = pd.to_numeric(df['Site'], errors='coerce')"
      ],
      "execution_count": null,
      "outputs": []
    },
    {
      "cell_type": "code",
      "metadata": {
        "id": "SmTEchDBPoxG"
      },
      "source": [
        "df['YearKitCollected'] = pd.to_numeric(df['YearKitCollected'], errors='coerce')"
      ],
      "execution_count": null,
      "outputs": []
    },
    {
      "cell_type": "code",
      "metadata": {
        "id": "t37ah7juQgkJ"
      },
      "source": [
        "df['KITbroughtTOcrimelab'] = pd.to_numeric(df['KITbroughtTOcrimelab'], errors='coerce')"
      ],
      "execution_count": null,
      "outputs": []
    },
    {
      "cell_type": "code",
      "metadata": {
        "id": "csswliu2RtGq"
      },
      "source": [
        "df['UnderAge18'] = pd.to_numeric(df['UnderAge18'], errors='coerce')"
      ],
      "execution_count": null,
      "outputs": []
    },
    {
      "cell_type": "code",
      "metadata": {
        "id": "N-RhsJHLqS7B"
      },
      "source": [
        "df['Race'] = pd.to_numeric(df['Race'], errors='coerce')"
      ],
      "execution_count": null,
      "outputs": []
    },
    {
      "cell_type": "code",
      "metadata": {
        "id": "lHCsO_rIrhGo"
      },
      "source": [
        "df['MultipleSuspects'] = pd.to_numeric(df['MultipleSuspects'], errors='coerce')"
      ],
      "execution_count": null,
      "outputs": []
    },
    {
      "cell_type": "code",
      "metadata": {
        "id": "5sZbwKF0sljc"
      },
      "source": [
        "df['SuspectactionsGRABBEDHELD'] = pd.to_numeric(df['SuspectactionsGRABBEDHELD'], errors='coerce')"
      ],
      "execution_count": null,
      "outputs": []
    },
    {
      "cell_type": "code",
      "source": [
        "# df2=df.replace({'MemoryLoss':{2:.5}, \n",
        "# 'Sexualcontactwithin120hours':{2:.5}, \n",
        "# 'Ejaculation':{2:.5}, \n",
        "# 'CONDOMuse':{2:.5},\n",
        "# 'PostassaultBATHED':{2:.5},\n",
        "# 'NOSApatientsVAGINApenis':{2:.5},\n",
        "# 'NOSApatientsANUSpenis':{2:.5},\n",
        "# 'NOSApatientsMOUTHpenis':{2:.5}, \n",
        "# 'SUSPECTmouthcontactGENITALS':{2:.5}, \n",
        "# 'SUSPECTmouthcontactBREASTS':{2:.5},\n",
        "# 'SUSPECTmouthcontactOTHER':{2:.5},\n",
        "# 'NOSApatientsVAGINAfingerhand':{2:.5}, \n",
        "# 'SuspectactionsSTRANGLEDCHOKED':{2:.5},\n",
        "# 'SuspectactionsPHYSICALBLOWS':{2:.5}, \n",
        "# 'SuspectactionsWEAPON':{2:.5},\n",
        "# 'Genitalinjury':{2:.5}, \n",
        "# 'Physicalinjury':{2:.5}})"
      ],
      "metadata": {
        "id": "o5lP32kDNGju"
      },
      "execution_count": null,
      "outputs": []
    },
    {
      "cell_type": "code",
      "source": [
        "# I think this box needs to be deleted. From what I have done on my own, the imputation is not doing anything. It is the drop.na() that is making/breaking the models\n",
        "df2=df.replace({'MemoryLoss':{2:np.nan}, \n",
        "'Sexualcontactwithin120hours':{2:np.nan}, \n",
        "'Ejaculation':{2:np.nan}, \n",
        "'CONDOMuse':{2:np.nan},\n",
        "'PostassaultBATHED':{2:np.nan},\n",
        "'NOSApatientsVAGINApenis':{2:np.nan},\n",
        "'NOSApatientsANUSpenis':{2:np.nan},\n",
        "'NOSApatientsMOUTHpenis':{2:np.nan}, \n",
        "'SUSPECTmouthcontactGENITALS':{2:np.nan}, \n",
        "'SUSPECTmouthcontactBREASTS':{2:np.nan},\n",
        "'SUSPECTmouthcontactOTHER':{2:np.nan},\n",
        "'NOSApatientsVAGINAfingerhand':{2:np.nan}, \n",
        "'SuspectactionsSTRANGLEDCHOKED':{2:np.nan},\n",
        "'SuspectactionsPHYSICALBLOWS':{2:np.nan}, \n",
        "'SuspectactionsWEAPON':{2:np.nan},\n",
        "'Genitalinjury':{2:np.nan}, \n",
        "'Physicalinjury':{2:np.nan}})"
      ],
      "metadata": {
        "id": "ArWpGojuBa2-"
      },
      "execution_count": null,
      "outputs": []
    },
    {
      "cell_type": "code",
      "source": [
        "from sklearn.experimental import enable_iterative_imputer\n",
        "from sklearn.impute import IterativeImputer\n",
        "imp = IterativeImputer(max_iter=10, random_state=0)\n",
        "imp.fit(df2[['CODISNDISeligibleProfile', \n",
        "\"timeBetweenAssaultAndExam\", \n",
        "\"ageOfVictim\"               ,\n",
        "\"MemoryLoss\",                        \n",
        "#\"MulitipleSuspectNumber\" ,          \n",
        "\"Sexualcontactwithin120hours\"       ,\n",
        "\"Ejaculation\"                       ,\n",
        "\"CONDOMuse\"                        ,\n",
        "\"PostassaultBATHED\"                ,\n",
        "\"NOSApatientsVAGINApenis\"           ,\n",
        "\"NOSApatientsANUSpenis\"            ,\n",
        "\"NOSApatientsMOUTHpenis\"           ,\n",
        "\"SUSPECTmouthcontactGENITALS\"      ,\n",
        "\"SUSPECTmouthcontactBREASTS\"        ,\n",
        "\"SUSPECTmouthcontactOTHER\"          ,\n",
        "\"NOSApatientsVAGINAfingerhand\"     ,\n",
        "\"SuspectactionsSTRANGLEDCHOKED\"     ,\n",
        "\"SuspectactionsPHYSICALBLOWS\"      ,\n",
        "\"SuspectactionsWEAPON\"              ,\n",
        "\"Genitalinjury\"                     ,\n",
        "\"Physicalinjury\"                   ,\n",
        "\"NumberAssaultiveActs\"       ]])"
      ],
      "metadata": {
        "colab": {
          "base_uri": "https://localhost:8080/"
        },
        "id": "6EJB77EEsARb",
        "outputId": "e0781186-b053-4f6e-a085-513783bd6164"
      },
      "execution_count": null,
      "outputs": [
        {
          "output_type": "stream",
          "name": "stderr",
          "text": [
            "/usr/local/lib/python3.7/dist-packages/sklearn/impute/_iterative.py:701: ConvergenceWarning: [IterativeImputer] Early stopping criterion not reached.\n",
            "  ConvergenceWarning,\n"
          ]
        },
        {
          "output_type": "execute_result",
          "data": {
            "text/plain": [
              "IterativeImputer(random_state=0)"
            ]
          },
          "metadata": {},
          "execution_count": 27
        }
      ]
    },
    {
      "cell_type": "code",
      "source": [
        "dfi=np.round(imp.transform(df2[['CODISNDISeligibleProfile', \n",
        "\"timeBetweenAssaultAndExam\", \n",
        "\"ageOfVictim\"               ,\n",
        "\"MemoryLoss\",                        \n",
        "#\"MulitipleSuspectNumber\" ,          \n",
        "\"Sexualcontactwithin120hours\"       ,\n",
        "\"Ejaculation\"                       ,\n",
        "\"CONDOMuse\"                        ,\n",
        "\"PostassaultBATHED\"                ,\n",
        "\"NOSApatientsVAGINApenis\"           ,\n",
        "\"NOSApatientsANUSpenis\"            ,\n",
        "\"NOSApatientsMOUTHpenis\"           ,\n",
        "\"SUSPECTmouthcontactGENITALS\"      ,\n",
        "\"SUSPECTmouthcontactBREASTS\"        ,\n",
        "\"SUSPECTmouthcontactOTHER\"          ,\n",
        "\"NOSApatientsVAGINAfingerhand\"     ,\n",
        "\"SuspectactionsSTRANGLEDCHOKED\"     ,\n",
        "\"SuspectactionsPHYSICALBLOWS\"      ,\n",
        "\"SuspectactionsWEAPON\"              ,\n",
        "\"Genitalinjury\"                     ,\n",
        "\"Physicalinjury\"                   ,\n",
        "\"NumberAssaultiveActs\"       ]]))\n",
        "\n",
        "dfi2 = pd.DataFrame(dfi, columns = ['CODISNDISeligibleProfile', \n",
        "\"timeBetweenAssaultAndExam\", \n",
        "\"ageOfVictim\"               ,\n",
        "\"MemoryLoss\",                        \n",
        "#\"MulitipleSuspectNumber\" ,          \n",
        "\"Sexualcontactwithin120hours\"       ,\n",
        "\"Ejaculation\"                       ,\n",
        "\"CONDOMuse\"                        ,\n",
        "\"PostassaultBATHED\"                ,\n",
        "\"NOSApatientsVAGINApenis\"           ,\n",
        "\"NOSApatientsANUSpenis\"            ,\n",
        "\"NOSApatientsMOUTHpenis\"           ,\n",
        "\"SUSPECTmouthcontactGENITALS\"      ,\n",
        "\"SUSPECTmouthcontactBREASTS\"        ,\n",
        "\"SUSPECTmouthcontactOTHER\"          ,\n",
        "\"NOSApatientsVAGINAfingerhand\"     ,\n",
        "\"SuspectactionsSTRANGLEDCHOKED\"     ,\n",
        "\"SuspectactionsPHYSICALBLOWS\"      ,\n",
        "\"SuspectactionsWEAPON\"              ,\n",
        "\"Genitalinjury\"                     ,\n",
        "\"Physicalinjury\"                   ,\n",
        "\"NumberAssaultiveActs\"       ])"
      ],
      "metadata": {
        "id": "WD0uQxGQ6rdl"
      },
      "execution_count": null,
      "outputs": []
    },
    {
      "cell_type": "code",
      "source": [
        "df3=dfi2.replace({'NOSApatientsVAGINApenis':{3:np.nan},\n",
        "    'NOSApatientsANUSpenis':{3:np.nan},\n",
        "    'NOSApatientsMOUTHpenis':{3:np.nan},\n",
        "    'NOSApatientsVAGINAfingerhand':{3:np.nan},\n",
        "})"
      ],
      "metadata": {
        "id": "NqzDYYH8-Bm9"
      },
      "execution_count": null,
      "outputs": []
    },
    {
      "cell_type": "code",
      "source": [
        "sel_df = df3[['CODISNDISeligibleProfile', \n",
        "\"timeBetweenAssaultAndExam\", \n",
        "\"ageOfVictim\"               ,\n",
        "\"MemoryLoss\",                        \n",
        "#\"MulitipleSuspectNumber\" ,          \n",
        "\"Sexualcontactwithin120hours\"       ,\n",
        "\"Ejaculation\"                       ,\n",
        "\"CONDOMuse\"                        ,\n",
        "\"PostassaultBATHED\"                ,\n",
        "\"NOSApatientsVAGINApenis\"           ,\n",
        "\"NOSApatientsANUSpenis\"            ,\n",
        "\"NOSApatientsMOUTHpenis\"           ,\n",
        "\"SUSPECTmouthcontactGENITALS\"      ,\n",
        "\"SUSPECTmouthcontactBREASTS\"        ,\n",
        "\"SUSPECTmouthcontactOTHER\"          ,\n",
        "\"NOSApatientsVAGINAfingerhand\"     ,\n",
        "\"SuspectactionsSTRANGLEDCHOKED\"     ,\n",
        "\"SuspectactionsPHYSICALBLOWS\"      ,\n",
        "\"SuspectactionsWEAPON\"              ,\n",
        "\"Genitalinjury\"                     ,\n",
        "\"Physicalinjury\"                   ,\n",
        "\"NumberAssaultiveActs\"       ]]"
      ],
      "metadata": {
        "id": "uVOMD2Sv9pfs"
      },
      "execution_count": null,
      "outputs": []
    },
    {
      "cell_type": "code",
      "source": [
        "new_df = sel_df.dropna()"
      ],
      "metadata": {
        "id": "lr4judVs79fp"
      },
      "execution_count": null,
      "outputs": []
    },
    {
      "cell_type": "code",
      "source": [
        "len(new_df)"
      ],
      "metadata": {
        "colab": {
          "base_uri": "https://localhost:8080/"
        },
        "id": "-IGe9ISn8Zxq",
        "outputId": "c04c9182-2319-4eb2-dcae-60cd2919cd23"
      },
      "execution_count": null,
      "outputs": [
        {
          "output_type": "execute_result",
          "data": {
            "text/plain": [
              "4401"
            ]
          },
          "metadata": {},
          "execution_count": 32
        }
      ]
    },
    {
      "cell_type": "code",
      "source": [
        "new_df.mean(axis='index')"
      ],
      "metadata": {
        "colab": {
          "base_uri": "https://localhost:8080/"
        },
        "id": "nm7xQJ05tS3u",
        "outputId": "fb9ba03f-d580-4416-ce66-7bf3f098e77d"
      },
      "execution_count": null,
      "outputs": [
        {
          "output_type": "execute_result",
          "data": {
            "text/plain": [
              "CODISNDISeligibleProfile         0.341513\n",
              "timeBetweenAssaultAndExam        0.766644\n",
              "ageOfVictim                      1.276301\n",
              "MemoryLoss                       0.330379\n",
              "Sexualcontactwithin120hours      0.289480\n",
              "Ejaculation                      0.826630\n",
              "CONDOMuse                        0.076346\n",
              "PostassaultBATHED                0.374006\n",
              "NOSApatientsVAGINApenis          0.888207\n",
              "NOSApatientsANUSpenis            0.362872\n",
              "NOSApatientsMOUTHpenis           0.368098\n",
              "SUSPECTmouthcontactGENITALS      0.335833\n",
              "SUSPECTmouthcontactBREASTS       0.471257\n",
              "SUSPECTmouthcontactOTHER         0.244263\n",
              "NOSApatientsVAGINAfingerhand     0.845262\n",
              "SuspectactionsSTRANGLEDCHOKED    0.153374\n",
              "SuspectactionsPHYSICALBLOWS      0.157237\n",
              "SuspectactionsWEAPON             0.094297\n",
              "Genitalinjury                    0.483526\n",
              "Physicalinjury                   0.722563\n",
              "NumberAssaultiveActs             2.459668\n",
              "dtype: float64"
            ]
          },
          "metadata": {},
          "execution_count": 33
        }
      ]
    },
    {
      "cell_type": "markdown",
      "source": [
        "#Train Test Split"
      ],
      "metadata": {
        "id": "FdKOttuIOX_N"
      }
    },
    {
      "cell_type": "code",
      "source": [
        "# Import train_test_split function\n",
        "from sklearn.model_selection import train_test_split"
      ],
      "metadata": {
        "id": "u9GVR1h4iBtG"
      },
      "execution_count": null,
      "outputs": []
    },
    {
      "cell_type": "code",
      "source": [
        "X=new_df[[\"timeBetweenAssaultAndExam\", \n",
        "\"ageOfVictim\"               ,\n",
        "\"MemoryLoss\",                        \n",
        "#\"MulitipleSuspectNumber\" ,          \n",
        "\"Sexualcontactwithin120hours\"       ,\n",
        "\"Ejaculation\"                       ,\n",
        "\"CONDOMuse\"                        ,\n",
        "\"PostassaultBATHED\"                ,\n",
        "\"NOSApatientsVAGINApenis\"           ,\n",
        "\"NOSApatientsANUSpenis\"            ,\n",
        "\"NOSApatientsMOUTHpenis\"           ,\n",
        "\"SUSPECTmouthcontactGENITALS\"      ,\n",
        "\"SUSPECTmouthcontactBREASTS\"        ,\n",
        "\"SUSPECTmouthcontactOTHER\"          ,\n",
        "\"NOSApatientsVAGINAfingerhand\"     ,\n",
        "\"SuspectactionsSTRANGLEDCHOKED\"     ,\n",
        "\"SuspectactionsPHYSICALBLOWS\"      ,\n",
        "\"SuspectactionsWEAPON\"              ,\n",
        "\"Genitalinjury\"                     ,\n",
        "\"Physicalinjury\"                   ,\n",
        "\"NumberAssaultiveActs\"]]  # Features\n",
        "y=new_df['CODISNDISeligibleProfile']  # Labels\n",
        "\n",
        "# Split dataset into training set and test set\n",
        "X_train, X_test, y_train, y_test = train_test_split(X, y, test_size=0.3) # 70% training and 30% test"
      ],
      "metadata": {
        "id": "VFxmuHH8WMsk"
      },
      "execution_count": null,
      "outputs": []
    },
    {
      "cell_type": "code",
      "source": [
        "# XEI=EIdf[['CODISNDISeligibleProfile','PainTreatment',\n",
        "# 'CurrentPhysicalmedprob',              \n",
        "# 'MedProbChronic',                 \n",
        "# 'MedProbInfection',                   \n",
        "# 'MedProbBlood',                        \n",
        "# 'MedProbCardiac',                      \n",
        "# 'MedProbEar',                         \n",
        "# 'MedProbEndocrine',                    \n",
        "# 'Age',                                 \n",
        "# 'UnderAge18',                         \n",
        "# 'Gender',                                \n",
        "# 'ExamDeclined',                       \n",
        "# 'Noninterview',                        \n",
        "# 'Timebetweenassaultandexaminhours',    \n",
        "# 'Race',                                \n",
        "# 'PriorHxofSAover14',                   \n",
        "# 'PriorHxofSAunder14',                 \n",
        "# 'SchoolName',                          \n",
        "# 'Military',                            \n",
        "# 'MilitaryBranchName',                  \n",
        "# 'Pain',                                \n",
        "# 'PainLevel']]\n",
        "# yEI=EIdf['CODISNDISeligibleProfile']  # Labels    \n",
        "\n",
        "# X_train, X_test, y_train, y_test = train_test_split(XEI, yEI, test_size=0.3) # 70% training and 30% test"
      ],
      "metadata": {
        "id": "vzpSR5AjgouQ"
      },
      "execution_count": null,
      "outputs": []
    },
    {
      "cell_type": "code",
      "source": [
        "#Import scikit-learn metrics module for accuracy calculation\n",
        "from sklearn import metrics"
      ],
      "metadata": {
        "id": "eWoLTgWXQHir"
      },
      "execution_count": null,
      "outputs": []
    },
    {
      "cell_type": "code",
      "source": [
        "new_df"
      ],
      "metadata": {
        "colab": {
          "base_uri": "https://localhost:8080/",
          "height": 488
        },
        "id": "5n3skpNUPh29",
        "outputId": "5a220279-3291-4032-ace0-58c21eba6be6"
      },
      "execution_count": null,
      "outputs": [
        {
          "output_type": "execute_result",
          "data": {
            "text/html": [
              "\n",
              "  <div id=\"df-9eb52e42-4b36-4743-83f1-62b3e7decd77\">\n",
              "    <div class=\"colab-df-container\">\n",
              "      <div>\n",
              "<style scoped>\n",
              "    .dataframe tbody tr th:only-of-type {\n",
              "        vertical-align: middle;\n",
              "    }\n",
              "\n",
              "    .dataframe tbody tr th {\n",
              "        vertical-align: top;\n",
              "    }\n",
              "\n",
              "    .dataframe thead th {\n",
              "        text-align: right;\n",
              "    }\n",
              "</style>\n",
              "<table border=\"1\" class=\"dataframe\">\n",
              "  <thead>\n",
              "    <tr style=\"text-align: right;\">\n",
              "      <th></th>\n",
              "      <th>CODISNDISeligibleProfile</th>\n",
              "      <th>timeBetweenAssaultAndExam</th>\n",
              "      <th>ageOfVictim</th>\n",
              "      <th>MemoryLoss</th>\n",
              "      <th>Sexualcontactwithin120hours</th>\n",
              "      <th>Ejaculation</th>\n",
              "      <th>CONDOMuse</th>\n",
              "      <th>PostassaultBATHED</th>\n",
              "      <th>NOSApatientsVAGINApenis</th>\n",
              "      <th>NOSApatientsANUSpenis</th>\n",
              "      <th>NOSApatientsMOUTHpenis</th>\n",
              "      <th>SUSPECTmouthcontactGENITALS</th>\n",
              "      <th>SUSPECTmouthcontactBREASTS</th>\n",
              "      <th>SUSPECTmouthcontactOTHER</th>\n",
              "      <th>NOSApatientsVAGINAfingerhand</th>\n",
              "      <th>SuspectactionsSTRANGLEDCHOKED</th>\n",
              "      <th>SuspectactionsPHYSICALBLOWS</th>\n",
              "      <th>SuspectactionsWEAPON</th>\n",
              "      <th>Genitalinjury</th>\n",
              "      <th>Physicalinjury</th>\n",
              "      <th>NumberAssaultiveActs</th>\n",
              "    </tr>\n",
              "  </thead>\n",
              "  <tbody>\n",
              "    <tr>\n",
              "      <th>0</th>\n",
              "      <td>1.0</td>\n",
              "      <td>2.0</td>\n",
              "      <td>0.0</td>\n",
              "      <td>0.0</td>\n",
              "      <td>0.0</td>\n",
              "      <td>1.0</td>\n",
              "      <td>0.0</td>\n",
              "      <td>1.0</td>\n",
              "      <td>1.0</td>\n",
              "      <td>0.0</td>\n",
              "      <td>1.0</td>\n",
              "      <td>1.0</td>\n",
              "      <td>1.0</td>\n",
              "      <td>1.0</td>\n",
              "      <td>1.0</td>\n",
              "      <td>0.0</td>\n",
              "      <td>0.0</td>\n",
              "      <td>0.0</td>\n",
              "      <td>1.0</td>\n",
              "      <td>1.0</td>\n",
              "      <td>3.0</td>\n",
              "    </tr>\n",
              "    <tr>\n",
              "      <th>1</th>\n",
              "      <td>0.0</td>\n",
              "      <td>0.0</td>\n",
              "      <td>1.0</td>\n",
              "      <td>0.0</td>\n",
              "      <td>0.0</td>\n",
              "      <td>1.0</td>\n",
              "      <td>0.0</td>\n",
              "      <td>0.0</td>\n",
              "      <td>1.0</td>\n",
              "      <td>0.0</td>\n",
              "      <td>0.0</td>\n",
              "      <td>0.0</td>\n",
              "      <td>1.0</td>\n",
              "      <td>1.0</td>\n",
              "      <td>1.0</td>\n",
              "      <td>1.0</td>\n",
              "      <td>1.0</td>\n",
              "      <td>0.0</td>\n",
              "      <td>0.0</td>\n",
              "      <td>1.0</td>\n",
              "      <td>1.0</td>\n",
              "    </tr>\n",
              "    <tr>\n",
              "      <th>2</th>\n",
              "      <td>1.0</td>\n",
              "      <td>0.0</td>\n",
              "      <td>1.0</td>\n",
              "      <td>0.0</td>\n",
              "      <td>0.0</td>\n",
              "      <td>1.0</td>\n",
              "      <td>0.0</td>\n",
              "      <td>0.0</td>\n",
              "      <td>1.0</td>\n",
              "      <td>0.0</td>\n",
              "      <td>1.0</td>\n",
              "      <td>1.0</td>\n",
              "      <td>1.0</td>\n",
              "      <td>0.0</td>\n",
              "      <td>1.0</td>\n",
              "      <td>0.0</td>\n",
              "      <td>0.0</td>\n",
              "      <td>0.0</td>\n",
              "      <td>1.0</td>\n",
              "      <td>1.0</td>\n",
              "      <td>3.0</td>\n",
              "    </tr>\n",
              "    <tr>\n",
              "      <th>3</th>\n",
              "      <td>1.0</td>\n",
              "      <td>0.0</td>\n",
              "      <td>0.0</td>\n",
              "      <td>0.0</td>\n",
              "      <td>0.0</td>\n",
              "      <td>1.0</td>\n",
              "      <td>0.0</td>\n",
              "      <td>0.0</td>\n",
              "      <td>1.0</td>\n",
              "      <td>0.0</td>\n",
              "      <td>0.0</td>\n",
              "      <td>1.0</td>\n",
              "      <td>1.0</td>\n",
              "      <td>1.0</td>\n",
              "      <td>1.0</td>\n",
              "      <td>0.0</td>\n",
              "      <td>0.0</td>\n",
              "      <td>0.0</td>\n",
              "      <td>1.0</td>\n",
              "      <td>1.0</td>\n",
              "      <td>3.0</td>\n",
              "    </tr>\n",
              "    <tr>\n",
              "      <th>4</th>\n",
              "      <td>0.0</td>\n",
              "      <td>1.0</td>\n",
              "      <td>0.0</td>\n",
              "      <td>1.0</td>\n",
              "      <td>0.0</td>\n",
              "      <td>1.0</td>\n",
              "      <td>0.0</td>\n",
              "      <td>1.0</td>\n",
              "      <td>1.0</td>\n",
              "      <td>0.0</td>\n",
              "      <td>0.0</td>\n",
              "      <td>0.0</td>\n",
              "      <td>0.0</td>\n",
              "      <td>0.0</td>\n",
              "      <td>0.0</td>\n",
              "      <td>0.0</td>\n",
              "      <td>0.0</td>\n",
              "      <td>0.0</td>\n",
              "      <td>0.0</td>\n",
              "      <td>1.0</td>\n",
              "      <td>1.0</td>\n",
              "    </tr>\n",
              "    <tr>\n",
              "      <th>...</th>\n",
              "      <td>...</td>\n",
              "      <td>...</td>\n",
              "      <td>...</td>\n",
              "      <td>...</td>\n",
              "      <td>...</td>\n",
              "      <td>...</td>\n",
              "      <td>...</td>\n",
              "      <td>...</td>\n",
              "      <td>...</td>\n",
              "      <td>...</td>\n",
              "      <td>...</td>\n",
              "      <td>...</td>\n",
              "      <td>...</td>\n",
              "      <td>...</td>\n",
              "      <td>...</td>\n",
              "      <td>...</td>\n",
              "      <td>...</td>\n",
              "      <td>...</td>\n",
              "      <td>...</td>\n",
              "      <td>...</td>\n",
              "      <td>...</td>\n",
              "    </tr>\n",
              "    <tr>\n",
              "      <th>4398</th>\n",
              "      <td>0.0</td>\n",
              "      <td>2.0</td>\n",
              "      <td>6.0</td>\n",
              "      <td>0.0</td>\n",
              "      <td>0.0</td>\n",
              "      <td>1.0</td>\n",
              "      <td>0.0</td>\n",
              "      <td>1.0</td>\n",
              "      <td>1.0</td>\n",
              "      <td>0.0</td>\n",
              "      <td>1.0</td>\n",
              "      <td>1.0</td>\n",
              "      <td>1.0</td>\n",
              "      <td>0.0</td>\n",
              "      <td>1.0</td>\n",
              "      <td>0.0</td>\n",
              "      <td>1.0</td>\n",
              "      <td>0.0</td>\n",
              "      <td>1.0</td>\n",
              "      <td>1.0</td>\n",
              "      <td>3.0</td>\n",
              "    </tr>\n",
              "    <tr>\n",
              "      <th>4399</th>\n",
              "      <td>0.0</td>\n",
              "      <td>0.0</td>\n",
              "      <td>2.0</td>\n",
              "      <td>1.0</td>\n",
              "      <td>1.0</td>\n",
              "      <td>1.0</td>\n",
              "      <td>0.0</td>\n",
              "      <td>0.0</td>\n",
              "      <td>1.0</td>\n",
              "      <td>0.0</td>\n",
              "      <td>0.0</td>\n",
              "      <td>0.0</td>\n",
              "      <td>0.0</td>\n",
              "      <td>0.0</td>\n",
              "      <td>1.0</td>\n",
              "      <td>1.0</td>\n",
              "      <td>1.0</td>\n",
              "      <td>0.0</td>\n",
              "      <td>1.0</td>\n",
              "      <td>1.0</td>\n",
              "      <td>2.0</td>\n",
              "    </tr>\n",
              "    <tr>\n",
              "      <th>4400</th>\n",
              "      <td>0.0</td>\n",
              "      <td>0.0</td>\n",
              "      <td>0.0</td>\n",
              "      <td>0.0</td>\n",
              "      <td>1.0</td>\n",
              "      <td>1.0</td>\n",
              "      <td>0.0</td>\n",
              "      <td>0.0</td>\n",
              "      <td>1.0</td>\n",
              "      <td>0.0</td>\n",
              "      <td>0.0</td>\n",
              "      <td>0.0</td>\n",
              "      <td>1.0</td>\n",
              "      <td>0.0</td>\n",
              "      <td>1.0</td>\n",
              "      <td>0.0</td>\n",
              "      <td>0.0</td>\n",
              "      <td>0.0</td>\n",
              "      <td>0.0</td>\n",
              "      <td>0.0</td>\n",
              "      <td>1.0</td>\n",
              "    </tr>\n",
              "    <tr>\n",
              "      <th>4401</th>\n",
              "      <td>0.0</td>\n",
              "      <td>0.0</td>\n",
              "      <td>1.0</td>\n",
              "      <td>1.0</td>\n",
              "      <td>1.0</td>\n",
              "      <td>1.0</td>\n",
              "      <td>0.0</td>\n",
              "      <td>0.0</td>\n",
              "      <td>1.0</td>\n",
              "      <td>1.0</td>\n",
              "      <td>1.0</td>\n",
              "      <td>0.0</td>\n",
              "      <td>0.0</td>\n",
              "      <td>0.0</td>\n",
              "      <td>1.0</td>\n",
              "      <td>0.0</td>\n",
              "      <td>0.0</td>\n",
              "      <td>0.0</td>\n",
              "      <td>1.0</td>\n",
              "      <td>0.0</td>\n",
              "      <td>5.0</td>\n",
              "    </tr>\n",
              "    <tr>\n",
              "      <th>4402</th>\n",
              "      <td>0.0</td>\n",
              "      <td>5.0</td>\n",
              "      <td>2.0</td>\n",
              "      <td>1.0</td>\n",
              "      <td>1.0</td>\n",
              "      <td>1.0</td>\n",
              "      <td>0.0</td>\n",
              "      <td>1.0</td>\n",
              "      <td>1.0</td>\n",
              "      <td>1.0</td>\n",
              "      <td>0.0</td>\n",
              "      <td>0.0</td>\n",
              "      <td>0.0</td>\n",
              "      <td>0.0</td>\n",
              "      <td>1.0</td>\n",
              "      <td>0.0</td>\n",
              "      <td>1.0</td>\n",
              "      <td>1.0</td>\n",
              "      <td>0.0</td>\n",
              "      <td>0.0</td>\n",
              "      <td>5.0</td>\n",
              "    </tr>\n",
              "  </tbody>\n",
              "</table>\n",
              "<p>4401 rows × 21 columns</p>\n",
              "</div>\n",
              "      <button class=\"colab-df-convert\" onclick=\"convertToInteractive('df-9eb52e42-4b36-4743-83f1-62b3e7decd77')\"\n",
              "              title=\"Convert this dataframe to an interactive table.\"\n",
              "              style=\"display:none;\">\n",
              "        \n",
              "  <svg xmlns=\"http://www.w3.org/2000/svg\" height=\"24px\"viewBox=\"0 0 24 24\"\n",
              "       width=\"24px\">\n",
              "    <path d=\"M0 0h24v24H0V0z\" fill=\"none\"/>\n",
              "    <path d=\"M18.56 5.44l.94 2.06.94-2.06 2.06-.94-2.06-.94-.94-2.06-.94 2.06-2.06.94zm-11 1L8.5 8.5l.94-2.06 2.06-.94-2.06-.94L8.5 2.5l-.94 2.06-2.06.94zm10 10l.94 2.06.94-2.06 2.06-.94-2.06-.94-.94-2.06-.94 2.06-2.06.94z\"/><path d=\"M17.41 7.96l-1.37-1.37c-.4-.4-.92-.59-1.43-.59-.52 0-1.04.2-1.43.59L10.3 9.45l-7.72 7.72c-.78.78-.78 2.05 0 2.83L4 21.41c.39.39.9.59 1.41.59.51 0 1.02-.2 1.41-.59l7.78-7.78 2.81-2.81c.8-.78.8-2.07 0-2.86zM5.41 20L4 18.59l7.72-7.72 1.47 1.35L5.41 20z\"/>\n",
              "  </svg>\n",
              "      </button>\n",
              "      \n",
              "  <style>\n",
              "    .colab-df-container {\n",
              "      display:flex;\n",
              "      flex-wrap:wrap;\n",
              "      gap: 12px;\n",
              "    }\n",
              "\n",
              "    .colab-df-convert {\n",
              "      background-color: #E8F0FE;\n",
              "      border: none;\n",
              "      border-radius: 50%;\n",
              "      cursor: pointer;\n",
              "      display: none;\n",
              "      fill: #1967D2;\n",
              "      height: 32px;\n",
              "      padding: 0 0 0 0;\n",
              "      width: 32px;\n",
              "    }\n",
              "\n",
              "    .colab-df-convert:hover {\n",
              "      background-color: #E2EBFA;\n",
              "      box-shadow: 0px 1px 2px rgba(60, 64, 67, 0.3), 0px 1px 3px 1px rgba(60, 64, 67, 0.15);\n",
              "      fill: #174EA6;\n",
              "    }\n",
              "\n",
              "    [theme=dark] .colab-df-convert {\n",
              "      background-color: #3B4455;\n",
              "      fill: #D2E3FC;\n",
              "    }\n",
              "\n",
              "    [theme=dark] .colab-df-convert:hover {\n",
              "      background-color: #434B5C;\n",
              "      box-shadow: 0px 1px 3px 1px rgba(0, 0, 0, 0.15);\n",
              "      filter: drop-shadow(0px 1px 2px rgba(0, 0, 0, 0.3));\n",
              "      fill: #FFFFFF;\n",
              "    }\n",
              "  </style>\n",
              "\n",
              "      <script>\n",
              "        const buttonEl =\n",
              "          document.querySelector('#df-9eb52e42-4b36-4743-83f1-62b3e7decd77 button.colab-df-convert');\n",
              "        buttonEl.style.display =\n",
              "          google.colab.kernel.accessAllowed ? 'block' : 'none';\n",
              "\n",
              "        async function convertToInteractive(key) {\n",
              "          const element = document.querySelector('#df-9eb52e42-4b36-4743-83f1-62b3e7decd77');\n",
              "          const dataTable =\n",
              "            await google.colab.kernel.invokeFunction('convertToInteractive',\n",
              "                                                     [key], {});\n",
              "          if (!dataTable) return;\n",
              "\n",
              "          const docLinkHtml = 'Like what you see? Visit the ' +\n",
              "            '<a target=\"_blank\" href=https://colab.research.google.com/notebooks/data_table.ipynb>data table notebook</a>'\n",
              "            + ' to learn more about interactive tables.';\n",
              "          element.innerHTML = '';\n",
              "          dataTable['output_type'] = 'display_data';\n",
              "          await google.colab.output.renderOutput(dataTable, element);\n",
              "          const docLink = document.createElement('div');\n",
              "          docLink.innerHTML = docLinkHtml;\n",
              "          element.appendChild(docLink);\n",
              "        }\n",
              "      </script>\n",
              "    </div>\n",
              "  </div>\n",
              "  "
            ],
            "text/plain": [
              "      CODISNDISeligibleProfile  ...  NumberAssaultiveActs\n",
              "0                          1.0  ...                   3.0\n",
              "1                          0.0  ...                   1.0\n",
              "2                          1.0  ...                   3.0\n",
              "3                          1.0  ...                   3.0\n",
              "4                          0.0  ...                   1.0\n",
              "...                        ...  ...                   ...\n",
              "4398                       0.0  ...                   3.0\n",
              "4399                       0.0  ...                   2.0\n",
              "4400                       0.0  ...                   1.0\n",
              "4401                       0.0  ...                   5.0\n",
              "4402                       0.0  ...                   5.0\n",
              "\n",
              "[4401 rows x 21 columns]"
            ]
          },
          "metadata": {},
          "execution_count": 38
        }
      ]
    },
    {
      "cell_type": "markdown",
      "metadata": {
        "id": "TuCTYVzhJ4c5"
      },
      "source": [
        "#Logistic Model"
      ]
    },
    {
      "cell_type": "markdown",
      "metadata": {
        "id": "CsQa7h0qRkBo"
      },
      "source": [
        "Predict/Explain y (CODIS eligible profiles) as a function of X (all of the other variables that follow...time between assualt and examination, whether the swab was vaginal, etc. First we set up the equation, then we fit the model (mod.fit), then we print the results."
      ]
    },
    {
      "cell_type": "code",
      "metadata": {
        "id": "V5LG7hw3-Np6",
        "colab": {
          "base_uri": "https://localhost:8080/"
        },
        "outputId": "bc73274a-9886-4137-a738-a1460afed453"
      },
      "source": [
        "# first running a simple logistic regression\n",
        "# y, X = dmatrices('CODISNDISeligibleProfile ~ Gender + Age_cat', data=df, return_type='dataframe')\n",
        "# x is list of variables, y is predicted variable\n",
        "# set up log equation\n",
        "y_trainL, X_trainL = dmatrices('CODISNDISeligibleProfile ~ timeBetweenAssaultAndExam + ageOfVictim + MemoryLoss + Sexualcontactwithin120hours + Ejaculation + CONDOMuse + PostassaultBATHED + NOSApatientsVAGINApenis + NOSApatientsANUSpenis + NOSApatientsMOUTHpenis + SUSPECTmouthcontactGENITALS + SUSPECTmouthcontactBREASTS + SUSPECTmouthcontactOTHER + NOSApatientsVAGINAfingerhand + SuspectactionsSTRANGLEDCHOKED + SuspectactionsPHYSICALBLOWS + SuspectactionsWEAPON + Genitalinjury + Physicalinjury + NumberAssaultiveActs', data=df3, return_type='dataframe')\n",
        "\n",
        "mod = sm.Logit(y_trainL, X_trainL)    # Describe model\n",
        "res = mod.fit(method='bfgs')       # Fit model using standard method\n",
        "print(res.summary())\n"
      ],
      "execution_count": null,
      "outputs": [
        {
          "output_type": "stream",
          "name": "stdout",
          "text": [
            "Warning: Maximum number of iterations has been exceeded.\n",
            "         Current function value: 0.574920\n",
            "         Iterations: 35\n",
            "         Function evaluations: 37\n",
            "         Gradient evaluations: 37\n",
            "                              Logit Regression Results                              \n",
            "====================================================================================\n",
            "Dep. Variable:     CODISNDISeligibleProfile   No. Observations:                 4401\n",
            "Model:                                Logit   Df Residuals:                     4380\n",
            "Method:                                 MLE   Df Model:                           20\n",
            "Date:                      Tue, 11 Jan 2022   Pseudo R-squ.:                  0.1045\n",
            "Time:                              00:08:49   Log-Likelihood:                -2530.2\n",
            "converged:                            False   LL-Null:                       -2825.6\n",
            "Covariance Type:                  nonrobust   LLR p-value:                2.571e-112\n",
            "=================================================================================================\n",
            "                                    coef    std err          z      P>|z|      [0.025      0.975]\n",
            "-------------------------------------------------------------------------------------------------\n",
            "Intercept                        -0.9300      0.154     -6.029      0.000      -1.232      -0.628\n",
            "timeBetweenAssaultAndExam        -0.2282      0.035     -6.453      0.000      -0.298      -0.159\n",
            "ageOfVictim                      -0.1126      0.031     -3.637      0.000      -0.173      -0.052\n",
            "MemoryLoss                       -0.3582      0.086     -4.158      0.000      -0.527      -0.189\n",
            "Sexualcontactwithin120hours      -0.0143      0.076     -0.187      0.851      -0.164       0.135\n",
            "Ejaculation                       0.5602      0.120      4.654      0.000       0.324       0.796\n",
            "CONDOMuse                        -0.4742      0.131     -3.626      0.000      -0.731      -0.218\n",
            "PostassaultBATHED                -0.9168      0.083    -11.030      0.000      -1.080      -0.754\n",
            "NOSApatientsVAGINApenis           0.4442      0.147      3.013      0.003       0.155       0.733\n",
            "NOSApatientsANUSpenis            -0.0289      0.106     -0.273      0.785      -0.236       0.179\n",
            "NOSApatientsMOUTHpenis           -0.3277      0.094     -3.494      0.000      -0.512      -0.144\n",
            "SUSPECTmouthcontactGENITALS       0.1307      0.091      1.438      0.150      -0.047       0.309\n",
            "SUSPECTmouthcontactBREASTS        0.5040      0.080      6.289      0.000       0.347       0.661\n",
            "SUSPECTmouthcontactOTHER          0.3864      0.081      4.742      0.000       0.227       0.546\n",
            "NOSApatientsVAGINAfingerhand     -0.1115      0.099     -1.120      0.263      -0.306       0.084\n",
            "SuspectactionsSTRANGLEDCHOKED     0.3577      0.100      3.588      0.000       0.162       0.553\n",
            "SuspectactionsPHYSICALBLOWS      -0.3282      0.105     -3.125      0.002      -0.534      -0.122\n",
            "SuspectactionsWEAPON              0.2773      0.120      2.306      0.021       0.042       0.513\n",
            "Genitalinjury                     0.1338      0.071      1.892      0.059      -0.005       0.272\n",
            "Physicalinjury                    0.0504      0.083      0.610      0.542      -0.112       0.212\n",
            "NumberAssaultiveActs             -0.0647      0.044     -1.465      0.143      -0.151       0.022\n",
            "=================================================================================================\n"
          ]
        },
        {
          "output_type": "stream",
          "name": "stderr",
          "text": [
            "/usr/local/lib/python3.7/dist-packages/statsmodels/base/model.py:512: ConvergenceWarning: Maximum Likelihood optimization failed to converge. Check mle_retvals\n",
            "  \"Check mle_retvals\", ConvergenceWarning)\n"
          ]
        }
      ]
    },
    {
      "cell_type": "code",
      "source": [
        "from sklearn.linear_model import LogisticRegression\n",
        "clf = LogisticRegression(random_state=0).fit(X_train, y_train)\n",
        "#clf.predict(X[:2, :])\n",
        "#clf.predict_proba(X[:2, :])\n",
        "#clf.score(X_train, y_train)\n",
        "y_pred=clf.predict(X_test)\n",
        "print(\"Accuracy:\",metrics.accuracy_score(y_test, y_pred))"
      ],
      "metadata": {
        "id": "l0yHtX66PP7u",
        "colab": {
          "base_uri": "https://localhost:8080/"
        },
        "outputId": "d7f95f5a-274c-4855-a9d4-b9973522853c"
      },
      "execution_count": null,
      "outputs": [
        {
          "output_type": "stream",
          "name": "stdout",
          "text": [
            "Accuracy: 0.6866010598031794\n"
          ]
        }
      ]
    },
    {
      "cell_type": "markdown",
      "metadata": {
        "id": "vZyScFOzgN5y"
      },
      "source": [
        "##Support Vector Machine"
      ]
    },
    {
      "cell_type": "code",
      "metadata": {
        "id": "Pxs5dBvigOeT",
        "colab": {
          "base_uri": "https://localhost:8080/"
        },
        "outputId": "70f04af0-9d35-4bba-d054-3c5d0dbe14ad"
      },
      "source": [
        "from sklearn.pipeline import make_pipeline\n",
        "from sklearn.preprocessing import StandardScaler\n",
        "from sklearn.svm import SVC\n",
        "clf = make_pipeline(StandardScaler(), SVC(gamma='auto'))\n",
        "clf.fit(X, y)\n",
        "\n",
        "#Pipeline = (steps=[('standardscaler', StandardScaler()),\n",
        "#                ('svc', SVC(gamma='auto'))])\n",
        "\n",
        "#print(clf.predict([[-0.8, -1, -.6]]))\n",
        "y_pred=clf.predict(X_test)\n",
        "print(\"Accuracy:\",metrics.accuracy_score(y_test, y_pred))"
      ],
      "execution_count": null,
      "outputs": [
        {
          "output_type": "stream",
          "name": "stdout",
          "text": [
            "Accuracy: 0.7380772142316427\n"
          ]
        }
      ]
    },
    {
      "cell_type": "markdown",
      "metadata": {
        "id": "nm2C26KagSs2"
      },
      "source": [
        "##Multi-layer Perceptron"
      ]
    },
    {
      "cell_type": "code",
      "metadata": {
        "id": "umsTzENRgWDy",
        "colab": {
          "base_uri": "https://localhost:8080/"
        },
        "outputId": "446ad032-c0ab-4dee-c8c3-af272345ba63"
      },
      "source": [
        "from sklearn.neural_network import MLPClassifier\n",
        "from sklearn.datasets import make_classification\n",
        "#from sklearn.model_selection import train_test_split\n",
        "#X, y = make_classification(n_samples=100, random_state=1)\n",
        "#X_train, X_test, y_train, y_test = train_test_split(X, y, stratify=y,\n",
        "#                                                    random_state=1)\n",
        "clf = MLPClassifier(hidden_layer_sizes=(100,), random_state=1, max_iter=300).fit(X_train, y_train) #just one hidden layer; for 2, (100,100)\n",
        "y_predMLP=clf.predict(X_test)\n",
        "#clf.predict_proba(X_test[:1])\n",
        "#clf.predict(X_test)\n",
        "#clf.score(X_test, y_test)\n",
        "print(\"Accuracy:\",metrics.accuracy_score(y_test, y_predMLP))"
      ],
      "execution_count": null,
      "outputs": [
        {
          "output_type": "stream",
          "name": "stdout",
          "text": [
            "Accuracy: 0.6813020439061317\n"
          ]
        },
        {
          "output_type": "stream",
          "name": "stderr",
          "text": [
            "/usr/local/lib/python3.7/dist-packages/sklearn/neural_network/_multilayer_perceptron.py:696: ConvergenceWarning: Stochastic Optimizer: Maximum iterations (300) reached and the optimization hasn't converged yet.\n",
            "  ConvergenceWarning,\n"
          ]
        }
      ]
    },
    {
      "cell_type": "markdown",
      "metadata": {
        "id": "g6WsgANegIuo"
      },
      "source": [
        "##Random Forest"
      ]
    },
    {
      "cell_type": "markdown",
      "source": [
        "%https://www.datacamp.com/community/tutorials/random-forests-classifier-pythonRandomForestClassifier?"
      ],
      "metadata": {
        "id": "Apws6pP1DvlU"
      }
    },
    {
      "cell_type": "code",
      "source": [
        "#Import Random Forest Model\n",
        "from sklearn.ensemble import RandomForestClassifier\n",
        "\n",
        "#Create a Gaussian Classifier\n",
        "clf=RandomForestClassifier(n_estimators=100)\n",
        "\n",
        "#Train the model using the training sets y_pred=clf.predict(X_test)\n",
        "clf.fit(X_train,y_train)\n",
        "\n",
        "y_predRF=clf.predict(X_test)"
      ],
      "metadata": {
        "id": "Ktb48CCaWSr9"
      },
      "execution_count": null,
      "outputs": []
    },
    {
      "cell_type": "code",
      "source": [
        "# Model Accuracy, how often is the classifier correct?\n",
        "print(\"Accuracy:\",metrics.accuracy_score(y_test, y_predRF))"
      ],
      "metadata": {
        "id": "X0Annf6jWZZO",
        "colab": {
          "base_uri": "https://localhost:8080/"
        },
        "outputId": "bd7219a9-4a7c-446e-d9bc-8f52a0f4be23"
      },
      "execution_count": null,
      "outputs": [
        {
          "output_type": "stream",
          "name": "stdout",
          "text": [
            "Accuracy: 0.6532929598788796\n"
          ]
        }
      ]
    },
    {
      "cell_type": "code",
      "source": [
        "#clf.predict([[3, 5, 4, 2]])"
      ],
      "metadata": {
        "id": "lw5bbcuHWfKu"
      },
      "execution_count": null,
      "outputs": []
    },
    {
      "cell_type": "code",
      "source": [
        "from sklearn.ensemble import RandomForestClassifier\n",
        "\n",
        "#Create a Gaussian Classifier\n",
        "clf=RandomForestClassifier(n_estimators=100)\n",
        "\n",
        "#Train the model using the training sets y_pred=clf.predict(X_test)\n",
        "clf.fit(X_train,y_train)"
      ],
      "metadata": {
        "id": "_cP_Vl-MWmRU",
        "colab": {
          "base_uri": "https://localhost:8080/"
        },
        "outputId": "f8bf42a3-9e89-4ad1-9cf2-62cfcd69784b"
      },
      "execution_count": null,
      "outputs": [
        {
          "output_type": "execute_result",
          "data": {
            "text/plain": [
              "RandomForestClassifier()"
            ]
          },
          "metadata": {},
          "execution_count": 46
        }
      ]
    },
    {
      "cell_type": "code",
      "source": [
        "RandomForestClassifier(bootstrap=True, class_weight=None, criterion='gini',\n",
        "            max_depth=None, max_features='auto', max_leaf_nodes=None,\n",
        "            min_impurity_decrease=0.0,\n",
        "            min_samples_leaf=1, min_samples_split=2,\n",
        "            min_weight_fraction_leaf=0.0, n_estimators=100, n_jobs=1,\n",
        "            oob_score=False, random_state=None, verbose=0,\n",
        "            warm_start=False)"
      ],
      "metadata": {
        "id": "JeABdbkmWrZS",
        "colab": {
          "base_uri": "https://localhost:8080/"
        },
        "outputId": "0c3feb8c-bae7-4db4-977d-b3e345924051"
      },
      "execution_count": null,
      "outputs": [
        {
          "output_type": "execute_result",
          "data": {
            "text/plain": [
              "RandomForestClassifier(n_jobs=1)"
            ]
          },
          "metadata": {},
          "execution_count": 47
        }
      ]
    },
    {
      "cell_type": "code",
      "source": [
        "feature_imp = pd.Series(clf.feature_importances_,index=X.columns).sort_values(ascending=False)\n",
        "feature_imp"
      ],
      "metadata": {
        "id": "wqhtWWIOWu1A",
        "colab": {
          "base_uri": "https://localhost:8080/"
        },
        "outputId": "6e3079a3-6a2f-4b75-b23f-72052dd42f4b"
      },
      "execution_count": null,
      "outputs": [
        {
          "output_type": "execute_result",
          "data": {
            "text/plain": [
              "ageOfVictim                      0.143988\n",
              "NumberAssaultiveActs             0.098356\n",
              "timeBetweenAssaultAndExam        0.094395\n",
              "Genitalinjury                    0.060150\n",
              "Sexualcontactwithin120hours      0.059369\n",
              "PostassaultBATHED                0.055778\n",
              "Physicalinjury                   0.048902\n",
              "SUSPECTmouthcontactBREASTS       0.045343\n",
              "SUSPECTmouthcontactGENITALS      0.040624\n",
              "MemoryLoss                       0.040341\n",
              "SUSPECTmouthcontactOTHER         0.040052\n",
              "NOSApatientsMOUTHpenis           0.037045\n",
              "NOSApatientsVAGINAfingerhand     0.036803\n",
              "SuspectactionsPHYSICALBLOWS      0.035687\n",
              "SuspectactionsSTRANGLEDCHOKED    0.033222\n",
              "NOSApatientsANUSpenis            0.031886\n",
              "Ejaculation                      0.028485\n",
              "CONDOMuse                        0.026485\n",
              "SuspectactionsWEAPON             0.023967\n",
              "NOSApatientsVAGINApenis          0.019120\n",
              "dtype: float64"
            ]
          },
          "metadata": {},
          "execution_count": 48
        }
      ]
    },
    {
      "cell_type": "code",
      "source": [
        "import matplotlib.pyplot as plt\n",
        "import seaborn as sns\n",
        "%matplotlib inline\n",
        "# Creating a bar plot\n",
        "sns.barplot(x=feature_imp, y=feature_imp.index)\n",
        "# Add labels to your graph\n",
        "plt.xlabel('Feature Importance Score')\n",
        "plt.ylabel('Features')\n",
        "plt.title(\"Visualizing Important Features\")\n",
        "plt.legend()\n",
        "plt.show()"
      ],
      "metadata": {
        "id": "7tIitlUsW04H",
        "colab": {
          "base_uri": "https://localhost:8080/",
          "height": 312
        },
        "outputId": "bdd52f90-87cf-4f77-8794-00e2ae6660b4"
      },
      "execution_count": null,
      "outputs": [
        {
          "output_type": "stream",
          "name": "stderr",
          "text": [
            "No handles with labels found to put in legend.\n"
          ]
        },
        {
          "output_type": "display_data",
          "data": {
            "image/png": "[encoded data removed]",
            "text/plain": [
              "<Figure size 432x288 with 1 Axes>"
            ]
          },
          "metadata": {
            "needs_background": "light"
          }
        }
      ]
    },
    {
      "cell_type": "code",
      "source": [
        "X=new_df[['ageOfVictim', 'timeBetweenAssaultAndExam','NumberAssaultiveActs','PostassaultBATHED','SUSPECTmouthcontactBREASTS','timeBetweenAssaultAndExam','Genitalinjury','Sexualcontactwithin120hours']]  # Removed feature \"sepal length\"\n",
        "y=new_df['CODISNDISeligibleProfile']                                       \n",
        "# Split dataset into training set and test set\n",
        "X_train, X_test, y_train, y_test = train_test_split(X, y, test_size=0.70, random_state=5) # 70% training and 30% test"
      ],
      "metadata": {
        "id": "ptsxFaJ0W61S"
      },
      "execution_count": null,
      "outputs": []
    },
    {
      "cell_type": "code",
      "source": [
        "from sklearn.ensemble import RandomForestClassifier\n",
        "\n",
        "#Create a Gaussian Classifier\n",
        "clf=RandomForestClassifier(n_estimators=100)\n",
        "\n",
        "#Train the model using the training sets y_pred=clf.predict(X_test)\n",
        "clf.fit(X_train,y_train)\n",
        "\n",
        "# prediction on test set\n",
        "y_pred=clf.predict(X_test)\n",
        "\n",
        "#Import scikit-learn metrics module for accuracy calculation\n",
        "from sklearn import metrics\n",
        "# Model Accuracy, how often is the classifier correct?\n",
        "print(\"Accuracy:\",metrics.accuracy_score(y_test, y_pred))"
      ],
      "metadata": {
        "id": "ELJneJB-W-c4",
        "colab": {
          "base_uri": "https://localhost:8080/"
        },
        "outputId": "b846542c-0649-478f-8bbb-e2329fb02fb6"
      },
      "execution_count": null,
      "outputs": [
        {
          "output_type": "stream",
          "name": "stdout",
          "text": [
            "Accuracy: 0.6416747809152873\n"
          ]
        }
      ]
    }
  ]
}
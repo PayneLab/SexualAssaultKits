{
  "nbformat": 4,
  "nbformat_minor": 0,
  "metadata": {
    "colab": {
      "name": "SAKFeatureAssociationWithOtherFeatures.ipynb",
      "provenance": [],
      "collapsed_sections": [
        "BhXFzpWjj4_Z"
      ],
      "include_colab_link": true
    },
    "kernelspec": {
      "name": "python3",
      "display_name": "Python 3"
    }
  },
  "cells": [
    {
      "cell_type": "markdown",
      "metadata": {
        "id": "view-in-github",
        "colab_type": "text"
      },
      "source": [
        "<a href=\"https://colab.research.google.com/github/devorahst/Test/blob/main/SAKFeatureAssociationWithOtherFeatures.ipynb\" target=\"_parent\"><img src=\"https://colab.research.google.com/assets/colab-badge.svg\" alt=\"Open In Colab\"/></a>"
      ]
    },
    {
      "cell_type": "markdown",
      "metadata": {
        "id": "gblZm8zL1xcu"
      },
      "source": [
        "#**Feature Association With Other Features**\n",
        "This script compares the association of a given feature within the SAK dataset using Chi-Square Test of Independence, ANOVA, and Pearson R Testing. It obtains a p-value for every other feature in the dataset using one of these methods and outputs a table of all significantly associated feature to the given feature. "
      ]
    },
    {
      "cell_type": "markdown",
      "metadata": {
        "id": "mtiRIf0qw6Z1"
      },
      "source": [
        "#Find Association of Other Features to Selected Feature\n",
        "In the code block below, edit the value given to the variable \"feature\" to equal the desired feature (e.g. feature = 'Gender')."
      ]
    },
    {
      "cell_type": "code",
      "metadata": {
        "id": "rx5kXZT2ki6u"
      },
      "source": [
        "feature = 'PostassaultBATHED' #Change feature within '' to desired feature"
      ],
      "execution_count": null,
      "outputs": []
    },
    {
      "cell_type": "code",
      "metadata": {
        "id": "X-nVT5QcxCXL"
      },
      "source": [
        "newDF = df[df[feature] != \"No Response\"] \n",
        "BONFERRONI = 0.00015923566878980894"
      ],
      "execution_count": null,
      "outputs": []
    },
    {
      "cell_type": "markdown",
      "metadata": {
        "id": "BhXFzpWjj4_Z"
      },
      "source": [
        "##Set-Up\n",
        "*See [IO notebook](https://colab.research.google.com/drive/1fuF8iahEqBFV62Y6OoiEViUqHo-DbXrT) for more information"
      ]
    },
    {
      "cell_type": "code",
      "metadata": {
        "colab": {
          "base_uri": "https://localhost:8080/"
        },
        "id": "GOXbuqRp0tEG",
        "cellView": "form",
        "outputId": "ada9293a-58e2-4679-bdae-887792e4fd80"
      },
      "source": [
        "import numpy as np\n",
        "import matplotlib.pyplot as plt\n",
        "import scipy.stats as stats\n",
        "\n",
        "#pulls up our SAK dataset\n",
        "#@title Upload Dataset\n",
        "file_id = \"13DLmmbYXonl9alHR4VobfeTuA_IxlQxZ\" #@param {type:\"string\"}\n",
        "!pip install -U -q PyDrive\n",
        "\n",
        "from pydrive.auth import GoogleAuth\n",
        "from pydrive.drive import GoogleDrive\n",
        "from google.colab import auth\n",
        "from oauth2client.client import GoogleCredentials\n",
        "\n",
        "auth.authenticate_user()\n",
        "gauth = GoogleAuth()\n",
        "gauth.credentials = GoogleCredentials.get_application_default()\n",
        "drive = GoogleDrive(gauth)\n",
        "\n",
        "from google.colab import auth\n",
        "auth.authenticate_user()\n",
        "\n",
        "from googleapiclient.discovery import build\n",
        "drive_service = build('drive', 'v3')\n",
        "\n",
        "import io\n",
        "from googleapiclient.http import MediaIoBaseDownload\n",
        "\n",
        "request = drive_service.files().get_media(fileId=file_id)\n",
        "downloaded = io.BytesIO()\n",
        "downloader = MediaIoBaseDownload(downloaded, request)\n",
        "done = False\n",
        "while done is False:\n",
        "  _, done = downloader.next_chunk()\n",
        "\n",
        "fileId = drive.CreateFile({'id': file_id }) #DRIVE_FILE_ID is file id example: 1iytA1n2z4go3uVCwE_vIKouTKyIDjEq\n",
        "print(fileId['title'])  \n",
        "fileId.GetContentFile(fileId['title'])  # Save Drive file as a local file\n",
        "\n",
        "!pip install -U scikit-learn\n",
        "\n",
        "from scipy.stats import chi2_contingency\n",
        "from scipy import stats\n",
        "import pandas as pd\n",
        "import numpy as np\n",
        "import seaborn as sns\n",
        "import matplotlib.pyplot as plt\n",
        "%matplotlib inline\n",
        "\n",
        "# To change scientific numbers to float\n",
        "np.set_printoptions(formatter={'float_kind':'{:f}'.format})\n",
        "\n",
        "with open(fileId['title'], encoding=\"utf8\", errors='ignore') as f:\n",
        "  df = pd.read_csv(f)\n",
        "\n",
        "df = df.apply(pd.to_numeric, errors='ignore')\n",
        "predictedVariable = \"CODISNDISeligibleProfile\"\n",
        "\n",
        "\n",
        "#delete rows that don't have a value for CODISNDISeligibleProfile\n",
        "\n",
        "predictedFeatures = ['CODISNDISeligibleProfile', 'SDISeligibleprofile']  \n",
        "\n",
        "numericalFeatures = ['Age', 'Timebetweenassaultandexaminhours', 'PainLevel', 'MulitipleSuspectNumber', \n",
        "                     'NumberofUnknownresponses', 'NumberAssaultiveActs', 'Numberofphysicalinjuries', 'Numberofgentialinjuries',\n",
        "                     'NumberOFitemsTested', 'TimeBetweenCollectAndDNAext', 'TimeBetweenSubmissionANDtesting', 'NumberOfswabsQuantMaleDNA',\n",
        "                     'NumberOfswabsDNAanalysis', 'NumberofSTRDNAloci', 'NumberOFswabsSTRDNAprofile', 'NumberOfYSTRDNAloci']\n",
        "\n",
        "categoricalFeatures = ['Site', 'EXAMbySANE', 'YearKitCollected', 'KITbroughtTOcrimelab', 'KITlengthofSubmissionTime',\n",
        "                       'UnderAge18', 'Gender', 'ExamDeclined', 'Noninterview', 'Race', 'PriorHxofSAover14',\n",
        "                       'PriorHxofSAunder14', 'Student', 'Military', 'Pain', 'PainLocation1','PainLocation2', \n",
        "                       'PainLocation3', 'PainLocation4','PainTreatment', 'PermanentAddress', 'CurrentPhysicalmedprob',\n",
        "                       'MedProbChronic', 'MedProbInfection', 'MedProbBlood', 'MedProbCardiac', 'MedProbEar', 'MedProbEndocrine',\n",
        "                       'MedProbEye', 'MedProbGI', 'MedProbGU', 'MedProbGYN', 'MedProbImmune', 'MedProbMusculoskeletal', 'MedProbNeurological',\n",
        "                       'MedProbOral', 'MedProbRenal', 'MedProbRespiratory', 'MedProbSkin', 'MedProbOther', 'Medication',\n",
        "                       'PsychotropicMEDuse', 'PsychotropicANTIPSYCHOTICSatypical', 'PsychotropicSTIMULANTuse', 'PsychotropicANTIANXIETY', \n",
        "                       'PsychotropicANTIDEPRESSANTS', 'PsychotropicANTISEIZUREbipolar', 'PsychotropicADDICTIONmeds','PsychotropicSLEEPaid', 'PsychotropicOTHER', \n",
        "                       'PsychotropicANTIPSYCHOTICStypical', 'PolypharmacyPsychMeds', 'ImmunizationstatusTETANUS', 'ReceivedTetanus',\n",
        "                       'ImmunizationstatusHEP', 'ReceivedHepB', 'Sexualcontactwithin120hours', 'Selfdisclosurementalillness', 'MIdepression',\n",
        "                       'MIanxiety', 'MIPTSD', 'MIpsychoticDisorders', 'MIadhd', 'MIpersonalitydisorder', 'MIbipolar', 'MIeatingdisorder', 'MIdrugalcoholdisorders', \n",
        "                       'MIother', 'SelfDiscolsureMentalillnessORuseofpsychotropics', 'OnlineMeetingOFsuspect', 'Suspectrelationship',\n",
        "                       'Locationofassault', 'PatientActionScratch', 'PatientActionBite', 'PatientActionHit', 'PatientActionKick', 'PatientActionOther',\n",
        "                       'Suspectrace', 'SuspectactionVERBAL', 'SuspectactionsGRABBEDHELD', 'SuspectactionsPHYSICALBLOWS', 'SuspectactionsSTRANGLEDCHOKED',\n",
        "                       'SuspectactionsWEAPON', 'SuspectactionsRESTRAINTS', 'SuspectactionsBURNED', 'MultipleSuspects', 'SuspectedDrugfacilitated',\n",
        "                       'Patientdruguse', 'PatientETOHuse', 'Suspectdruguse', 'SuspectETOHuse', 'PatientSuspectETOHordrug', 'LossOFconsciousnessORawareness',\n",
        "                       'OneORmoreunknownanswer', 'Unknownanswerto4ormorequestions', 'UnknownanswertoALL', 'AsleepANDawakenedtoassault', 'MemoryLoss',\n",
        "                       'LossOfconsciousness', 'DecreasedAwareness', 'TonicImmobility', 'Detachment', 'NOSApatientsVAGINApenis', 'NOSApatientsVAGINAfingerhand',\n",
        "                       'NOSApatientsVAGINAmouth', 'NOSApatientsVAGINAobject', 'NOSApatientsANUSpenis', 'NOSApatientsANUSfingerhand', 'NOSApatientsANUSmouth', \n",
        "                       'NOSApatientsANUSobject', 'NOSApatientsPENISgenitals', 'NOSApatientsPENISfinger', 'NOSApatientsPENISmouth', 'NOSApatientsPENISobject', \n",
        "                       'NOSApatientsMOUTHpenis', 'NOSApatientsMOUTHfinger', 'NOSApatientsMOUTHmouth', 'NOSApatientsMOUTHobject', 'SUSPECTmouthcontactGENITALS', \n",
        "                       'SUSPECTmouthcontactMOUTH', 'SUSPECTmouthcontactOTHER', 'HANDSofSuspectBreast', 'HANDSofSuspectExtremities', \n",
        "                       'HANDSofSuspectOther', 'Ejaculation', 'CONDOMuse', 'LUBRICATIONuse', 'SuspectWASHEDpatient', 'SuspectINJUREDbypatient', 'PostassaultURINATED', \n",
        "                       'PostassaultDEFECATED', 'PostassaultDOUCHED', 'PostassaultVOMITED', 'PostassaultGARGLED', 'PostassaultBRUSHEDTEETH', 'PostassaultATEdrank', \n",
        "                       'PostassaultBATHED', 'PostassaultGENITALWIPE', 'PostassaultCHANGEDCLOTHING', 'PostassaultREMOVEDInserted', 'PhysicalORmentalimpairment', 'Physicalinjury', \n",
        "                       'LPIhead', 'LPIneck', 'LPIbreasts', 'LPIchestback', 'LPIabdomen', 'LPIextremities', 'TPIlaceration', 'TPIecchymosis', 'TPIabrasion', 'TPIredness', \n",
        "                       'TPIswelling', 'TPIbruise', 'TPIpetechiae', 'TPIincision', 'TPIavulsion', 'TPIdiscoloredmark', 'TPIpuncturewound', 'TPIfracture', \n",
        "                       'TPIbitemark', 'TPIburn', 'TPImissingorbrokenTEETH', 'TPIconjunctivalhemorrhage', 'Genitalinjury', 'LGIinnerthighs', 'LGIclitoralhoodclitoris', \n",
        "                       'LGIlabiamajora', 'LGIlabiaminora', 'LGIperiurethraltissueURETHRA', 'LGIperihymenaltissue', 'LGIhymen', 'LGIvagina', 'LGIcervix', 'LGIfossanavicularis', \n",
        "                       'LGIposteriorfourchette', 'LGIperineum', 'LGIperineum', 'LGIanalrectal', 'LGIbuttocks', 'LGImalePerianalperineum', 'LGIglanspenis', 'LGIpenileshaft', \n",
        "                       'LGImaleURETHRALmeatus', 'LGIscrotum', 'LGItestes', 'LGImaleanus', 'LGImalerectum', 'TGIlaceration', 'TGIecchymosis', 'TGIabrasion', 'TGIredness', \n",
        "                       'TGIswelling', 'TGIbruise', 'TGIpetechiae', 'TGIincision', 'TGIavulsion', 'TGIdiscoloredmark', 'TGIpuncturewound', 'ToludineDYEuptake', 'HIVnPEP', \n",
        "                       'UQuikcollected', 'Yscreen', 'NumberItemsWITH3cutoff', 'ItemsAnalyzed1', 'ItemsAnalyzed2', 'ItemsAnalyzed3', 'ItemsAnalyzed4', 'ItemsAnalyzed5', \n",
        "                       'ItemsAnalyzed6', 'ItemsAnalyzed7', 'ItemsAnalyzed8', 'ItemsAnalyzed9', 'ItemsAnalyzed10', 'TypesOFitemsTested', 'RandomSample20142015', \n",
        "                       'YearofDNAextraction', 'LocationOfTesting','DANYfundedSAK', 'DNAKitUsed', 'SerologyDoneBeforeDNA', 'QuantMaleDNAFound', 'QuantMaleSwabLoc1', \n",
        "                       'QuantMaleSwabLoc2', 'QuantMaleSwabLoc3', 'QuantMaleSwabLoc4', 'QuantMaleSwabLoc5', 'ProbableSTRDNAprofileOFsuspect', 'ProfileofSTRDNAloci', 'ProbableYSTRDNAprofile', 'ProfileOfYSTRDNAloci', \n",
        "                       'SwabLocationYSTRDNA', 'SecondSwabLocationYSTRDNA', 'SwabFromSuspectwithVictimDNA', 'ExcludeSuspect', 'ConsensualPartnerStandardSubmitted', \n",
        "                       'STRDNAProbableprofileTYPE', 'CODISprofileHit', 'STRDNAkitUsed', 'SUSPECTmouthcontactBREASTS', 'Swab1LocationSTRDNAprofile', 'Swab2LocationSTRDNAprofile',\n",
        "                       'Swab3LocationSTRDNAprofile', 'SuspectStandardSubmitted', 'CODISNDISreasons', 'CODISSDISreasons']\n",
        "\n",
        "#unusedFeatures and stringFeatures are columns that contain data that was relevant to medical professionals and for legal purposes, \n",
        "#but that aren't useful for our feature association or for predicting eligibility\n",
        "unusedFeatures = ['filter_$', 'PainTreatmentYesNo', 'GenderMaleFemale', 'DVsuspect', 'RacePrimaryGroups', 'IPSAcombined', 'STRDNAcompleted', \n",
        "                  'PhysicalInjuryNOunknown', 'GenitalInjuryNOunknown']\n",
        "\n",
        "stringFeatures = ['DeIdentifiedCase', 'Raceother', 'SchoolName', 'MilitaryBranchName', 'AddressIfnotPermanent', 'Currentmedprobtext',\n",
        "                  'MedProbOtherText', 'Medicationtext', 'Sexualcontactwithin120hoursTYPE', 'SelfdisclosureMItype', 'OnlineMeetingName', 'SuspectrelationshipOTHER',\n",
        "                  'LocationofassaultOTHER', 'Surfaceofassault', 'PatientActionOtherTEXT', 'SuspectraceOTHER', 'SuspectOTHERactions', 'NOSApatientsVAGINAobjectdescription',\n",
        "                  'NOSApatientsANUSobjectdescription', 'NOSApatientsPENISobjectdescription', 'NOSApatientsMOUTHobjectdescription', 'EjaculationSITE', 'LUBRICATIONtype',\n",
        "                  'SuspectINJUREDbypatientexplanation', 'Impairmentdescription', 'UBFSnumber', 'ISPnumber', 'DateSubmittedUBFS', 'DateofDNAextractionReport',\n",
        "                  'BodySwabLocQuant', 'BodySwabDNAanalysis', 'BodySwabLocationSTRDNA', 'BodySwabYSTRDNA', 'ISPnotes2020', 'UBFSnotes2020', 'UBFSnotes2018', 'SUSPECTmouthcontactOTHERsite', 'UBFSnotes2014']\n",
        "\n",
        "dummy1 = pd.get_dummies(df['Swab1ToDNAanalysis'])\n",
        "dummy2 = pd.get_dummies(df['Swab2ToDNAanalysis'])\n",
        "dummy3 = pd.get_dummies(df['Swab3ToDNAanalysis'])\n",
        "dummy4 = pd.get_dummies(df['Swab4ToDNAanalysis'])\n",
        "\n",
        "dummy4['0'] = dummy1['0']\n",
        "dummy1['11'] = dummy2['11']\n",
        "dummy3['0'] = dummy1['0']\n",
        "\n",
        "newDummy = dummy1\n",
        "\n",
        "\n",
        "newDummy = newDummy.where(newDummy != 0, dummy2)\n",
        "newDummy = newDummy.where(newDummy != 0, dummy3)\n",
        "newDummy = newDummy.where(newDummy != 0, dummy4)\n",
        "\n",
        "# print(newDummy)\n",
        "df['SwabToDNAanalysisNoquantmaleDNAfound'] = newDummy['0'].astype('category')\n",
        "df['SwabToDNAanalysisVaginal'] = newDummy['1']\n",
        "df['SwabToDNAanalysisCervical'] = newDummy['2']\n",
        "df['SwabToDNAanalysisPerianal'] = newDummy['3']\n",
        "df['SwabToDNAanalysisRectal'] = newDummy['4']\n",
        "df['SwabToDNAanalysisOral'] = newDummy['5']\n",
        "df['SwabToDNAanalysisBody'] = newDummy['6']\n",
        "df['SwabToDNAanalysisUnderwear'] = newDummy['7']\n",
        "df['SwabToDNAanalysisOtherClothing'] = newDummy['8']\n",
        "df['SwabToDNAanalysisBedding'] = newDummy['9']\n",
        "df['SwabToDNAanalysisCondom'] = newDummy['10']\n",
        "df['SwabToDNAanalysisTampon'] = newDummy['11']\n",
        "\n",
        "swabToDNAFeatures = ['SwabToDNAanalysisNoquantmaleDNAfound', 'SwabToDNAanalysisVaginal', 'SwabToDNAanalysisCervical', 'SwabToDNAanalysisPerianal', 'SwabToDNAanalysisRectal', \n",
        "                     'SwabToDNAanalysisOral','SwabToDNAanalysisBody', 'SwabToDNAanalysisUnderwear', 'SwabToDNAanalysisOtherClothing', 'SwabToDNAanalysisBedding', \n",
        "                     'SwabToDNAanalysisCondom','SwabToDNAanalysisTampon' ]\n",
        "\n",
        "categoricalFeatures.extend(['SwabToDNAanalysisNoquantmaleDNAfound', 'SwabToDNAanalysisVaginal', 'SwabToDNAanalysisCervical', 'SwabToDNAanalysisPerianal', 'SwabToDNAanalysisRectal', \n",
        "                     'SwabToDNAanalysisOral','SwabToDNAanalysisBody', 'SwabToDNAanalysisUnderwear', 'SwabToDNAanalysisOtherClothing', 'SwabToDNAanalysisBedding', \n",
        "                     'SwabToDNAanalysisCondom','SwabToDNAanalysisTampon'])\n",
        "\n",
        "df = df.replace(r'^\\s+$', np.nan, regex=True)\n",
        "df = df.replace({np.nan: \"No Response\"})\n",
        "df = df.applymap(str)\n",
        "df = df[df[predictedVariable] != \"No Response\"]\n",
        "\n",
        "#Code to filter out all other genders\n",
        "df = df[df['Gender'] == '1'] #dataframe containing information from only female respondents"
      ],
      "execution_count": null,
      "outputs": [
        {
          "output_type": "stream",
          "name": "stdout",
          "text": [
            "MasterValentine_UpdatedCODIS_Feb12_2021.csv\n",
            "Requirement already satisfied: scikit-learn in /usr/local/lib/python3.7/dist-packages (0.22.2.post1)\n",
            "Collecting scikit-learn\n",
            "  Downloading scikit_learn-0.24.2-cp37-cp37m-manylinux2010_x86_64.whl (22.3 MB)\n",
            "\u001b[K     |████████████████████████████████| 22.3 MB 1.6 MB/s \n",
            "\u001b[?25hRequirement already satisfied: scipy>=0.19.1 in /usr/local/lib/python3.7/dist-packages (from scikit-learn) (1.4.1)\n",
            "Collecting threadpoolctl>=2.0.0\n",
            "  Downloading threadpoolctl-2.2.0-py3-none-any.whl (12 kB)\n",
            "Requirement already satisfied: joblib>=0.11 in /usr/local/lib/python3.7/dist-packages (from scikit-learn) (1.0.1)\n",
            "Requirement already satisfied: numpy>=1.13.3 in /usr/local/lib/python3.7/dist-packages (from scikit-learn) (1.19.5)\n",
            "Installing collected packages: threadpoolctl, scikit-learn\n",
            "  Attempting uninstall: scikit-learn\n",
            "    Found existing installation: scikit-learn 0.22.2.post1\n",
            "    Uninstalling scikit-learn-0.22.2.post1:\n",
            "      Successfully uninstalled scikit-learn-0.22.2.post1\n",
            "Successfully installed scikit-learn-0.24.2 threadpoolctl-2.2.0\n"
          ]
        },
        {
          "output_type": "stream",
          "name": "stderr",
          "text": [
            "/usr/local/lib/python3.7/dist-packages/IPython/core/interactiveshell.py:2718: DtypeWarning: Columns (0,1,2,3,4,5,9,301) have mixed types.Specify dtype option on import or set low_memory=False.\n",
            "  interactivity=interactivity, compiler=compiler, result=result)\n"
          ]
        }
      ]
    },
    {
      "cell_type": "markdown",
      "metadata": {
        "id": "oCGvHZbVVvN0"
      },
      "source": [
        "##Chi-Square, ANOVA, and Pearson R Functions\n",
        "This section contains the methods that run Chi-Square Test of Independence, ANOVA, and Pearson R"
      ]
    },
    {
      "cell_type": "code",
      "metadata": {
        "id": "MLSRleJ1xLrf"
      },
      "source": [
        "'''\n",
        "Performs Chi-Square Test of Independence on contingency table and places significantly associated features in a table\n",
        "  @return: void\n",
        "'''\n",
        "def chiSquare():\n",
        "  print(\"Entering Chi-Square\")\n",
        "  for f in categoricalFeatures:\n",
        "    if f != feature:\n",
        "      holder = newDF[newDF[f] != \"No Response\"]\n",
        "      # print(feature + \" and \" + f)\n",
        "      newContigency= pd.crosstab(holder[f], holder[feature])\n",
        "      c, p, dof, expected = chi2_contingency(newContigency) \n",
        "      # print(p)\n",
        "      if p <  BONFERRONI:\n",
        "          sigAssociation[f] = p"
      ],
      "execution_count": null,
      "outputs": []
    },
    {
      "cell_type": "code",
      "metadata": {
        "id": "Gz4iQKqgy6P-"
      },
      "source": [
        "'''\n",
        "Performs ANOVA testing and places significantly associated features in a table\n",
        "  @return: void\n",
        "'''\n",
        "def anova():\n",
        "  print(\"Entering ANOVA\")\n",
        "\n",
        "  #runs ANOVA with all numerical features and selected feature if the selected feature is categorical\n",
        "  if feature in categoricalFeatures:\n",
        "    for f in numericalFeatures:\n",
        "      if f != feature:\n",
        "        temp = pd.DataFrame()\n",
        "        temp[f] = newDF[f]\n",
        "        temp[feature] = newDF[feature]\n",
        "        temp = temp[temp[f] != \"No Response\"] \n",
        "        fvalue, pvalue = stats.f_oneway(temp[f], temp[feature])\n",
        "        if pvalue <  BONFERRONI:\n",
        "          sigAssociation[f] = pvalue\n",
        "        else:\n",
        "          print(pvalue)\n",
        "\n",
        "  #runs ANOVA with all categorical features and selected feature if the selected feature is numerical\n",
        "  else:\n",
        "    for f in categoricalFeatures:\n",
        "      temp = pd.DataFrame()\n",
        "      temp[f] = newDF[f]\n",
        "      temp[feature] = newDF[feature]\n",
        "      temp = temp[temp[f] != \"No Response\"] \n",
        "      fvalue, pvalue = stats.f_oneway(temp[feature], temp[f])\n",
        "      if pvalue <  BONFERRONI:\n",
        "        sigAssociation[f] = pvalue"
      ],
      "execution_count": null,
      "outputs": []
    },
    {
      "cell_type": "code",
      "metadata": {
        "id": "Bo5WD9GszILu"
      },
      "source": [
        "'''\n",
        "Performs Pearson R testing and places significantly associated features in a table\n",
        "  @return: void\n",
        "'''\n",
        "def pearsonR():\n",
        "  print(\"Entering Pearson R\")\n",
        "  for f in numericalFeatures:\n",
        "    if f != feature:\n",
        "      holder_df = pd.DataFrame()\n",
        "      holder_df[feature] = newDF[feature]\n",
        "      holder_df[f] = newDF[f]\n",
        "      holder_df = holder_df[holder_df[feature] != \"No Response\"]\n",
        "      holder_df = holder_df[holder_df[f] != \"No Response\"]\n",
        "      holder_df = holder_df.apply(pd.to_numeric) # convert all columns of DataFrame\n",
        "      r, p = stats.pearsonr(holder_df[f], holder_df[feature])\n",
        "    \n",
        "      if p <  BONFERRONI:\n",
        "          sigAssociation[f] = p"
      ],
      "execution_count": null,
      "outputs": []
    },
    {
      "cell_type": "markdown",
      "metadata": {
        "id": "UEuwh09Gjzih"
      },
      "source": [
        "The next block of code will determine if the selected feature is categorical or numerical and then run the corresponding functions on all other features"
      ]
    },
    {
      "cell_type": "code",
      "metadata": {
        "colab": {
          "base_uri": "https://localhost:8080/"
        },
        "id": "m56xJDqDx3y-",
        "outputId": "16c9f90e-604b-4a9d-ec60-d6b45dca1c09"
      },
      "source": [
        "sigAssociation = {}\n",
        "if feature in categoricalFeatures:\n",
        "  chiSquare() #run categorical vs categorical function\n",
        "  anova() #run categorical vs numerical\n",
        "else:\n",
        "  pearsonR() #run numerical vs numerical \n",
        "  anova() #run categorical vs numerical"
      ],
      "execution_count": null,
      "outputs": [
        {
          "output_type": "stream",
          "name": "stdout",
          "text": [
            "Entering Chi-Square\n",
            "Entering ANOVA\n"
          ]
        }
      ]
    },
    {
      "cell_type": "markdown",
      "metadata": {
        "id": "cmkmraIvVpvp"
      },
      "source": [
        "#Print Results\n",
        "Below is a table of all significantly associated features with the given feature"
      ]
    },
    {
      "cell_type": "code",
      "metadata": {
        "colab": {
          "base_uri": "https://localhost:8080/"
        },
        "id": "1Om2yLdVBbz6",
        "cellView": "form",
        "outputId": "940967fc-4801-455a-d51c-4b2c7d488e5a"
      },
      "source": [
        "#@title Associated Features\n",
        "#Prints P-Values for all features (both significant and insignificant)\n",
        "pd.set_option(\"display.max_rows\", None, \"display.max_columns\", None)\n",
        "table = pd.DataFrame(list(sigAssociation.items())) \n",
        "\n",
        "table = table.rename(columns={0: \"Feature\", 1: \"P-Value\"})\n",
        "table = table.sort_values(by=['P-Value'])\n",
        "\n",
        "print(table)\n",
        "table.to_csv(\"postAssaultBathed.csv\", index=False)"
      ],
      "execution_count": null,
      "outputs": [
        {
          "output_type": "stream",
          "name": "stdout",
          "text": [
            "                                  Feature        P-Value\n",
            "160                   NumberOFitemsTested   0.000000e+00\n",
            "165                    NumberofSTRDNAloci   0.000000e+00\n",
            "71             PostassaultREMOVEDInserted   0.000000e+00\n",
            "164              NumberOfswabsDNAanalysis   0.000000e+00\n",
            "163             NumberOfswabsQuantMaleDNA   0.000000e+00\n",
            "162       TimeBetweenSubmissionANDtesting   0.000000e+00\n",
            "161           TimeBetweenCollectAndDNAext   0.000000e+00\n",
            "67                PostassaultBRUSHEDTEETH   0.000000e+00\n",
            "154                             PainLevel   0.000000e+00\n",
            "69                 PostassaultGENITALWIPE   0.000000e+00\n",
            "152                                   Age   0.000000e+00\n",
            "63                   PostassaultDEFECATED   0.000000e+00\n",
            "153      Timebetweenassaultandexaminhours   0.000000e+00\n",
            "157                  NumberAssaultiveActs   0.000000e+00\n",
            "156              NumberofUnknownresponses   0.000000e+00\n",
            "65                     PostassaultVOMITED  2.305133e-292\n",
            "158              Numberofphysicalinjuries  1.402866e-287\n",
            "70             PostassaultCHANGEDCLOTHING  4.050855e-264\n",
            "38                             Detachment  3.038559e-236\n",
            "37                        TonicImmobility  2.627118e-229\n",
            "36                     DecreasedAwareness  1.871459e-205\n",
            "62                    PostassaultURINATED  4.028920e-203\n",
            "167                   NumberOfYSTRDNAloci  1.700282e-196\n",
            "155                MulitipleSuspectNumber  1.497864e-195\n",
            "34                             MemoryLoss  6.443010e-177\n",
            "33             AsleepANDawakenedtoassault  1.094611e-170\n",
            "159               Numberofgentialinjuries  7.300672e-143\n",
            "7             Sexualcontactwithin120hours  6.534226e-128\n",
            "64                     PostassaultDOUCHED  8.146159e-122\n",
            "68                    PostassaultATEdrank  6.074235e-105\n",
            "35                    LossOfconsciousness   1.782260e-94\n",
            "24                         Patientdruguse   1.783575e-89\n",
            "25                         PatientETOHuse   6.401449e-85\n",
            "66                     PostassaultGARGLED   1.595840e-84\n",
            "29         LossOFconsciousnessORawareness   1.648986e-82\n",
            "166            NumberOFswabsSTRDNAprofile   4.689604e-80\n",
            "22                       MultipleSuspects   2.088085e-57\n",
            "145                      CODISSDISreasons   2.732572e-57\n",
            "144                      CODISNDISreasons   4.930707e-57\n",
            "134                   ProfileofSTRDNAloci   1.396716e-56\n",
            "72             PhysicalORmentalimpairment   4.442889e-55\n",
            "128                            DNAKitUsed   5.020671e-54\n",
            "133        ProbableSTRDNAprofileOFsuspect   2.492171e-50\n",
            "130                     QuantMaleDNAFound   3.020960e-49\n",
            "23               SuspectedDrugfacilitated   8.252868e-48\n",
            "151                 SwabToDNAanalysisBody   1.350338e-44\n",
            "47                 NOSApatientsMOUTHpenis   1.010221e-39\n",
            "43                  NOSApatientsANUSpenis   1.108842e-37\n",
            "41                NOSApatientsVAGINAmouth   1.182940e-36\n",
            "142            Swab1LocationSTRDNAprofile   4.613646e-36\n",
            "39                NOSApatientsVAGINApenis   1.796964e-35\n",
            "131                     QuantMaleSwabLoc1   1.882045e-34\n",
            "51            SUSPECTmouthcontactGENITALS   3.556137e-33\n",
            "139                       CODISprofileHit   8.975095e-32\n",
            "148             SwabToDNAanalysisPerianal   1.353432e-31\n",
            "42               NOSApatientsVAGINAobject   1.189390e-29\n",
            "40           NOSApatientsVAGINAfingerhand   1.065049e-28\n",
            "32                     UnknownanswertoALL   1.023185e-27\n",
            "18          SuspectactionsSTRANGLEDCHOKED   1.035571e-25\n",
            "21                   SuspectactionsBURNED   1.889404e-25\n",
            "60                   SuspectWASHEDpatient   3.485230e-25\n",
            "146  SwabToDNAanalysisNoquantmaleDNAfound   9.664192e-24\n",
            "49                 NOSApatientsMOUTHmouth   7.260771e-23\n",
            "31        Unknownanswerto4ormorequestions   1.093465e-22\n",
            "52               SUSPECTmouthcontactMOUTH   4.028713e-21\n",
            "8                     Suspectrelationship   9.407910e-21\n",
            "9                       Locationofassault   1.887682e-20\n",
            "20               SuspectactionsRESTRAINTS   4.458796e-20\n",
            "17            SuspectactionsPHYSICALBLOWS   4.656927e-20\n",
            "58                              CONDOMuse   1.435142e-19\n",
            "2                    KITbroughtTOcrimelab   3.556712e-19\n",
            "50                NOSApatientsMOUTHobject   4.578514e-19\n",
            "48                NOSApatientsMOUTHfinger   5.118061e-19\n",
            "46                 NOSApatientsANUSobject   1.105497e-18\n",
            "141            SUSPECTmouthcontactBREASTS   1.550455e-18\n",
            "127                     LocationOfTesting   2.057078e-18\n",
            "19                   SuspectactionsWEAPON   2.625149e-18\n",
            "129                 SerologyDoneBeforeDNA   3.101969e-18\n",
            "30                 OneORmoreunknownanswer   9.072669e-18\n",
            "83                             TPIredness   1.251405e-17\n",
            "73                         Physicalinjury   1.327373e-17\n",
            "111                        LGIpenileshaft   1.953710e-17\n",
            "0                                    Site   9.860958e-17\n",
            "45                  NOSApatientsANUSmouth   1.023414e-16\n",
            "1                              EXAMbySANE   1.105181e-16\n",
            "53               SUSPECTmouthcontactOTHER   2.891936e-16\n",
            "96                          Genitalinjury   4.054955e-16\n",
            "16              SuspectactionsGRABBEDHELD   6.062532e-16\n",
            "103                              LGIhymen   7.493089e-16\n",
            "93                                TPIburn   7.991216e-16\n",
            "44             NOSApatientsANUSfingerhand   9.915846e-16\n",
            "91                            TPIfracture   1.057995e-14\n",
            "79                         LPIextremities   1.578235e-14\n",
            "55              HANDSofSuspectExtremities   2.187406e-14\n",
            "74                                LPIhead   2.380359e-14\n",
            "54                   HANDSofSuspectBreast   3.549527e-14\n",
            "106                   LGIfossanavicularis   4.467913e-14\n",
            "82                            TPIabrasion   1.266528e-13\n",
            "86                           TPIpetechiae   1.568592e-13\n",
            "57                            Ejaculation   2.795059e-13\n",
            "108                           LGIperineum   5.777527e-13\n",
            "56                    HANDSofSuspectOther   6.281335e-13\n",
            "94                TPImissingorbrokenTEETH   7.021083e-13\n",
            "147              SwabToDNAanalysisVaginal   7.363483e-13\n",
            "95              TPIconjunctivalhemorrhage   1.160021e-12\n",
            "107                LGIposteriorfourchette   1.179504e-12\n",
            "75                                LPIneck   1.936314e-12\n",
            "104                             LGIvagina   3.046536e-12\n",
            "84                            TPIswelling   9.657692e-12\n",
            "81                          TPIecchymosis   1.860489e-11\n",
            "92                            TPIbitemark   4.634945e-11\n",
            "140                         STRDNAkitUsed   5.212882e-11\n",
            "109                         LGIanalrectal   7.576476e-11\n",
            "15                    SuspectactionVERBAL   1.425703e-10\n",
            "90                       TPIpuncturewound   1.439706e-10\n",
            "115                           TGIabrasion   1.791012e-10\n",
            "59                         LUBRICATIONuse   1.901258e-10\n",
            "88                            TPIavulsion   1.907165e-10\n",
            "61                SuspectINJUREDbypatient   1.915601e-10\n",
            "102                  LGIperihymenaltissue   2.355062e-10\n",
            "28               PatientSuspectETOHordrug   2.647045e-10\n",
            "80                          TPIlaceration   2.698606e-10\n",
            "143              SuspectStandardSubmitted   3.034352e-10\n",
            "116                            TGIredness   3.083388e-10\n",
            "101          LGIperiurethraltissueURETHRA   3.886881e-10\n",
            "122                     TGIdiscoloredmark   5.494508e-10\n",
            "118                             TGIbruise   5.766824e-10\n",
            "114                         TGIecchymosis   7.417867e-10\n",
            "85                              TPIbruise   8.849247e-10\n",
            "105                             LGIcervix   9.902121e-10\n",
            "119                          TGIpetechiae   1.153470e-09\n",
            "89                      TPIdiscoloredmark   1.164355e-09\n",
            "117                           TGIswelling   1.347950e-09\n",
            "87                            TPIincision   1.947510e-09\n",
            "120                           TGIincision   2.559320e-09\n",
            "113                         TGIlaceration   2.796175e-09\n",
            "121                           TGIavulsion   3.201041e-09\n",
            "12                       PatientActionHit   3.209655e-09\n",
            "98                LGIclitoralhoodclitoris   3.683402e-09\n",
            "123                      TGIpuncturewound   5.403584e-09\n",
            "100                        LGIlabiaminora   1.115960e-08\n",
            "112                         LGImalerectum   2.002150e-08\n",
            "27                         SuspectETOHuse   2.251001e-08\n",
            "13                      PatientActionKick   5.809418e-08\n",
            "14                     PatientActionOther   6.558097e-08\n",
            "137          SwabFromSuspectwithVictimDNA   1.098158e-07\n",
            "124                NumberItemsWITH3cutoff   1.158676e-07\n",
            "132                     QuantMaleSwabLoc2   1.908248e-07\n",
            "77                           LPIchestback   3.502424e-07\n",
            "6                     MedProbNeurological   3.514245e-07\n",
            "11                      PatientActionBite   4.588869e-07\n",
            "99                         LGIlabiamajora   9.168045e-07\n",
            "149               SwabToDNAanalysisRectal   9.890665e-07\n",
            "138             STRDNAProbableprofileTYPE   1.329444e-06\n",
            "26                         Suspectdruguse   1.344571e-06\n",
            "4                           PainLocation3   1.436441e-06\n",
            "3               KITlengthofSubmissionTime   2.475862e-06\n",
            "10                   PatientActionScratch   2.960710e-06\n",
            "78                             LPIabdomen   4.299263e-06\n",
            "136                  ProfileOfYSTRDNAloci   5.448880e-06\n",
            "97                         LGIinnerthighs   1.944922e-05\n",
            "125                        ItemsAnalyzed2   2.400218e-05\n",
            "5                          MedProbCardiac   2.660304e-05\n",
            "110                           LGIbuttocks   5.456403e-05\n",
            "150                 SwabToDNAanalysisOral   6.725207e-05\n",
            "135                ProbableYSTRDNAprofile   7.079600e-05\n",
            "126                   YearofDNAextraction   7.721175e-05\n",
            "76                             LPIbreasts   1.489982e-04\n"
          ]
        }
      ]
    }
  ]
}
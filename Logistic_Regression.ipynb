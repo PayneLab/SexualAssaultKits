{
  "nbformat": 4,
  "nbformat_minor": 0,
  "metadata": {
    "colab": {
      "name": "Logistic Regression.ipynb",
      "provenance": [],
      "collapsed_sections": [
        "cL9ZuRE6rIZV",
        "oMTxV80OrIZg",
        "dxJgJKhNrIZh"
      ],
      "include_colab_link": true
    },
    "kernelspec": {
      "name": "python3",
      "display_name": "Python 3"
    }
  },
  "cells": [
    {
      "cell_type": "markdown",
      "metadata": {
        "id": "view-in-github",
        "colab_type": "text"
      },
      "source": [
        "<a href=\"https://colab.research.google.com/github/devorahst/Test/blob/main/Logistic_Regression.ipynb\" target=\"_parent\"><img src=\"https://colab.research.google.com/assets/colab-badge.svg\" alt=\"Open In Colab\"/></a>"
      ]
    },
    {
      "cell_type": "markdown",
      "metadata": {
        "id": "CM0HIZ_lkRhP"
      },
      "source": [
        "#Analysis of Factors that Influence the Likelihood a RapeKit Sample will Produce a Profile Eligible for Use in Law Enforcement and Criminal Justice"
      ]
    },
    {
      "cell_type": "markdown",
      "metadata": {
        "id": "fxZ4fP5Xr-4P"
      },
      "source": [
        "#Set Up"
      ]
    },
    {
      "cell_type": "markdown",
      "metadata": {
        "id": "G4aaCzlwe7ce"
      },
      "source": [
        "##Import relevant libraries"
      ]
    },
    {
      "cell_type": "code",
      "metadata": {
        "id": "U6mI96lENy-p"
      },
      "source": [
        "import statsmodels.api as sm\n",
        "import pandas as pd  \n",
        "import numpy as np\n",
        "from patsy import dmatrices"
      ],
      "execution_count": null,
      "outputs": []
    },
    {
      "cell_type": "code",
      "metadata": {
        "id": "MktX8_7LxZR4"
      },
      "source": [
        "\n",
        "from google.colab import auth\n",
        "auth.authenticate_user()\n",
        "import gspread\n",
        "from oauth2client.client import GoogleCredentials\n",
        "gc = gspread.authorize(GoogleCredentials.get_application_default())"
      ],
      "execution_count": null,
      "outputs": []
    },
    {
      "cell_type": "markdown",
      "metadata": {
        "id": "cL9ZuRE6rIZV"
      },
      "source": [
        "## Part 1. Upload\n",
        "First, we must download the dataset. Upon running the cell, you will be prompted to login to your Gmail account. You will then be provided with a one-time use code to copy and paste into the slot below. After hitting enter, the dataset will load into this script."
      ]
    },
    {
      "cell_type": "code",
      "metadata": {
        "colab": {
          "base_uri": "https://localhost:8080/"
        },
        "cellView": "form",
        "id": "sLQ6bAS2rIZe",
        "outputId": "42342596-364c-4c68-b068-a9627f7347b6"
      },
      "source": [
        "#pulls up our SAK dataset\n",
        "#@title uploader\n",
        "file_id = \"1lMSXIdMUQTZVOOk2wG-1awvPEIlypfxV\" #@param {type:\"string\"}\n",
        "!pip install -U -q PyDrive\n",
        "\n",
        "from pydrive.auth import GoogleAuth\n",
        "from pydrive.drive import GoogleDrive\n",
        "from google.colab import auth\n",
        "from oauth2client.client import GoogleCredentials\n",
        "\n",
        "auth.authenticate_user()\n",
        "gauth = GoogleAuth()\n",
        "gauth.credentials = GoogleCredentials.get_application_default()\n",
        "drive = GoogleDrive(gauth)\n",
        "\n",
        "from google.colab import auth\n",
        "auth.authenticate_user()\n",
        "\n",
        "from googleapiclient.discovery import build\n",
        "drive_service = build('drive', 'v3')\n",
        "\n",
        "import io\n",
        "from googleapiclient.http import MediaIoBaseDownload\n",
        "\n",
        "request = drive_service.files().get_media(fileId=file_id)\n",
        "downloaded = io.BytesIO()\n",
        "downloader = MediaIoBaseDownload(downloaded, request)\n",
        "done = False\n",
        "while done is False:\n",
        "  _, done = downloader.next_chunk()\n",
        "\n",
        "fileId = drive.CreateFile({'id': file_id }) #DRIVE_FILE_ID is file id example: 1iytA1n2z4go3uVCwE_vIKouTKyIDjEq\n",
        "print(fileId['title'])  \n",
        "fileId.GetContentFile(fileId['title'])  # Save Drive file as a local file"
      ],
      "execution_count": null,
      "outputs": [
        {
          "output_type": "stream",
          "name": "stdout",
          "text": [
            "DataFrame_corrected.csv\n"
          ]
        }
      ]
    },
    {
      "cell_type": "markdown",
      "metadata": {
        "id": "nvW2wvaFrIZg"
      },
      "source": [
        "## Part 2. Set Up\n",
        "1. Install and Import - Install SciKit-Learn and import necessary packages\n",
        "2. Clean the Dataset - Label the columns and replace null values with \"No Response\" and sort features based on type.\n",
        "3. Display Cleaned Dataset"
      ]
    },
    {
      "cell_type": "markdown",
      "metadata": {
        "id": "oMTxV80OrIZg"
      },
      "source": [
        "###1. Install and Import"
      ]
    },
    {
      "cell_type": "code",
      "metadata": {
        "colab": {
          "base_uri": "https://localhost:8080/"
        },
        "id": "xURiJD_BrIZg",
        "outputId": "3adeaab6-8110-4782-ecc9-801b1a6cf357"
      },
      "source": [
        "pip install -U scikit-learn"
      ],
      "execution_count": null,
      "outputs": [
        {
          "output_type": "stream",
          "name": "stdout",
          "text": [
            "Requirement already satisfied: scikit-learn in /usr/local/lib/python3.7/dist-packages (1.0.1)\n",
            "Requirement already satisfied: joblib>=0.11 in /usr/local/lib/python3.7/dist-packages (from scikit-learn) (1.1.0)\n",
            "Requirement already satisfied: threadpoolctl>=2.0.0 in /usr/local/lib/python3.7/dist-packages (from scikit-learn) (3.0.0)\n",
            "Requirement already satisfied: scipy>=1.1.0 in /usr/local/lib/python3.7/dist-packages (from scikit-learn) (1.4.1)\n",
            "Requirement already satisfied: numpy>=1.14.6 in /usr/local/lib/python3.7/dist-packages (from scikit-learn) (1.19.5)\n"
          ]
        }
      ]
    },
    {
      "cell_type": "code",
      "metadata": {
        "id": "-kkETGfurIZh"
      },
      "source": [
        "from scipy.stats import chi2_contingency\n",
        "from scipy import stats\n",
        "import pandas as pd\n",
        "import numpy as np\n",
        "import seaborn as sns\n",
        "import matplotlib.pyplot as plt\n",
        "%matplotlib inline\n",
        "\n",
        "# To change scientific numbers to float\n",
        "np.set_printoptions(formatter={'float_kind':'{:f}'.format})\n"
      ],
      "execution_count": null,
      "outputs": []
    },
    {
      "cell_type": "markdown",
      "metadata": {
        "id": "dxJgJKhNrIZh"
      },
      "source": [
        "###2. Read in File and Clean the Dataset\n",
        "\n"
      ]
    },
    {
      "cell_type": "markdown",
      "metadata": {
        "id": "cRiZVgZkrIZh"
      },
      "source": [
        "#####**Label the columns and replace null values with \"No Response\"**\n"
      ]
    },
    {
      "cell_type": "code",
      "metadata": {
        "colab": {
          "base_uri": "https://localhost:8080/"
        },
        "id": "rn-QwNaMrIZh",
        "outputId": "c45303ec-0477-4bb4-9e22-17c95abd249a"
      },
      "source": [
        "with open(fileId['title'], encoding=\"utf8\", errors='ignore') as f:\n",
        "  df = pd.read_csv(f)\n",
        "\n",
        "df = df.astype('string')\n",
        "df = df.replace(r'^\\s+$', np.nan, regex=True)\n",
        "df = df.replace({np.nan: \"No Response\"})\n",
        "\n",
        "df = df[df['ProfileofSTRDNAloci'] != \"No Response\"]\n",
        "df = df[df['CODISNDISeligibleProfile'] != \"No Response\"]\n",
        "\n",
        "df = df[df['Site'] != '6'] #filter out other state data\n",
        "df = df[df['Gender'] == '1']  #dataframe containing information from only female respondents\n",
        "\n",
        "#Add col showing STRDNA profile eligible/not eligible\n",
        "def makeContingency(row):\n",
        "  good_values = ['1','2']  \n",
        "  eligibility = row[\"ProfileofSTRDNAloci\"]\n",
        "  if eligibility in good_values:\n",
        "    return \"1\"\n",
        "  else:\n",
        "    return \"0\"\n",
        "\n",
        "\n",
        "df['STRDNAEligible'] = df.apply(makeContingency, axis=1)\n",
        "\n",
        "predictedVariable = \"STRDNAEligible\""
      ],
      "execution_count": null,
      "outputs": [
        {
          "output_type": "stream",
          "name": "stderr",
          "text": [
            "/usr/local/lib/python3.7/dist-packages/IPython/core/interactiveshell.py:2718: DtypeWarning: Columns (1,2,3,4,9,239,240,255,257,258,261,269,283,285,290,294,301,313) have mixed types.Specify dtype option on import or set low_memory=False.\n",
            "  interactivity=interactivity, compiler=compiler, result=result)\n"
          ]
        }
      ]
    },
    {
      "cell_type": "markdown",
      "metadata": {
        "id": "L0PBadxNrIZh"
      },
      "source": [
        "#####**Sort Features Based on Type**\n",
        "Because our features are not all categorical, we cannot calculate each feature's p-value using the same method. We must sort our features into numerical, categorical, and string entries and then apply the correct method to obtain each p-value. For categorical features, we will run chi-square tests while we will use analysis of variance (ANOVA) with T-Testing for numerical features. The meaning of the variables are all described in the [code book](https://drive.google.com/file/d/18PDTuK0lshc193lXA3b7UDgcRzMoEEGA/view?usp=sharing)."
      ]
    },
    {
      "cell_type": "code",
      "metadata": {
        "id": "4qORbFt9rIZh"
      },
      "source": [
        "predictedFeatures = ['CODISNDISeligibleProfile', 'SDISeligibleprofile']  \n",
        "\n",
        "numericalFeatures = ['Age', 'Timebetweenassaultandexaminhours', 'PainLevel', 'MulitipleSuspectNumber', \n",
        "                     'NumberofUnknownresponses', 'NumberAssaultiveActs', 'Numberofphysicalinjuries', 'Numberofgentialinjuries',\n",
        "                     'NumberOFitemsTested', 'TimeBetweenCollectAndDNAext', 'TimeBetweenSubmissionANDtesting', 'NumberOfswabsQuantMaleDNA',\n",
        "                     'NumberOfswabsDNAanalysis', 'NumberofSTRDNAloci', 'NumberOFswabsSTRDNAprofile', 'NumberOfYSTRDNAloci']\n",
        "\n",
        "categoricalFeatures = ['Site', 'EXAMbySANE', 'YearKitCollected', 'KITbroughtTOcrimelab', 'KITlengthofSubmissionTime',\n",
        "                       'UnderAge18', 'Gender', 'ExamDeclined', 'Noninterview', 'Race', 'PriorHxofSAover14',\n",
        "                       'PriorHxofSAunder14', 'Student', 'Military', 'Pain', 'PainLocation1','PainLocation2', \n",
        "                       'PainLocation3', 'PainLocation4','PainTreatment', 'PermanentAddress', 'CurrentPhysicalmedprob',\n",
        "                       'MedProbChronic', 'MedProbInfection', 'MedProbBlood', 'MedProbCardiac', 'MedProbEar', 'MedProbEndocrine',\n",
        "                       'MedProbEye', 'MedProbGI', 'MedProbGU', 'MedProbGYN', 'MedProbImmune', 'MedProbMusculoskeletal', 'MedProbNeurological',\n",
        "                       'MedProbOral', 'MedProbRenal', 'MedProbRespiratory', 'MedProbSkin', 'MedProbOther', 'Medication',\n",
        "                       'PsychotropicMEDuse', 'PsychotropicANTIPSYCHOTICSatypical', 'PsychotropicSTIMULANTuse', 'PsychotropicANTIANXIETY', \n",
        "                       'PsychotropicANTIDEPRESSANTS', 'PsychotropicANTISEIZUREbipolar', 'PsychotropicADDICTIONmeds','PsychotropicSLEEPaid', 'PsychotropicOTHER', \n",
        "                       'PsychotropicANTIPSYCHOTICStypical', 'PolypharmacyPsychMeds', 'ImmunizationstatusTETANUS', 'ReceivedTetanus',\n",
        "                       'ImmunizationstatusHEP', 'ReceivedHepB', 'Sexualcontactwithin120hours', 'Selfdisclosurementalillness', 'MIdepression',\n",
        "                       'MIanxiety', 'MIPTSD', 'MIpsychoticDisorders', 'MIadhd', 'MIpersonalitydisorder', 'MIbipolar', 'MIeatingdisorder', 'MIdrugalcoholdisorders', \n",
        "                       'MIother', 'SelfDiscolsureMentalillnessORuseofpsychotropics', 'OnlineMeetingOFsuspect', 'Suspectrelationship',\n",
        "                       'Locationofassault', 'PatientActionScratch', 'PatientActionBite', 'PatientActionHit', 'PatientActionKick', 'PatientActionOther',\n",
        "                       'Suspectrace', 'SuspectactionVERBAL', 'SuspectactionsGRABBEDHELD', 'SuspectactionsPHYSICALBLOWS', 'SuspectactionsSTRANGLEDCHOKED',\n",
        "                       'SuspectactionsWEAPON', 'SuspectactionsRESTRAINTS', 'SuspectactionsBURNED', 'MultipleSuspects', 'SuspectedDrugfacilitated',\n",
        "                       'Patientdruguse', 'PatientETOHuse', 'Suspectdruguse', 'SuspectETOHuse', 'PatientSuspectETOHordrug', 'LossOFconsciousnessORawareness',\n",
        "                       'OneORmoreunknownanswer', 'Unknownanswerto4ormorequestions', 'UnknownanswertoALL', 'AsleepANDawakenedtoassault', 'MemoryLoss',\n",
        "                       'LossOfconsciousness', 'DecreasedAwareness', 'TonicImmobility', 'Detachment', 'NOSApatientsVAGINApenis', 'NOSApatientsVAGINAfingerhand',\n",
        "                       'NOSApatientsVAGINAmouth', 'NOSApatientsVAGINAobject', 'NOSApatientsANUSpenis', 'NOSApatientsANUSfingerhand', 'NOSApatientsANUSmouth', \n",
        "                       'NOSApatientsANUSobject', 'NOSApatientsPENISgenitals', 'NOSApatientsPENISfinger', 'NOSApatientsPENISmouth', 'NOSApatientsPENISobject', \n",
        "                       'NOSApatientsMOUTHpenis', 'NOSApatientsMOUTHfinger', 'NOSApatientsMOUTHmouth', 'NOSApatientsMOUTHobject', 'SUSPECTmouthcontactGENITALS', \n",
        "                       'SUSPECTmouthcontactMOUTH', 'SUSPECTmouthcontactOTHER', 'SUSPECTmouthcontactOTHERsite', 'HANDSofSuspectBreast', 'HANDSofSuspectExtremities', \n",
        "                       'HANDSofSuspectOther', 'Ejaculation', 'CONDOMuse', 'LUBRICATIONuse', 'SuspectWASHEDpatient', 'SuspectINJUREDbypatient', 'PostassaultURINATED', \n",
        "                       'PostassaultDEFECATED', 'PostassaultDOUCHED', 'PostassaultVOMITED', 'PostassaultGARGLED', 'PostassaultBRUSHEDTEETH', 'PostassaultATEdrank', \n",
        "                       'PostassaultBATHED', 'PostassaultGENITALWIPE', 'PostassaultCHANGEDCLOTHING', 'PostassaultREMOVEDInserted', 'PhysicalORmentalimpairment', 'Physicalinjury', \n",
        "                       'LPIhead', 'LPIneck', 'LPIbreasts', 'LPIchestback', 'LPIabdomen', 'LPIextremities', 'TPIlaceration', 'TPIecchymosis', 'TPIabrasion', 'TPIredness', \n",
        "                       'TPIswelling', 'TPIbruise', 'TPIpetechiae', 'TPIincision', 'TPIavulsion', 'TPIdiscoloredmark', 'TPIpuncturewound', 'TPIfracture', \n",
        "                       'TPIbitemark', 'TPIburn', 'TPImissingorbrokenTEETH', 'TPIconjunctivalhemorrhage', 'Genitalinjury', 'LGIinnerthighs', 'LGIclitoralhoodclitoris', \n",
        "                       'LGIlabiamajora', 'LGIlabiaminora', 'LGIperiurethraltissueURETHRA', 'LGIperihymenaltissue', 'LGIhymen', 'LGIvagina', 'LGIcervix', 'LGIfossanavicularis', \n",
        "                       'LGIposteriorfourchette', 'LGIperineum', 'LGIperineum', 'LGIanalrectal', 'LGIbuttocks', 'LGImalePerianalperineum', 'LGIglanspenis', 'LGIpenileshaft', \n",
        "                       'LGImaleURETHRALmeatus', 'LGIscrotum', 'LGItestes', 'LGImaleanus', 'LGImalerectum', 'TGIlaceration', 'TGIecchymosis', 'TGIabrasion', 'TGIredness', \n",
        "                       'TGIswelling', 'TGIbruise', 'TGIpetechiae', 'TGIincision', 'TGIavulsion', 'TGIdiscoloredmark', 'TGIpuncturewound', 'ToludineDYEuptake', 'HIVnPEP', \n",
        "                       'UQuikcollected', 'Yscreen', 'NumberItemsWITH3cutoff', 'ItemsAnalyzed1', 'ItemsAnalyzed2', 'ItemsAnalyzed3', 'ItemsAnalyzed4', 'ItemsAnalyzed5', \n",
        "                       'ItemsAnalyzed6', 'ItemsAnalyzed7', 'ItemsAnalyzed8', 'ItemsAnalyzed9', 'ItemsAnalyzed10', 'TypesOFitemsTested', 'RandomSample20142015', \n",
        "                       'YearofDNAextraction', 'LocationOfTesting','DANYfundedSAK', 'DNAKitUsed', 'SerologyDoneBeforeDNA', 'QuantMaleDNAFound', 'QuantMaleSwabLoc1', \n",
        "                       'QuantMaleSwabLoc2', 'QuantMaleSwabLoc3', 'QuantMaleSwabLoc4', 'QuantMaleSwabLoc5', 'ProbableSTRDNAprofileOFsuspect', 'ProfileofSTRDNAloci', 'ProbableYSTRDNAprofile', 'ProfileOfYSTRDNAloci', \n",
        "                       'SwabLocationYSTRDNA', 'SecondSwabLocationYSTRDNA', 'SwabFromSuspectwithVictimDNA', 'ExcludeSuspect', 'ConsensualPartnerStandardSubmitted', \n",
        "                       'STRDNAProbableprofileTYPE', 'CODISprofileHit', 'STRDNAkitUsed', 'SUSPECTmouthcontactBREASTS', 'Swab1LocationSTRDNAprofile', 'Swab2LocationSTRDNAprofile',\n",
        "                       'Swab3LocationSTRDNAprofile', 'SuspectStandardSubmitted', 'CODISNDISreasons', 'CODISSDISreasons']\n",
        "swabToDNAFeatures = ['Swab1ToDNAanalysis', 'Swab2ToDNAanalysis', 'Swab3ToDNAanalysis', 'Swab4ToDNAanalysis']\n",
        "#unusedFeatures and stringFeatures are columns that contain data that was relevant to medical professionals and for legal purposes, \n",
        "#but that aren't useful for our feature association or for predicting eligibility\n",
        "unusedFeatures = ['filter_$', 'PainTreatmentYesNo', 'GenderMaleFemale', 'DVsuspect', 'RacePrimaryGroups', 'IPSAcombined', 'STRDNAcompleted', \n",
        "                  'PhysicalInjuryNOunknown', 'GenitalInjuryNOunknown']\n",
        "\n",
        "stringFeatures = ['DeIdentifiedCase', 'Raceother', 'SchoolName', 'MilitaryBranchName', 'AddressIfnotPermanent', 'Currentmedprobtext',\n",
        "                  'MedProbOtherText', 'Medicationtext', 'Sexualcontactwithin120hoursTYPE', 'SelfdisclosureMItype', 'OnlineMeetingName', 'SuspectrelationshipOTHER',\n",
        "                  'LocationofassaultOTHER', 'Surfaceofassault', 'PatientActionOtherTEXT', 'SuspectraceOTHER', 'SuspectOTHERactions', 'NOSApatientsVAGINAobjectdescription',\n",
        "                  'NOSApatientsANUSobjectdescription', 'NOSApatientsPENISobjectdescription', 'NOSApatientsMOUTHobjectdescription', 'EjaculationSITE', 'LUBRICATIONtype',\n",
        "                  'SuspectINJUREDbypatientexplanation', 'Impairmentdescription', 'UBFSnumber', 'ISPnumber', 'DateSubmittedUBFS', 'DateofDNAextractionReport',\n",
        "                  'BodySwabLocQuant', 'BodySwabDNAanalysis', 'BodySwabLocationSTRDNA', 'BodySwabYSTRDNA', 'ISPnotes2020', 'UBFSnotes2020', 'UBFSnotes2018', 'UBFSnotes2014']"
      ],
      "execution_count": null,
      "outputs": []
    },
    {
      "cell_type": "markdown",
      "metadata": {
        "id": "3HD9WEK_lxna"
      },
      "source": [
        "##Name and Clean the Variables for Use"
      ]
    },
    {
      "cell_type": "markdown",
      "metadata": {
        "id": "5Z7e1hd1hh2d"
      },
      "source": [
        "**Examine and Clean variables for use**"
      ]
    },
    {
      "cell_type": "code",
      "metadata": {
        "id": "cZ8KXjLbt-Hf"
      },
      "source": [
        "df = df.apply(pd.to_numeric, errors='ignore')"
      ],
      "execution_count": null,
      "outputs": []
    },
    {
      "cell_type": "code",
      "metadata": {
        "id": "s1ZZfQuNl8Kz"
      },
      "source": [
        "df = df.astype({'Site': int, 'EXAMbySANE': int, 'YearKitCollected': int, 'KITbroughtTOcrimelab': int, 'KITlengthofSubmissionTime': int, 'Age': str, 'UnderAge18': int, 'Gender': int, 'ExamDeclined': bool, 'Noninterview': bool, 'Timebetweenassaultandexaminhours': str, 'Race': int, 'Raceother': int, 'PriorHxofSAover14': bool, 'PriorHxofSAunder14': bool, 'Student': bool, 'SchoolName': str, 'Military': bool, 'MilitaryBranchName': str, 'Pain': bool, 'PainLevel': int, 'PainLocation1': int, 'PainLocation2': int, 'PainLocation3': int, 'PainLocation4': int, 'PainTreatment': bool}, errors='ignore') "
      ],
      "execution_count": null,
      "outputs": []
    },
    {
      "cell_type": "code",
      "metadata": {
        "colab": {
          "base_uri": "https://localhost:8080/"
        },
        "id": "eKRsytCVGWzl",
        "outputId": "905aa73a-8be0-4e24-c86d-2450edc49609"
      },
      "source": [
        "df['Timebetweenassaultandexaminhours_int'] = pd.to_numeric(df['Timebetweenassaultandexaminhours'], errors='coerce')\n",
        "\n",
        "def makeContingency(row):\n",
        "  value = row[\"Timebetweenassaultandexaminhours_int\"]\n",
        "  if value < 23:\n",
        "    return \"0\"\n",
        "  elif value < 47:\n",
        "    return \"1\"\n",
        "  elif value < 71:\n",
        "    return \"2\"\n",
        "  elif value < 95:\n",
        "    return \"3\"\n",
        "  elif value < 119:\n",
        "    return \"4\"\n",
        "  elif value < 900:\n",
        "    return \"5\"\n",
        "  else:\n",
        "    return \"6\"\n",
        "\n",
        "# 0 = \"Under 24 hours\"\n",
        "# 1 = \"1 Day\"\n",
        "# 2 = \"2 Days\" \n",
        "# 3 = \"3 Days\"\n",
        "# 4 = \"4 Days\"\n",
        "# 5 = \"5+ Days\"\n",
        "# 6 = \"nan\"\n",
        "\n",
        "df['timeBetweenAssaultAndExam'] = df.apply(makeContingency, axis=1)\n",
        "print(df['timeBetweenAssaultAndExam'].value_counts())\n",
        "\n",
        "df['timeBetweenAssaultAndExam'] = pd.to_numeric(df['timeBetweenAssaultAndExam'], errors='coerce')"
      ],
      "execution_count": null,
      "outputs": [
        {
          "output_type": "stream",
          "name": "stdout",
          "text": [
            "0    2813\n",
            "1     773\n",
            "2     338\n",
            "3     209\n",
            "4     115\n",
            "5      89\n",
            "6      66\n",
            "Name: timeBetweenAssaultAndExam, dtype: int64\n"
          ]
        }
      ]
    },
    {
      "cell_type": "code",
      "metadata": {
        "colab": {
          "base_uri": "https://localhost:8080/"
        },
        "id": "IMlLEx-UHWF7",
        "outputId": "78a9e686-e258-4f80-fb15-e151e0de2920"
      },
      "source": [
        "df['Age'] = pd.to_numeric(df['Age'], errors='coerce')\n",
        "def makeContingency(row):\n",
        "  value = row[\"Age\"]\n",
        "  if value < 20:\n",
        "    return \"0\"\n",
        "  elif value < 30:\n",
        "    return \"1\"\n",
        "  elif value < 40:\n",
        "    return \"2\"\n",
        "  elif value < 50:\n",
        "    return \"3\"\n",
        "  elif value < 60:\n",
        "    return \"4\"\n",
        "  else:\n",
        "    return \"6\"\n",
        "\n",
        "df['ageOfVictim'] = df.apply(makeContingency, axis=1)\n",
        "print(df['ageOfVictim'].value_counts())\n",
        "\n",
        "df['ageOfVictim'] = pd.to_numeric(df['ageOfVictim'], errors='coerce')"
      ],
      "execution_count": null,
      "outputs": [
        {
          "output_type": "stream",
          "name": "stdout",
          "text": [
            "1    1644\n",
            "0    1263\n",
            "2     866\n",
            "3     408\n",
            "4     155\n",
            "6      67\n",
            "Name: ageOfVictim, dtype: int64\n"
          ]
        }
      ]
    },
    {
      "cell_type": "code",
      "metadata": {
        "id": "qiUhAF6FdnAb"
      },
      "source": [
        "df['MemoryLoss'] = pd.to_numeric(df['MemoryLoss'], errors='coerce')\n",
        "df['MulitipleSuspectNumber'] = pd.to_numeric(df['MulitipleSuspectNumber'], errors='coerce')\n",
        "df['Sexualcontactwithin120hours'] = pd.to_numeric(df['Sexualcontactwithin120hours'], errors='coerce')\n",
        "df['Ejaculation'] = pd.to_numeric(df['Ejaculation'], errors='coerce')\n",
        "df['CONDOMuse'] = pd.to_numeric(df['CONDOMuse'], errors='coerce')\n",
        "df['PostassaultBATHED'] = pd.to_numeric(df['PostassaultBATHED'], errors='coerce')\n",
        "df['NOSApatientsVAGINApenis'] = pd.to_numeric(df['NOSApatientsVAGINApenis'], errors='coerce')\n",
        "df['NOSApatientsANUSpenis'] = pd.to_numeric(df['NOSApatientsANUSpenis'], errors='coerce')\n",
        "df['NOSApatientsMOUTHpenis'] = pd.to_numeric(df['NOSApatientsMOUTHpenis'], errors='coerce')\n",
        "df['SUSPECTmouthcontactGENITALS'] = pd.to_numeric(df['SUSPECTmouthcontactGENITALS'], errors='coerce')\n",
        "df['SUSPECTmouthcontactBREASTS'] = pd.to_numeric(df['SUSPECTmouthcontactBREASTS'], errors='coerce')\n",
        "df['SUSPECTmouthcontactOTHER'] = pd.to_numeric(df['SUSPECTmouthcontactOTHER'], errors='coerce')\n",
        "df['NOSApatientsVAGINAfingerhand'] = pd.to_numeric(df['NOSApatientsVAGINAfingerhand'], errors='coerce')\n",
        "df['SuspectactionsSTRANGLEDCHOKED'] = pd.to_numeric(df['SuspectactionsSTRANGLEDCHOKED'], errors='coerce')\n",
        "df['SuspectactionsPHYSICALBLOWS'] = pd.to_numeric(df['SuspectactionsPHYSICALBLOWS'], errors='coerce')\n",
        "df['SuspectactionsWEAPON'] = pd.to_numeric(df['SuspectactionsWEAPON'], errors='coerce')\n",
        "df['Genitalinjury'] = pd.to_numeric(df['Genitalinjury'], errors='coerce')\n",
        "df['Physicalinjury'] = pd.to_numeric(df['Physicalinjury'], errors='coerce')\n",
        "df['NumberAssaultiveActs'] = pd.to_numeric(df['NumberAssaultiveActs'], errors='coerce')"
      ],
      "execution_count": null,
      "outputs": []
    },
    {
      "cell_type": "code",
      "metadata": {
        "id": "rXnk2irvN03k"
      },
      "source": [
        "df['Site'] = pd.to_numeric(df['Site'], errors='coerce')"
      ],
      "execution_count": null,
      "outputs": []
    },
    {
      "cell_type": "code",
      "metadata": {
        "id": "SmTEchDBPoxG"
      },
      "source": [
        "df['YearKitCollected'] = pd.to_numeric(df['YearKitCollected'], errors='coerce')"
      ],
      "execution_count": null,
      "outputs": []
    },
    {
      "cell_type": "code",
      "metadata": {
        "id": "t37ah7juQgkJ"
      },
      "source": [
        "df['KITbroughtTOcrimelab'] = pd.to_numeric(df['KITbroughtTOcrimelab'], errors='coerce')"
      ],
      "execution_count": null,
      "outputs": []
    },
    {
      "cell_type": "code",
      "metadata": {
        "id": "csswliu2RtGq"
      },
      "source": [
        "df['UnderAge18'] = pd.to_numeric(df['UnderAge18'], errors='coerce')"
      ],
      "execution_count": null,
      "outputs": []
    },
    {
      "cell_type": "code",
      "metadata": {
        "id": "N-RhsJHLqS7B"
      },
      "source": [
        "df['Race'] = pd.to_numeric(df['Race'], errors='coerce')"
      ],
      "execution_count": null,
      "outputs": []
    },
    {
      "cell_type": "code",
      "metadata": {
        "id": "lHCsO_rIrhGo"
      },
      "source": [
        "df['MultipleSuspects'] = pd.to_numeric(df['MultipleSuspects'], errors='coerce')"
      ],
      "execution_count": null,
      "outputs": []
    },
    {
      "cell_type": "code",
      "metadata": {
        "id": "5sZbwKF0sljc"
      },
      "source": [
        "df['SuspectactionsGRABBEDHELD'] = pd.to_numeric(df['SuspectactionsGRABBEDHELD'], errors='coerce')"
      ],
      "execution_count": null,
      "outputs": []
    },
    {
      "cell_type": "markdown",
      "metadata": {
        "id": "TuCTYVzhJ4c5"
      },
      "source": [
        "#Logistic Model"
      ]
    },
    {
      "cell_type": "markdown",
      "metadata": {
        "id": "CsQa7h0qRkBo"
      },
      "source": [
        "Predict/Explain y (CODIS eligible profiles) as a function of X (all of the other variables that follow...time between assualt and examination, whether the swab was vaginal, etc. First we set up the equation, then we fit the model (mod.fit), then we print the results."
      ]
    },
    {
      "cell_type": "code",
      "metadata": {
        "id": "V5LG7hw3-Np6",
        "colab": {
          "base_uri": "https://localhost:8080/"
        },
        "outputId": "b569074c-1209-4d3e-ff96-15aecd9c0a9f"
      },
      "source": [
        "# first running a simple logistic regression\n",
        "# y, X = dmatrices('CODISNDISeligibleProfile ~ Gender + Age_cat', data=df, return_type='dataframe')\n",
        "# x is list of variables, y is predicted variable\n",
        "# set up log equation\n",
        "y, X = dmatrices('CODISNDISeligibleProfile ~ timeBetweenAssaultAndExam + ageOfVictim + MemoryLoss + MulitipleSuspectNumber + Sexualcontactwithin120hours + Ejaculation + CONDOMuse + PostassaultBATHED + NOSApatientsVAGINApenis + NOSApatientsANUSpenis + NOSApatientsMOUTHpenis + SUSPECTmouthcontactGENITALS + SUSPECTmouthcontactBREASTS + SUSPECTmouthcontactOTHER + NOSApatientsVAGINAfingerhand + SuspectactionsSTRANGLEDCHOKED + SuspectactionsPHYSICALBLOWS + SuspectactionsWEAPON + Genitalinjury + Physicalinjury + NumberAssaultiveActs', data=df, return_type='dataframe')\n",
        "\n",
        "mod = sm.Logit(y, X)    # Describe model\n",
        "res = mod.fit(method='bfgs')       # Fit model using standard method\n",
        "print(res.summary())\n"
      ],
      "execution_count": null,
      "outputs": [
        {
          "output_type": "stream",
          "name": "stdout",
          "text": [
            "Warning: Maximum number of iterations has been exceeded.\n",
            "         Current function value: 0.538968\n",
            "         Iterations: 35\n",
            "         Function evaluations: 37\n",
            "         Gradient evaluations: 37\n",
            "                              Logit Regression Results                              \n",
            "====================================================================================\n",
            "Dep. Variable:     CODISNDISeligibleProfile   No. Observations:                  368\n",
            "Model:                                Logit   Df Residuals:                      346\n",
            "Method:                                 MLE   Df Model:                           21\n",
            "Date:                      Thu, 11 Nov 2021   Pseudo R-squ.:                  0.1197\n",
            "Time:                              21:06:02   Log-Likelihood:                -198.34\n",
            "converged:                            False   LL-Null:                       -225.30\n",
            "Covariance Type:                  nonrobust   LLR p-value:                 0.0001011\n",
            "=================================================================================================\n",
            "                                    coef    std err          z      P>|z|      [0.025      0.975]\n",
            "-------------------------------------------------------------------------------------------------\n",
            "Intercept                        -0.1427      0.675     -0.211      0.833      -1.466       1.181\n",
            "timeBetweenAssaultAndExam        -0.2265      0.107     -2.120      0.034      -0.436      -0.017\n",
            "ageOfVictim                      -0.2296      0.115     -1.995      0.046      -0.455      -0.004\n",
            "MemoryLoss                        0.0286      0.309      0.093      0.926      -0.576       0.633\n",
            "MulitipleSuspectNumber           -0.0785      0.154     -0.511      0.609      -0.380       0.222\n",
            "Sexualcontactwithin120hours       0.3325      0.247      1.347      0.178      -0.151       0.816\n",
            "Ejaculation                       0.0817      0.216      0.379      0.705      -0.341       0.504\n",
            "CONDOMuse                        -0.3911      0.186     -2.103      0.035      -0.756      -0.027\n",
            "PostassaultBATHED                -0.9022      0.289     -3.119      0.002      -1.469      -0.335\n",
            "NOSApatientsVAGINApenis           0.4049      0.318      1.272      0.203      -0.219       1.028\n",
            "NOSApatientsANUSpenis            -0.2664      0.215     -1.239      0.215      -0.688       0.155\n",
            "NOSApatientsMOUTHpenis           -0.5803      0.265     -2.190      0.029      -1.100      -0.061\n",
            "SUSPECTmouthcontactGENITALS      -0.0515      0.257     -0.201      0.841      -0.555       0.452\n",
            "SUSPECTmouthcontactBREASTS        0.0627      0.239      0.263      0.793      -0.405       0.531\n",
            "SUSPECTmouthcontactOTHER          0.3000      0.248      1.212      0.226      -0.185       0.785\n",
            "NOSApatientsVAGINAfingerhand     -0.2679      0.257     -1.044      0.297      -0.771       0.235\n",
            "SuspectactionsSTRANGLEDCHOKED     0.5363      0.237      2.264      0.024       0.072       1.001\n",
            "SuspectactionsPHYSICALBLOWS      -0.3969      0.230     -1.727      0.084      -0.847       0.053\n",
            "SuspectactionsWEAPON              0.0682      0.189      0.360      0.719      -0.303       0.439\n",
            "Genitalinjury                     0.5816      0.259      2.243      0.025       0.073       1.090\n",
            "Physicalinjury                   -0.6111      0.351     -1.742      0.081      -1.298       0.076\n",
            "NumberAssaultiveActs              0.2265      0.124      1.823      0.068      -0.017       0.470\n",
            "=================================================================================================\n"
          ]
        },
        {
          "output_type": "stream",
          "name": "stderr",
          "text": [
            "/usr/local/lib/python3.7/dist-packages/statsmodels/base/model.py:512: ConvergenceWarning: Maximum Likelihood optimization failed to converge. Check mle_retvals\n",
            "  \"Check mle_retvals\", ConvergenceWarning)\n"
          ]
        }
      ]
    }
  ]
}